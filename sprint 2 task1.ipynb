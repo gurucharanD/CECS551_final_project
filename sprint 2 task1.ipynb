{
  "cells": [
    {
      "cell_type": "code",
      "execution_count": null,
      "metadata": {
        "id": "QtRjLViYa1oN"
      },
      "outputs": [],
      "source": [
        "\"\"\"\n",
        "Sprint2 of final project - srikanth\n",
        "\n",
        "\"\"\"\n",
        "\n",
        "\n",
        "import pandas as pd   \n",
        "import numpy as np\n",
        "\n",
        "\n",
        "\n",
        " # data manipulation\n",
        "import pandas as pd\n",
        "import numpy as np\n",
        "\n",
        "# data viz\n",
        "import matplotlib.pyplot as plt\n",
        "from matplotlib import rcParams\n",
        "import seaborn as sns\n",
        "\n",
        "# apply some cool styling\n",
        "plt.style.use(\"ggplot\")\n",
        "rcParams['figure.figsize'] = (12,  6)\n",
        "\n",
        "# use sklearn to import a dataset\n",
        "from sklearn.datasets import load_wine\n",
        "\n",
        "\n",
        "# import necessary libraries\n",
        "import pandas as pd\n",
        "import os\n",
        "import glob"
      ]
    },
    {
      "cell_type": "code",
      "execution_count": null,
      "metadata": {
        "colab": {
          "base_uri": "https://localhost:8080/"
        },
        "id": "NQw63nG_a1oQ",
        "outputId": "460a1bdd-63a7-4f08-cfd1-8261c3faf8ee"
      },
      "outputs": [
        {
          "output_type": "stream",
          "name": "stdout",
          "text": [
            "Mounted at /content/drive\n"
          ]
        }
      ],
      "source": [
        "from google.colab import drive\n",
        "drive.mount('/content/drive')"
      ]
    },
    {
      "cell_type": "code",
      "execution_count": null,
      "metadata": {
        "id": "r8YcPIxta1oR",
        "colab": {
          "base_uri": "https://localhost:8080/"
        },
        "outputId": "5f493465-9e97-4a7c-f847-b0c027e02098"
      },
      "outputs": [
        {
          "output_type": "stream",
          "name": "stdout",
          "text": [
            "/content/drive/MyDrive/AI/stores\n"
          ]
        }
      ],
      "source": [
        "path = \"/content/drive/MyDrive/AI/stores\"\n",
        "\n",
        "csv_files = glob.glob(os.path.join(path, \"*.csv\"))\n",
        "\n",
        "print(path)"
      ]
    },
    {
      "cell_type": "code",
      "execution_count": null,
      "metadata": {
        "id": "7qOiTNs3a1oS"
      },
      "outputs": [],
      "source": [
        "# data01=pd.read_csv('stores/store_01_copy.csv')\n",
        "# # print(data01.head())\n",
        "# print(data01.shape)\n",
        "\n",
        "# data02=pd.read_csv('stores/store_02_copy.csv')\n",
        "# # print(data02.head())\n",
        "# print(data02.shape)\n",
        "# # dfz_new= pd.merge(data01, data02)\n",
        "# dfz_new = dfz_new.append(data01,data02, ignore_index=True)\n",
        "# dfz_new.shape"
      ]
    },
    {
      "cell_type": "code",
      "execution_count": null,
      "metadata": {
        "colab": {
          "base_uri": "https://localhost:8080/"
        },
        "id": "9OIfKEXVa1oS",
        "outputId": "b2708320-5416-48ff-a6ff-dc1354f6a186"
      },
      "outputs": [
        {
          "output_type": "execute_result",
          "data": {
            "text/plain": [
              "['store_02_copy.csv',\n",
              " 'store_03_copy.csv',\n",
              " 'store_04_copy.csv',\n",
              " 'store_08_copy.csv',\n",
              " 'store_05_copy.csv',\n",
              " 'store_09_copy.csv',\n",
              " 'store_06_copy.csv',\n",
              " 'store_10_copy.csv',\n",
              " 'store_07_copy.csv',\n",
              " 'store_11_35_copy.csv',\n",
              " 'store_01_copy.csv']"
            ]
          },
          "metadata": {},
          "execution_count": 5
        }
      ],
      "source": [
        "#import the modules\n",
        "import os\n",
        "import pandas as pd\n",
        "#read the path\n",
        "file_path = \"/content/drive/MyDrive/AI/stores\"\n",
        "#list all the files from the directory\n",
        "file_list = os.listdir(file_path)\n",
        "file_list"
      ]
    },
    {
      "cell_type": "code",
      "execution_count": null,
      "metadata": {
        "colab": {
          "base_uri": "https://localhost:8080/",
          "height": 488
        },
        "id": "2RnO__hNa1oT",
        "outputId": "9a4c01b5-4d78-4342-c5e8-eaf9f2d43f7e"
      },
      "outputs": [
        {
          "output_type": "execute_result",
          "data": {
            "text/plain": [
              "      Store       Date  IsHoliday  Temperature  gas_price  \\\n",
              "0         2   2/5/2010      False        40.19      2.572   \n",
              "1         2  2/12/2010       True        38.49      2.548   \n",
              "2         2  2/19/2010      False        39.69      2.514   \n",
              "3         2  2/26/2010      False        46.10      2.561   \n",
              "4         2   3/5/2010      False        47.17      2.625   \n",
              "...     ...        ...        ...          ...        ...   \n",
              "6365      1  6/28/2013      False        83.94      3.495   \n",
              "6366      1   7/5/2013      False        79.85      3.422   \n",
              "6367      1  7/12/2013      False        83.12      3.400   \n",
              "6368      1  7/19/2013      False        79.26      3.556   \n",
              "6369      1  7/26/2013      False        81.54      3.620   \n",
              "\n",
              "      discount_promotional  discount_clearance  discount_damaged_good  \\\n",
              "0                      NaN                 NaN                    NaN   \n",
              "1                      NaN                 NaN                    NaN   \n",
              "2                      NaN                 NaN                    NaN   \n",
              "3                      NaN                 NaN                    NaN   \n",
              "4                      NaN                 NaN                    NaN   \n",
              "...                    ...                 ...                    ...   \n",
              "6365               4205.98              796.70                   6.84   \n",
              "6366               7649.99             3503.29                1766.77   \n",
              "6367               6089.94             1362.42                 209.62   \n",
              "6368               3117.04             1060.39                 199.05   \n",
              "6369                332.17              673.19                   1.00   \n",
              "\n",
              "      discount_competitive         CPI  Unemployment  \n",
              "0                      NaN  210.752605         7.057  \n",
              "1                      NaN  210.897994         7.057  \n",
              "2                      NaN  210.945160         7.057  \n",
              "3                      NaN  210.975957         7.057  \n",
              "4                      NaN  211.006754         6.891  \n",
              "...                    ...         ...           ...  \n",
              "6365               3816.78         NaN         7.057  \n",
              "6366               9454.96         NaN         7.057  \n",
              "6367               2367.42         NaN         7.057  \n",
              "6368               1012.30         NaN         7.057  \n",
              "6369                 38.63         NaN         7.057  \n",
              "\n",
              "[6370 rows x 11 columns]"
            ],
            "text/html": [
              "\n",
              "  <div id=\"df-ccfccbec-44dd-4118-9ed2-fb3c42d50544\">\n",
              "    <div class=\"colab-df-container\">\n",
              "      <div>\n",
              "<style scoped>\n",
              "    .dataframe tbody tr th:only-of-type {\n",
              "        vertical-align: middle;\n",
              "    }\n",
              "\n",
              "    .dataframe tbody tr th {\n",
              "        vertical-align: top;\n",
              "    }\n",
              "\n",
              "    .dataframe thead th {\n",
              "        text-align: right;\n",
              "    }\n",
              "</style>\n",
              "<table border=\"1\" class=\"dataframe\">\n",
              "  <thead>\n",
              "    <tr style=\"text-align: right;\">\n",
              "      <th></th>\n",
              "      <th>Store</th>\n",
              "      <th>Date</th>\n",
              "      <th>IsHoliday</th>\n",
              "      <th>Temperature</th>\n",
              "      <th>gas_price</th>\n",
              "      <th>discount_promotional</th>\n",
              "      <th>discount_clearance</th>\n",
              "      <th>discount_damaged_good</th>\n",
              "      <th>discount_competitive</th>\n",
              "      <th>CPI</th>\n",
              "      <th>Unemployment</th>\n",
              "    </tr>\n",
              "  </thead>\n",
              "  <tbody>\n",
              "    <tr>\n",
              "      <th>0</th>\n",
              "      <td>2</td>\n",
              "      <td>2/5/2010</td>\n",
              "      <td>False</td>\n",
              "      <td>40.19</td>\n",
              "      <td>2.572</td>\n",
              "      <td>NaN</td>\n",
              "      <td>NaN</td>\n",
              "      <td>NaN</td>\n",
              "      <td>NaN</td>\n",
              "      <td>210.752605</td>\n",
              "      <td>7.057</td>\n",
              "    </tr>\n",
              "    <tr>\n",
              "      <th>1</th>\n",
              "      <td>2</td>\n",
              "      <td>2/12/2010</td>\n",
              "      <td>True</td>\n",
              "      <td>38.49</td>\n",
              "      <td>2.548</td>\n",
              "      <td>NaN</td>\n",
              "      <td>NaN</td>\n",
              "      <td>NaN</td>\n",
              "      <td>NaN</td>\n",
              "      <td>210.897994</td>\n",
              "      <td>7.057</td>\n",
              "    </tr>\n",
              "    <tr>\n",
              "      <th>2</th>\n",
              "      <td>2</td>\n",
              "      <td>2/19/2010</td>\n",
              "      <td>False</td>\n",
              "      <td>39.69</td>\n",
              "      <td>2.514</td>\n",
              "      <td>NaN</td>\n",
              "      <td>NaN</td>\n",
              "      <td>NaN</td>\n",
              "      <td>NaN</td>\n",
              "      <td>210.945160</td>\n",
              "      <td>7.057</td>\n",
              "    </tr>\n",
              "    <tr>\n",
              "      <th>3</th>\n",
              "      <td>2</td>\n",
              "      <td>2/26/2010</td>\n",
              "      <td>False</td>\n",
              "      <td>46.10</td>\n",
              "      <td>2.561</td>\n",
              "      <td>NaN</td>\n",
              "      <td>NaN</td>\n",
              "      <td>NaN</td>\n",
              "      <td>NaN</td>\n",
              "      <td>210.975957</td>\n",
              "      <td>7.057</td>\n",
              "    </tr>\n",
              "    <tr>\n",
              "      <th>4</th>\n",
              "      <td>2</td>\n",
              "      <td>3/5/2010</td>\n",
              "      <td>False</td>\n",
              "      <td>47.17</td>\n",
              "      <td>2.625</td>\n",
              "      <td>NaN</td>\n",
              "      <td>NaN</td>\n",
              "      <td>NaN</td>\n",
              "      <td>NaN</td>\n",
              "      <td>211.006754</td>\n",
              "      <td>6.891</td>\n",
              "    </tr>\n",
              "    <tr>\n",
              "      <th>...</th>\n",
              "      <td>...</td>\n",
              "      <td>...</td>\n",
              "      <td>...</td>\n",
              "      <td>...</td>\n",
              "      <td>...</td>\n",
              "      <td>...</td>\n",
              "      <td>...</td>\n",
              "      <td>...</td>\n",
              "      <td>...</td>\n",
              "      <td>...</td>\n",
              "      <td>...</td>\n",
              "    </tr>\n",
              "    <tr>\n",
              "      <th>6365</th>\n",
              "      <td>1</td>\n",
              "      <td>6/28/2013</td>\n",
              "      <td>False</td>\n",
              "      <td>83.94</td>\n",
              "      <td>3.495</td>\n",
              "      <td>4205.98</td>\n",
              "      <td>796.70</td>\n",
              "      <td>6.84</td>\n",
              "      <td>3816.78</td>\n",
              "      <td>NaN</td>\n",
              "      <td>7.057</td>\n",
              "    </tr>\n",
              "    <tr>\n",
              "      <th>6366</th>\n",
              "      <td>1</td>\n",
              "      <td>7/5/2013</td>\n",
              "      <td>False</td>\n",
              "      <td>79.85</td>\n",
              "      <td>3.422</td>\n",
              "      <td>7649.99</td>\n",
              "      <td>3503.29</td>\n",
              "      <td>1766.77</td>\n",
              "      <td>9454.96</td>\n",
              "      <td>NaN</td>\n",
              "      <td>7.057</td>\n",
              "    </tr>\n",
              "    <tr>\n",
              "      <th>6367</th>\n",
              "      <td>1</td>\n",
              "      <td>7/12/2013</td>\n",
              "      <td>False</td>\n",
              "      <td>83.12</td>\n",
              "      <td>3.400</td>\n",
              "      <td>6089.94</td>\n",
              "      <td>1362.42</td>\n",
              "      <td>209.62</td>\n",
              "      <td>2367.42</td>\n",
              "      <td>NaN</td>\n",
              "      <td>7.057</td>\n",
              "    </tr>\n",
              "    <tr>\n",
              "      <th>6368</th>\n",
              "      <td>1</td>\n",
              "      <td>7/19/2013</td>\n",
              "      <td>False</td>\n",
              "      <td>79.26</td>\n",
              "      <td>3.556</td>\n",
              "      <td>3117.04</td>\n",
              "      <td>1060.39</td>\n",
              "      <td>199.05</td>\n",
              "      <td>1012.30</td>\n",
              "      <td>NaN</td>\n",
              "      <td>7.057</td>\n",
              "    </tr>\n",
              "    <tr>\n",
              "      <th>6369</th>\n",
              "      <td>1</td>\n",
              "      <td>7/26/2013</td>\n",
              "      <td>False</td>\n",
              "      <td>81.54</td>\n",
              "      <td>3.620</td>\n",
              "      <td>332.17</td>\n",
              "      <td>673.19</td>\n",
              "      <td>1.00</td>\n",
              "      <td>38.63</td>\n",
              "      <td>NaN</td>\n",
              "      <td>7.057</td>\n",
              "    </tr>\n",
              "  </tbody>\n",
              "</table>\n",
              "<p>6370 rows × 11 columns</p>\n",
              "</div>\n",
              "      <button class=\"colab-df-convert\" onclick=\"convertToInteractive('df-ccfccbec-44dd-4118-9ed2-fb3c42d50544')\"\n",
              "              title=\"Convert this dataframe to an interactive table.\"\n",
              "              style=\"display:none;\">\n",
              "        \n",
              "  <svg xmlns=\"http://www.w3.org/2000/svg\" height=\"24px\"viewBox=\"0 0 24 24\"\n",
              "       width=\"24px\">\n",
              "    <path d=\"M0 0h24v24H0V0z\" fill=\"none\"/>\n",
              "    <path d=\"M18.56 5.44l.94 2.06.94-2.06 2.06-.94-2.06-.94-.94-2.06-.94 2.06-2.06.94zm-11 1L8.5 8.5l.94-2.06 2.06-.94-2.06-.94L8.5 2.5l-.94 2.06-2.06.94zm10 10l.94 2.06.94-2.06 2.06-.94-2.06-.94-.94-2.06-.94 2.06-2.06.94z\"/><path d=\"M17.41 7.96l-1.37-1.37c-.4-.4-.92-.59-1.43-.59-.52 0-1.04.2-1.43.59L10.3 9.45l-7.72 7.72c-.78.78-.78 2.05 0 2.83L4 21.41c.39.39.9.59 1.41.59.51 0 1.02-.2 1.41-.59l7.78-7.78 2.81-2.81c.8-.78.8-2.07 0-2.86zM5.41 20L4 18.59l7.72-7.72 1.47 1.35L5.41 20z\"/>\n",
              "  </svg>\n",
              "      </button>\n",
              "      \n",
              "  <style>\n",
              "    .colab-df-container {\n",
              "      display:flex;\n",
              "      flex-wrap:wrap;\n",
              "      gap: 12px;\n",
              "    }\n",
              "\n",
              "    .colab-df-convert {\n",
              "      background-color: #E8F0FE;\n",
              "      border: none;\n",
              "      border-radius: 50%;\n",
              "      cursor: pointer;\n",
              "      display: none;\n",
              "      fill: #1967D2;\n",
              "      height: 32px;\n",
              "      padding: 0 0 0 0;\n",
              "      width: 32px;\n",
              "    }\n",
              "\n",
              "    .colab-df-convert:hover {\n",
              "      background-color: #E2EBFA;\n",
              "      box-shadow: 0px 1px 2px rgba(60, 64, 67, 0.3), 0px 1px 3px 1px rgba(60, 64, 67, 0.15);\n",
              "      fill: #174EA6;\n",
              "    }\n",
              "\n",
              "    [theme=dark] .colab-df-convert {\n",
              "      background-color: #3B4455;\n",
              "      fill: #D2E3FC;\n",
              "    }\n",
              "\n",
              "    [theme=dark] .colab-df-convert:hover {\n",
              "      background-color: #434B5C;\n",
              "      box-shadow: 0px 1px 3px 1px rgba(0, 0, 0, 0.15);\n",
              "      filter: drop-shadow(0px 1px 2px rgba(0, 0, 0, 0.3));\n",
              "      fill: #FFFFFF;\n",
              "    }\n",
              "  </style>\n",
              "\n",
              "      <script>\n",
              "        const buttonEl =\n",
              "          document.querySelector('#df-ccfccbec-44dd-4118-9ed2-fb3c42d50544 button.colab-df-convert');\n",
              "        buttonEl.style.display =\n",
              "          google.colab.kernel.accessAllowed ? 'block' : 'none';\n",
              "\n",
              "        async function convertToInteractive(key) {\n",
              "          const element = document.querySelector('#df-ccfccbec-44dd-4118-9ed2-fb3c42d50544');\n",
              "          const dataTable =\n",
              "            await google.colab.kernel.invokeFunction('convertToInteractive',\n",
              "                                                     [key], {});\n",
              "          if (!dataTable) return;\n",
              "\n",
              "          const docLinkHtml = 'Like what you see? Visit the ' +\n",
              "            '<a target=\"_blank\" href=https://colab.research.google.com/notebooks/data_table.ipynb>data table notebook</a>'\n",
              "            + ' to learn more about interactive tables.';\n",
              "          element.innerHTML = '';\n",
              "          dataTable['output_type'] = 'display_data';\n",
              "          await google.colab.output.renderOutput(dataTable, element);\n",
              "          const docLink = document.createElement('div');\n",
              "          docLink.innerHTML = docLinkHtml;\n",
              "          element.appendChild(docLink);\n",
              "        }\n",
              "      </script>\n",
              "    </div>\n",
              "  </div>\n",
              "  "
            ]
          },
          "metadata": {},
          "execution_count": 6
        }
      ],
      "source": [
        "df_append = pd.DataFrame()\n",
        "#append all files together\n",
        "for file in file_list:\n",
        "            df_temp = pd.read_csv(\"/content/drive/MyDrive/AI/stores/\"+file)\n",
        "            df_append = df_append.append(df_temp, ignore_index=True)\n",
        "df_append ## combined dataset:-\n",
        "\n"
      ]
    },
    {
      "cell_type": "code",
      "execution_count": null,
      "metadata": {
        "id": "6b0KXI7Za1oU"
      },
      "outputs": [],
      "source": []
    },
    {
      "cell_type": "code",
      "execution_count": null,
      "metadata": {
        "id": "sT2gH_XZa1oU"
      },
      "outputs": [],
      "source": []
    },
    {
      "cell_type": "markdown",
      "metadata": {
        "id": "dSNOPQK9a1oU"
      },
      "source": [
        "    1. Design a prediction model to forecast the weekly sales across first ten stores and use the same model to make predictions for store_11_35. There are external variables such as gas price, holidays, unemployment, and temperature for the given dataset. Evaluate the impact of these external variables on the accuracy of the model (do they help improve the accuracy?). Plot the relevant graphs. "
      ]
    },
    {
      "cell_type": "code",
      "execution_count": null,
      "metadata": {
        "colab": {
          "base_uri": "https://localhost:8080/",
          "height": 488
        },
        "id": "40hVGcgQa1oV",
        "outputId": "c36da977-82ab-40f1-9e95-9eccf6e1dc41"
      },
      "outputs": [
        {
          "output_type": "execute_result",
          "data": {
            "text/plain": [
              "      Store       Date  IsHoliday  Temperature  gas_price  \\\n",
              "0         2   2/5/2010      False        40.19      2.572   \n",
              "1         2  2/12/2010       True        38.49      2.548   \n",
              "2         2  2/19/2010      False        39.69      2.514   \n",
              "3         2  2/26/2010      False        46.10      2.561   \n",
              "4         2   3/5/2010      False        47.17      2.625   \n",
              "...     ...        ...        ...          ...        ...   \n",
              "6365      1  6/28/2013      False        83.94      3.495   \n",
              "6366      1   7/5/2013      False        79.85      3.422   \n",
              "6367      1  7/12/2013      False        83.12      3.400   \n",
              "6368      1  7/19/2013      False        79.26      3.556   \n",
              "6369      1  7/26/2013      False        81.54      3.620   \n",
              "\n",
              "      discount_promotional  discount_clearance  discount_damaged_good  \\\n",
              "0                      NaN                 NaN                    NaN   \n",
              "1                      NaN                 NaN                    NaN   \n",
              "2                      NaN                 NaN                    NaN   \n",
              "3                      NaN                 NaN                    NaN   \n",
              "4                      NaN                 NaN                    NaN   \n",
              "...                    ...                 ...                    ...   \n",
              "6365               4205.98              796.70                   6.84   \n",
              "6366               7649.99             3503.29                1766.77   \n",
              "6367               6089.94             1362.42                 209.62   \n",
              "6368               3117.04             1060.39                 199.05   \n",
              "6369                332.17              673.19                   1.00   \n",
              "\n",
              "      discount_competitive         CPI  Unemployment  \n",
              "0                      NaN  210.752605         7.057  \n",
              "1                      NaN  210.897994         7.057  \n",
              "2                      NaN  210.945160         7.057  \n",
              "3                      NaN  210.975957         7.057  \n",
              "4                      NaN  211.006754         6.891  \n",
              "...                    ...         ...           ...  \n",
              "6365               3816.78         NaN         7.057  \n",
              "6366               9454.96         NaN         7.057  \n",
              "6367               2367.42         NaN         7.057  \n",
              "6368               1012.30         NaN         7.057  \n",
              "6369                 38.63         NaN         7.057  \n",
              "\n",
              "[1820 rows x 11 columns]"
            ],
            "text/html": [
              "\n",
              "  <div id=\"df-d4884ced-1d59-4bd3-af9c-44d7604c1f77\">\n",
              "    <div class=\"colab-df-container\">\n",
              "      <div>\n",
              "<style scoped>\n",
              "    .dataframe tbody tr th:only-of-type {\n",
              "        vertical-align: middle;\n",
              "    }\n",
              "\n",
              "    .dataframe tbody tr th {\n",
              "        vertical-align: top;\n",
              "    }\n",
              "\n",
              "    .dataframe thead th {\n",
              "        text-align: right;\n",
              "    }\n",
              "</style>\n",
              "<table border=\"1\" class=\"dataframe\">\n",
              "  <thead>\n",
              "    <tr style=\"text-align: right;\">\n",
              "      <th></th>\n",
              "      <th>Store</th>\n",
              "      <th>Date</th>\n",
              "      <th>IsHoliday</th>\n",
              "      <th>Temperature</th>\n",
              "      <th>gas_price</th>\n",
              "      <th>discount_promotional</th>\n",
              "      <th>discount_clearance</th>\n",
              "      <th>discount_damaged_good</th>\n",
              "      <th>discount_competitive</th>\n",
              "      <th>CPI</th>\n",
              "      <th>Unemployment</th>\n",
              "    </tr>\n",
              "  </thead>\n",
              "  <tbody>\n",
              "    <tr>\n",
              "      <th>0</th>\n",
              "      <td>2</td>\n",
              "      <td>2/5/2010</td>\n",
              "      <td>False</td>\n",
              "      <td>40.19</td>\n",
              "      <td>2.572</td>\n",
              "      <td>NaN</td>\n",
              "      <td>NaN</td>\n",
              "      <td>NaN</td>\n",
              "      <td>NaN</td>\n",
              "      <td>210.752605</td>\n",
              "      <td>7.057</td>\n",
              "    </tr>\n",
              "    <tr>\n",
              "      <th>1</th>\n",
              "      <td>2</td>\n",
              "      <td>2/12/2010</td>\n",
              "      <td>True</td>\n",
              "      <td>38.49</td>\n",
              "      <td>2.548</td>\n",
              "      <td>NaN</td>\n",
              "      <td>NaN</td>\n",
              "      <td>NaN</td>\n",
              "      <td>NaN</td>\n",
              "      <td>210.897994</td>\n",
              "      <td>7.057</td>\n",
              "    </tr>\n",
              "    <tr>\n",
              "      <th>2</th>\n",
              "      <td>2</td>\n",
              "      <td>2/19/2010</td>\n",
              "      <td>False</td>\n",
              "      <td>39.69</td>\n",
              "      <td>2.514</td>\n",
              "      <td>NaN</td>\n",
              "      <td>NaN</td>\n",
              "      <td>NaN</td>\n",
              "      <td>NaN</td>\n",
              "      <td>210.945160</td>\n",
              "      <td>7.057</td>\n",
              "    </tr>\n",
              "    <tr>\n",
              "      <th>3</th>\n",
              "      <td>2</td>\n",
              "      <td>2/26/2010</td>\n",
              "      <td>False</td>\n",
              "      <td>46.10</td>\n",
              "      <td>2.561</td>\n",
              "      <td>NaN</td>\n",
              "      <td>NaN</td>\n",
              "      <td>NaN</td>\n",
              "      <td>NaN</td>\n",
              "      <td>210.975957</td>\n",
              "      <td>7.057</td>\n",
              "    </tr>\n",
              "    <tr>\n",
              "      <th>4</th>\n",
              "      <td>2</td>\n",
              "      <td>3/5/2010</td>\n",
              "      <td>False</td>\n",
              "      <td>47.17</td>\n",
              "      <td>2.625</td>\n",
              "      <td>NaN</td>\n",
              "      <td>NaN</td>\n",
              "      <td>NaN</td>\n",
              "      <td>NaN</td>\n",
              "      <td>211.006754</td>\n",
              "      <td>6.891</td>\n",
              "    </tr>\n",
              "    <tr>\n",
              "      <th>...</th>\n",
              "      <td>...</td>\n",
              "      <td>...</td>\n",
              "      <td>...</td>\n",
              "      <td>...</td>\n",
              "      <td>...</td>\n",
              "      <td>...</td>\n",
              "      <td>...</td>\n",
              "      <td>...</td>\n",
              "      <td>...</td>\n",
              "      <td>...</td>\n",
              "      <td>...</td>\n",
              "    </tr>\n",
              "    <tr>\n",
              "      <th>6365</th>\n",
              "      <td>1</td>\n",
              "      <td>6/28/2013</td>\n",
              "      <td>False</td>\n",
              "      <td>83.94</td>\n",
              "      <td>3.495</td>\n",
              "      <td>4205.98</td>\n",
              "      <td>796.70</td>\n",
              "      <td>6.84</td>\n",
              "      <td>3816.78</td>\n",
              "      <td>NaN</td>\n",
              "      <td>7.057</td>\n",
              "    </tr>\n",
              "    <tr>\n",
              "      <th>6366</th>\n",
              "      <td>1</td>\n",
              "      <td>7/5/2013</td>\n",
              "      <td>False</td>\n",
              "      <td>79.85</td>\n",
              "      <td>3.422</td>\n",
              "      <td>7649.99</td>\n",
              "      <td>3503.29</td>\n",
              "      <td>1766.77</td>\n",
              "      <td>9454.96</td>\n",
              "      <td>NaN</td>\n",
              "      <td>7.057</td>\n",
              "    </tr>\n",
              "    <tr>\n",
              "      <th>6367</th>\n",
              "      <td>1</td>\n",
              "      <td>7/12/2013</td>\n",
              "      <td>False</td>\n",
              "      <td>83.12</td>\n",
              "      <td>3.400</td>\n",
              "      <td>6089.94</td>\n",
              "      <td>1362.42</td>\n",
              "      <td>209.62</td>\n",
              "      <td>2367.42</td>\n",
              "      <td>NaN</td>\n",
              "      <td>7.057</td>\n",
              "    </tr>\n",
              "    <tr>\n",
              "      <th>6368</th>\n",
              "      <td>1</td>\n",
              "      <td>7/19/2013</td>\n",
              "      <td>False</td>\n",
              "      <td>79.26</td>\n",
              "      <td>3.556</td>\n",
              "      <td>3117.04</td>\n",
              "      <td>1060.39</td>\n",
              "      <td>199.05</td>\n",
              "      <td>1012.30</td>\n",
              "      <td>NaN</td>\n",
              "      <td>7.057</td>\n",
              "    </tr>\n",
              "    <tr>\n",
              "      <th>6369</th>\n",
              "      <td>1</td>\n",
              "      <td>7/26/2013</td>\n",
              "      <td>False</td>\n",
              "      <td>81.54</td>\n",
              "      <td>3.620</td>\n",
              "      <td>332.17</td>\n",
              "      <td>673.19</td>\n",
              "      <td>1.00</td>\n",
              "      <td>38.63</td>\n",
              "      <td>NaN</td>\n",
              "      <td>7.057</td>\n",
              "    </tr>\n",
              "  </tbody>\n",
              "</table>\n",
              "<p>1820 rows × 11 columns</p>\n",
              "</div>\n",
              "      <button class=\"colab-df-convert\" onclick=\"convertToInteractive('df-d4884ced-1d59-4bd3-af9c-44d7604c1f77')\"\n",
              "              title=\"Convert this dataframe to an interactive table.\"\n",
              "              style=\"display:none;\">\n",
              "        \n",
              "  <svg xmlns=\"http://www.w3.org/2000/svg\" height=\"24px\"viewBox=\"0 0 24 24\"\n",
              "       width=\"24px\">\n",
              "    <path d=\"M0 0h24v24H0V0z\" fill=\"none\"/>\n",
              "    <path d=\"M18.56 5.44l.94 2.06.94-2.06 2.06-.94-2.06-.94-.94-2.06-.94 2.06-2.06.94zm-11 1L8.5 8.5l.94-2.06 2.06-.94-2.06-.94L8.5 2.5l-.94 2.06-2.06.94zm10 10l.94 2.06.94-2.06 2.06-.94-2.06-.94-.94-2.06-.94 2.06-2.06.94z\"/><path d=\"M17.41 7.96l-1.37-1.37c-.4-.4-.92-.59-1.43-.59-.52 0-1.04.2-1.43.59L10.3 9.45l-7.72 7.72c-.78.78-.78 2.05 0 2.83L4 21.41c.39.39.9.59 1.41.59.51 0 1.02-.2 1.41-.59l7.78-7.78 2.81-2.81c.8-.78.8-2.07 0-2.86zM5.41 20L4 18.59l7.72-7.72 1.47 1.35L5.41 20z\"/>\n",
              "  </svg>\n",
              "      </button>\n",
              "      \n",
              "  <style>\n",
              "    .colab-df-container {\n",
              "      display:flex;\n",
              "      flex-wrap:wrap;\n",
              "      gap: 12px;\n",
              "    }\n",
              "\n",
              "    .colab-df-convert {\n",
              "      background-color: #E8F0FE;\n",
              "      border: none;\n",
              "      border-radius: 50%;\n",
              "      cursor: pointer;\n",
              "      display: none;\n",
              "      fill: #1967D2;\n",
              "      height: 32px;\n",
              "      padding: 0 0 0 0;\n",
              "      width: 32px;\n",
              "    }\n",
              "\n",
              "    .colab-df-convert:hover {\n",
              "      background-color: #E2EBFA;\n",
              "      box-shadow: 0px 1px 2px rgba(60, 64, 67, 0.3), 0px 1px 3px 1px rgba(60, 64, 67, 0.15);\n",
              "      fill: #174EA6;\n",
              "    }\n",
              "\n",
              "    [theme=dark] .colab-df-convert {\n",
              "      background-color: #3B4455;\n",
              "      fill: #D2E3FC;\n",
              "    }\n",
              "\n",
              "    [theme=dark] .colab-df-convert:hover {\n",
              "      background-color: #434B5C;\n",
              "      box-shadow: 0px 1px 3px 1px rgba(0, 0, 0, 0.15);\n",
              "      filter: drop-shadow(0px 1px 2px rgba(0, 0, 0, 0.3));\n",
              "      fill: #FFFFFF;\n",
              "    }\n",
              "  </style>\n",
              "\n",
              "      <script>\n",
              "        const buttonEl =\n",
              "          document.querySelector('#df-d4884ced-1d59-4bd3-af9c-44d7604c1f77 button.colab-df-convert');\n",
              "        buttonEl.style.display =\n",
              "          google.colab.kernel.accessAllowed ? 'block' : 'none';\n",
              "\n",
              "        async function convertToInteractive(key) {\n",
              "          const element = document.querySelector('#df-d4884ced-1d59-4bd3-af9c-44d7604c1f77');\n",
              "          const dataTable =\n",
              "            await google.colab.kernel.invokeFunction('convertToInteractive',\n",
              "                                                     [key], {});\n",
              "          if (!dataTable) return;\n",
              "\n",
              "          const docLinkHtml = 'Like what you see? Visit the ' +\n",
              "            '<a target=\"_blank\" href=https://colab.research.google.com/notebooks/data_table.ipynb>data table notebook</a>'\n",
              "            + ' to learn more about interactive tables.';\n",
              "          element.innerHTML = '';\n",
              "          dataTable['output_type'] = 'display_data';\n",
              "          await google.colab.output.renderOutput(dataTable, element);\n",
              "          const docLink = document.createElement('div');\n",
              "          docLink.innerHTML = docLinkHtml;\n",
              "          element.appendChild(docLink);\n",
              "        }\n",
              "      </script>\n",
              "    </div>\n",
              "  </div>\n",
              "  "
            ]
          },
          "metadata": {},
          "execution_count": 7
        }
      ],
      "source": [
        "df_append['Store'].value_counts()\n",
        "## taking only the first ten stores for designing the prediction model:-\n",
        "df_train=df_append.loc[df_append['Store']<11]\n",
        "# df_train['Store'].value_counts()\n",
        "# df_train.shape\n",
        "# df_train.loc[df_train['Store']==10].tail()\n",
        "# df_train.tail()\n",
        "df_train"
      ]
    },
    {
      "cell_type": "code",
      "execution_count": null,
      "metadata": {
        "colab": {
          "base_uri": "https://localhost:8080/",
          "height": 414
        },
        "id": "1oBKpBnPa1oV",
        "outputId": "b88f9b04-1fa1-43d5-e97b-5e79fed1e6e1"
      },
      "outputs": [
        {
          "output_type": "stream",
          "name": "stdout",
          "text": [
            "(421570, 5)\n",
            "10    10315\n",
            "4     10272\n",
            "1     10244\n",
            "2     10238\n",
            "6     10211\n",
            "8      9895\n",
            "7      9762\n",
            "3      9036\n",
            "5      8999\n",
            "9      8867\n",
            "Name: Store, dtype: int64\n"
          ]
        },
        {
          "output_type": "execute_result",
          "data": {
            "text/plain": [
              "       Store  Dept        Date  Weekly_Sales  IsHoliday\n",
              "97834     10    98  2012-09-28         22.34      False\n",
              "97835     10    98  2012-10-05        789.38      False\n",
              "97836     10    98  2012-10-12        477.24      False\n",
              "97837     10    98  2012-10-19        578.46      False\n",
              "97838     10    98  2012-10-26        560.02      False"
            ],
            "text/html": [
              "\n",
              "  <div id=\"df-ba4817a9-d4a5-4178-ac02-810111cfb0a5\">\n",
              "    <div class=\"colab-df-container\">\n",
              "      <div>\n",
              "<style scoped>\n",
              "    .dataframe tbody tr th:only-of-type {\n",
              "        vertical-align: middle;\n",
              "    }\n",
              "\n",
              "    .dataframe tbody tr th {\n",
              "        vertical-align: top;\n",
              "    }\n",
              "\n",
              "    .dataframe thead th {\n",
              "        text-align: right;\n",
              "    }\n",
              "</style>\n",
              "<table border=\"1\" class=\"dataframe\">\n",
              "  <thead>\n",
              "    <tr style=\"text-align: right;\">\n",
              "      <th></th>\n",
              "      <th>Store</th>\n",
              "      <th>Dept</th>\n",
              "      <th>Date</th>\n",
              "      <th>Weekly_Sales</th>\n",
              "      <th>IsHoliday</th>\n",
              "    </tr>\n",
              "  </thead>\n",
              "  <tbody>\n",
              "    <tr>\n",
              "      <th>97834</th>\n",
              "      <td>10</td>\n",
              "      <td>98</td>\n",
              "      <td>2012-09-28</td>\n",
              "      <td>22.34</td>\n",
              "      <td>False</td>\n",
              "    </tr>\n",
              "    <tr>\n",
              "      <th>97835</th>\n",
              "      <td>10</td>\n",
              "      <td>98</td>\n",
              "      <td>2012-10-05</td>\n",
              "      <td>789.38</td>\n",
              "      <td>False</td>\n",
              "    </tr>\n",
              "    <tr>\n",
              "      <th>97836</th>\n",
              "      <td>10</td>\n",
              "      <td>98</td>\n",
              "      <td>2012-10-12</td>\n",
              "      <td>477.24</td>\n",
              "      <td>False</td>\n",
              "    </tr>\n",
              "    <tr>\n",
              "      <th>97837</th>\n",
              "      <td>10</td>\n",
              "      <td>98</td>\n",
              "      <td>2012-10-19</td>\n",
              "      <td>578.46</td>\n",
              "      <td>False</td>\n",
              "    </tr>\n",
              "    <tr>\n",
              "      <th>97838</th>\n",
              "      <td>10</td>\n",
              "      <td>98</td>\n",
              "      <td>2012-10-26</td>\n",
              "      <td>560.02</td>\n",
              "      <td>False</td>\n",
              "    </tr>\n",
              "  </tbody>\n",
              "</table>\n",
              "</div>\n",
              "      <button class=\"colab-df-convert\" onclick=\"convertToInteractive('df-ba4817a9-d4a5-4178-ac02-810111cfb0a5')\"\n",
              "              title=\"Convert this dataframe to an interactive table.\"\n",
              "              style=\"display:none;\">\n",
              "        \n",
              "  <svg xmlns=\"http://www.w3.org/2000/svg\" height=\"24px\"viewBox=\"0 0 24 24\"\n",
              "       width=\"24px\">\n",
              "    <path d=\"M0 0h24v24H0V0z\" fill=\"none\"/>\n",
              "    <path d=\"M18.56 5.44l.94 2.06.94-2.06 2.06-.94-2.06-.94-.94-2.06-.94 2.06-2.06.94zm-11 1L8.5 8.5l.94-2.06 2.06-.94-2.06-.94L8.5 2.5l-.94 2.06-2.06.94zm10 10l.94 2.06.94-2.06 2.06-.94-2.06-.94-.94-2.06-.94 2.06-2.06.94z\"/><path d=\"M17.41 7.96l-1.37-1.37c-.4-.4-.92-.59-1.43-.59-.52 0-1.04.2-1.43.59L10.3 9.45l-7.72 7.72c-.78.78-.78 2.05 0 2.83L4 21.41c.39.39.9.59 1.41.59.51 0 1.02-.2 1.41-.59l7.78-7.78 2.81-2.81c.8-.78.8-2.07 0-2.86zM5.41 20L4 18.59l7.72-7.72 1.47 1.35L5.41 20z\"/>\n",
              "  </svg>\n",
              "      </button>\n",
              "      \n",
              "  <style>\n",
              "    .colab-df-container {\n",
              "      display:flex;\n",
              "      flex-wrap:wrap;\n",
              "      gap: 12px;\n",
              "    }\n",
              "\n",
              "    .colab-df-convert {\n",
              "      background-color: #E8F0FE;\n",
              "      border: none;\n",
              "      border-radius: 50%;\n",
              "      cursor: pointer;\n",
              "      display: none;\n",
              "      fill: #1967D2;\n",
              "      height: 32px;\n",
              "      padding: 0 0 0 0;\n",
              "      width: 32px;\n",
              "    }\n",
              "\n",
              "    .colab-df-convert:hover {\n",
              "      background-color: #E2EBFA;\n",
              "      box-shadow: 0px 1px 2px rgba(60, 64, 67, 0.3), 0px 1px 3px 1px rgba(60, 64, 67, 0.15);\n",
              "      fill: #174EA6;\n",
              "    }\n",
              "\n",
              "    [theme=dark] .colab-df-convert {\n",
              "      background-color: #3B4455;\n",
              "      fill: #D2E3FC;\n",
              "    }\n",
              "\n",
              "    [theme=dark] .colab-df-convert:hover {\n",
              "      background-color: #434B5C;\n",
              "      box-shadow: 0px 1px 3px 1px rgba(0, 0, 0, 0.15);\n",
              "      filter: drop-shadow(0px 1px 2px rgba(0, 0, 0, 0.3));\n",
              "      fill: #FFFFFF;\n",
              "    }\n",
              "  </style>\n",
              "\n",
              "      <script>\n",
              "        const buttonEl =\n",
              "          document.querySelector('#df-ba4817a9-d4a5-4178-ac02-810111cfb0a5 button.colab-df-convert');\n",
              "        buttonEl.style.display =\n",
              "          google.colab.kernel.accessAllowed ? 'block' : 'none';\n",
              "\n",
              "        async function convertToInteractive(key) {\n",
              "          const element = document.querySelector('#df-ba4817a9-d4a5-4178-ac02-810111cfb0a5');\n",
              "          const dataTable =\n",
              "            await google.colab.kernel.invokeFunction('convertToInteractive',\n",
              "                                                     [key], {});\n",
              "          if (!dataTable) return;\n",
              "\n",
              "          const docLinkHtml = 'Like what you see? Visit the ' +\n",
              "            '<a target=\"_blank\" href=https://colab.research.google.com/notebooks/data_table.ipynb>data table notebook</a>'\n",
              "            + ' to learn more about interactive tables.';\n",
              "          element.innerHTML = '';\n",
              "          dataTable['output_type'] = 'display_data';\n",
              "          await google.colab.output.renderOutput(dataTable, element);\n",
              "          const docLink = document.createElement('div');\n",
              "          docLink.innerHTML = docLinkHtml;\n",
              "          element.appendChild(docLink);\n",
              "        }\n",
              "      </script>\n",
              "    </div>\n",
              "  </div>\n",
              "  "
            ]
          },
          "metadata": {},
          "execution_count": 8
        }
      ],
      "source": [
        "s1=pd.read_csv(\"/content/drive/MyDrive/AI/\"+'train.csv')\n",
        "s1.head()\n",
        "# s1.shape\n",
        "s1.tail()\n",
        "print(s1.shape)\n",
        "# print(s1['Store'].value_counts())\n",
        "\n",
        "s1=s1.loc[s1['Store']<11]\n",
        "s1.shape\n",
        "print(s1['Store'].value_counts())\n",
        "s1.tail()\n"
      ]
    },
    {
      "cell_type": "markdown",
      "metadata": {
        "id": "Kt9v_HFpa1oW"
      },
      "source": [
        "\n",
        "could not be merged with the train.csv dataset; since the datas are given till 2012; whereas; all the data from the stores go till 2013."
      ]
    },
    {
      "cell_type": "code",
      "execution_count": null,
      "metadata": {
        "id": "q5_3XGYna1oW"
      },
      "outputs": [],
      "source": [
        "# s1_new=s1.loc[s1['Date']<='']"
      ]
    },
    {
      "cell_type": "code",
      "execution_count": null,
      "metadata": {
        "id": "H_dNieV6a1oW"
      },
      "outputs": [],
      "source": [
        "# s2=pd.read_csv('test.csv')\n",
        "# s2.head()"
      ]
    },
    {
      "cell_type": "markdown",
      "metadata": {
        "id": "D8XSnv_ua1oW"
      },
      "source": [
        "## Preparing The Dataset"
      ]
    },
    {
      "cell_type": "code",
      "execution_count": null,
      "metadata": {
        "colab": {
          "base_uri": "https://localhost:8080/",
          "height": 270
        },
        "id": "Mf9wpUoZa1oW",
        "outputId": "7ad3a6e1-ae8a-4d64-bca6-e63e47ac7486"
      },
      "outputs": [
        {
          "output_type": "execute_result",
          "data": {
            "text/plain": [
              "   Store       Date  IsHoliday  Temperature  gas_price  discount_promotional  \\\n",
              "0      2   2/5/2010      False        40.19      2.572                   NaN   \n",
              "1      2  2/12/2010       True        38.49      2.548                   NaN   \n",
              "2      2  2/19/2010      False        39.69      2.514                   NaN   \n",
              "3      2  2/26/2010      False        46.10      2.561                   NaN   \n",
              "4      2   3/5/2010      False        47.17      2.625                   NaN   \n",
              "\n",
              "   discount_clearance  discount_damaged_good  discount_competitive  \\\n",
              "0                 NaN                    NaN                   NaN   \n",
              "1                 NaN                    NaN                   NaN   \n",
              "2                 NaN                    NaN                   NaN   \n",
              "3                 NaN                    NaN                   NaN   \n",
              "4                 NaN                    NaN                   NaN   \n",
              "\n",
              "          CPI  Unemployment  \n",
              "0  210.752605         7.057  \n",
              "1  210.897994         7.057  \n",
              "2  210.945160         7.057  \n",
              "3  210.975957         7.057  \n",
              "4  211.006754         6.891  "
            ],
            "text/html": [
              "\n",
              "  <div id=\"df-f389e180-e7b2-4ac0-88c9-421f88fee5f0\">\n",
              "    <div class=\"colab-df-container\">\n",
              "      <div>\n",
              "<style scoped>\n",
              "    .dataframe tbody tr th:only-of-type {\n",
              "        vertical-align: middle;\n",
              "    }\n",
              "\n",
              "    .dataframe tbody tr th {\n",
              "        vertical-align: top;\n",
              "    }\n",
              "\n",
              "    .dataframe thead th {\n",
              "        text-align: right;\n",
              "    }\n",
              "</style>\n",
              "<table border=\"1\" class=\"dataframe\">\n",
              "  <thead>\n",
              "    <tr style=\"text-align: right;\">\n",
              "      <th></th>\n",
              "      <th>Store</th>\n",
              "      <th>Date</th>\n",
              "      <th>IsHoliday</th>\n",
              "      <th>Temperature</th>\n",
              "      <th>gas_price</th>\n",
              "      <th>discount_promotional</th>\n",
              "      <th>discount_clearance</th>\n",
              "      <th>discount_damaged_good</th>\n",
              "      <th>discount_competitive</th>\n",
              "      <th>CPI</th>\n",
              "      <th>Unemployment</th>\n",
              "    </tr>\n",
              "  </thead>\n",
              "  <tbody>\n",
              "    <tr>\n",
              "      <th>0</th>\n",
              "      <td>2</td>\n",
              "      <td>2/5/2010</td>\n",
              "      <td>False</td>\n",
              "      <td>40.19</td>\n",
              "      <td>2.572</td>\n",
              "      <td>NaN</td>\n",
              "      <td>NaN</td>\n",
              "      <td>NaN</td>\n",
              "      <td>NaN</td>\n",
              "      <td>210.752605</td>\n",
              "      <td>7.057</td>\n",
              "    </tr>\n",
              "    <tr>\n",
              "      <th>1</th>\n",
              "      <td>2</td>\n",
              "      <td>2/12/2010</td>\n",
              "      <td>True</td>\n",
              "      <td>38.49</td>\n",
              "      <td>2.548</td>\n",
              "      <td>NaN</td>\n",
              "      <td>NaN</td>\n",
              "      <td>NaN</td>\n",
              "      <td>NaN</td>\n",
              "      <td>210.897994</td>\n",
              "      <td>7.057</td>\n",
              "    </tr>\n",
              "    <tr>\n",
              "      <th>2</th>\n",
              "      <td>2</td>\n",
              "      <td>2/19/2010</td>\n",
              "      <td>False</td>\n",
              "      <td>39.69</td>\n",
              "      <td>2.514</td>\n",
              "      <td>NaN</td>\n",
              "      <td>NaN</td>\n",
              "      <td>NaN</td>\n",
              "      <td>NaN</td>\n",
              "      <td>210.945160</td>\n",
              "      <td>7.057</td>\n",
              "    </tr>\n",
              "    <tr>\n",
              "      <th>3</th>\n",
              "      <td>2</td>\n",
              "      <td>2/26/2010</td>\n",
              "      <td>False</td>\n",
              "      <td>46.10</td>\n",
              "      <td>2.561</td>\n",
              "      <td>NaN</td>\n",
              "      <td>NaN</td>\n",
              "      <td>NaN</td>\n",
              "      <td>NaN</td>\n",
              "      <td>210.975957</td>\n",
              "      <td>7.057</td>\n",
              "    </tr>\n",
              "    <tr>\n",
              "      <th>4</th>\n",
              "      <td>2</td>\n",
              "      <td>3/5/2010</td>\n",
              "      <td>False</td>\n",
              "      <td>47.17</td>\n",
              "      <td>2.625</td>\n",
              "      <td>NaN</td>\n",
              "      <td>NaN</td>\n",
              "      <td>NaN</td>\n",
              "      <td>NaN</td>\n",
              "      <td>211.006754</td>\n",
              "      <td>6.891</td>\n",
              "    </tr>\n",
              "  </tbody>\n",
              "</table>\n",
              "</div>\n",
              "      <button class=\"colab-df-convert\" onclick=\"convertToInteractive('df-f389e180-e7b2-4ac0-88c9-421f88fee5f0')\"\n",
              "              title=\"Convert this dataframe to an interactive table.\"\n",
              "              style=\"display:none;\">\n",
              "        \n",
              "  <svg xmlns=\"http://www.w3.org/2000/svg\" height=\"24px\"viewBox=\"0 0 24 24\"\n",
              "       width=\"24px\">\n",
              "    <path d=\"M0 0h24v24H0V0z\" fill=\"none\"/>\n",
              "    <path d=\"M18.56 5.44l.94 2.06.94-2.06 2.06-.94-2.06-.94-.94-2.06-.94 2.06-2.06.94zm-11 1L8.5 8.5l.94-2.06 2.06-.94-2.06-.94L8.5 2.5l-.94 2.06-2.06.94zm10 10l.94 2.06.94-2.06 2.06-.94-2.06-.94-.94-2.06-.94 2.06-2.06.94z\"/><path d=\"M17.41 7.96l-1.37-1.37c-.4-.4-.92-.59-1.43-.59-.52 0-1.04.2-1.43.59L10.3 9.45l-7.72 7.72c-.78.78-.78 2.05 0 2.83L4 21.41c.39.39.9.59 1.41.59.51 0 1.02-.2 1.41-.59l7.78-7.78 2.81-2.81c.8-.78.8-2.07 0-2.86zM5.41 20L4 18.59l7.72-7.72 1.47 1.35L5.41 20z\"/>\n",
              "  </svg>\n",
              "      </button>\n",
              "      \n",
              "  <style>\n",
              "    .colab-df-container {\n",
              "      display:flex;\n",
              "      flex-wrap:wrap;\n",
              "      gap: 12px;\n",
              "    }\n",
              "\n",
              "    .colab-df-convert {\n",
              "      background-color: #E8F0FE;\n",
              "      border: none;\n",
              "      border-radius: 50%;\n",
              "      cursor: pointer;\n",
              "      display: none;\n",
              "      fill: #1967D2;\n",
              "      height: 32px;\n",
              "      padding: 0 0 0 0;\n",
              "      width: 32px;\n",
              "    }\n",
              "\n",
              "    .colab-df-convert:hover {\n",
              "      background-color: #E2EBFA;\n",
              "      box-shadow: 0px 1px 2px rgba(60, 64, 67, 0.3), 0px 1px 3px 1px rgba(60, 64, 67, 0.15);\n",
              "      fill: #174EA6;\n",
              "    }\n",
              "\n",
              "    [theme=dark] .colab-df-convert {\n",
              "      background-color: #3B4455;\n",
              "      fill: #D2E3FC;\n",
              "    }\n",
              "\n",
              "    [theme=dark] .colab-df-convert:hover {\n",
              "      background-color: #434B5C;\n",
              "      box-shadow: 0px 1px 3px 1px rgba(0, 0, 0, 0.15);\n",
              "      filter: drop-shadow(0px 1px 2px rgba(0, 0, 0, 0.3));\n",
              "      fill: #FFFFFF;\n",
              "    }\n",
              "  </style>\n",
              "\n",
              "      <script>\n",
              "        const buttonEl =\n",
              "          document.querySelector('#df-f389e180-e7b2-4ac0-88c9-421f88fee5f0 button.colab-df-convert');\n",
              "        buttonEl.style.display =\n",
              "          google.colab.kernel.accessAllowed ? 'block' : 'none';\n",
              "\n",
              "        async function convertToInteractive(key) {\n",
              "          const element = document.querySelector('#df-f389e180-e7b2-4ac0-88c9-421f88fee5f0');\n",
              "          const dataTable =\n",
              "            await google.colab.kernel.invokeFunction('convertToInteractive',\n",
              "                                                     [key], {});\n",
              "          if (!dataTable) return;\n",
              "\n",
              "          const docLinkHtml = 'Like what you see? Visit the ' +\n",
              "            '<a target=\"_blank\" href=https://colab.research.google.com/notebooks/data_table.ipynb>data table notebook</a>'\n",
              "            + ' to learn more about interactive tables.';\n",
              "          element.innerHTML = '';\n",
              "          dataTable['output_type'] = 'display_data';\n",
              "          await google.colab.output.renderOutput(dataTable, element);\n",
              "          const docLink = document.createElement('div');\n",
              "          docLink.innerHTML = docLinkHtml;\n",
              "          element.appendChild(docLink);\n",
              "        }\n",
              "      </script>\n",
              "    </div>\n",
              "  </div>\n",
              "  "
            ]
          },
          "metadata": {},
          "execution_count": 11
        }
      ],
      "source": [
        "df_train.head()"
      ]
    },
    {
      "cell_type": "code",
      "execution_count": null,
      "metadata": {
        "colab": {
          "base_uri": "https://localhost:8080/"
        },
        "id": "B7KysveZa1oX",
        "outputId": "e1869606-362d-41f9-c094-42b4656242cb"
      },
      "outputs": [
        {
          "output_type": "execute_result",
          "data": {
            "text/plain": [
              "Store                       0\n",
              "Date                        0\n",
              "IsHoliday                   0\n",
              "Temperature                 0\n",
              "gas_price                   0\n",
              "discount_promotional      842\n",
              "discount_clearance       1059\n",
              "discount_damaged_good     908\n",
              "discount_competitive      862\n",
              "CPI                       143\n",
              "Unemployment              130\n",
              "dtype: int64"
            ]
          },
          "metadata": {},
          "execution_count": 12
        }
      ],
      "source": [
        "df_train.isna().sum()"
      ]
    },
    {
      "cell_type": "code",
      "execution_count": null,
      "metadata": {
        "colab": {
          "base_uri": "https://localhost:8080/"
        },
        "id": "dp90MZada1oX",
        "outputId": "d01f28f9-3643-4e66-8bdb-638a2740a8f9"
      },
      "outputs": [
        {
          "output_type": "stream",
          "name": "stderr",
          "text": [
            "/usr/local/lib/python3.7/dist-packages/pandas/core/generic.py:6392: SettingWithCopyWarning: \n",
            "A value is trying to be set on a copy of a slice from a DataFrame\n",
            "\n",
            "See the caveats in the documentation: https://pandas.pydata.org/pandas-docs/stable/user_guide/indexing.html#returning-a-view-versus-a-copy\n",
            "  return self._update_inplace(result)\n"
          ]
        }
      ],
      "source": [
        "mean_value_1=df_train['discount_promotional'].mean()\n",
        "df_train['discount_promotional'].fillna(value=mean_value_1, inplace=True)\n",
        "\n",
        "mean_value_2=df_train['discount_clearance'].mean()\n",
        "df_train['discount_clearance'].fillna(value=mean_value_2, inplace=True)\n",
        "\n",
        "mean_value_3=df_train['discount_damaged_good'].mean()\n",
        "df_train['discount_damaged_good'].fillna(value=mean_value_3, inplace=True)\n",
        "\n",
        "mean_value_4=df_train['Unemployment'].mean()\n",
        "df_train['Unemployment'].fillna(value=mean_value_4, inplace=True)\n",
        "\n",
        "mean_value_5=df_train['discount_competitive'].mean()\n",
        "df_train['discount_competitive'].fillna(value=mean_value_5, inplace=True)\n",
        "\n",
        "mean_value_6=df_train['CPI'].mean()\n",
        "df_train['CPI'].fillna(value=mean_value_6, inplace=True)\n",
        "\n",
        "mean_value_7=df_train['CPI_converted'].mean()\n",
        "df_train['CPI_converted'].fillna(value=mean_value_7, inplace=True)\n"
      ]
    },
    {
      "cell_type": "code",
      "execution_count": null,
      "metadata": {
        "id": "0Yb-Wb_4a1oY",
        "outputId": "74b0ef8c-437b-46bf-8b5e-a3a5321ad23b",
        "colab": {
          "base_uri": "https://localhost:8080/"
        }
      },
      "outputs": [
        {
          "output_type": "execute_result",
          "data": {
            "text/plain": [
              "Store                    0\n",
              "Date                     0\n",
              "IsHoliday                0\n",
              "Temperature              0\n",
              "gas_price                0\n",
              "discount_promotional     0\n",
              "discount_clearance       0\n",
              "discount_damaged_good    0\n",
              "discount_competitive     0\n",
              "CPI                      0\n",
              "Unemployment             0\n",
              "dtype: int64"
            ]
          },
          "metadata": {},
          "execution_count": 14
        }
      ],
      "source": [
        "df_train.isna().sum()"
      ]
    },
    {
      "cell_type": "code",
      "execution_count": null,
      "metadata": {
        "colab": {
          "base_uri": "https://localhost:8080/"
        },
        "id": "HIwWJX5Ka1oY",
        "outputId": "213bac9e-019e-4306-80cf-19e63442c34a"
      },
      "outputs": [
        {
          "output_type": "execute_result",
          "data": {
            "text/plain": [
              "2     182\n",
              "3     182\n",
              "4     182\n",
              "8     182\n",
              "5     182\n",
              "9     182\n",
              "6     182\n",
              "10    182\n",
              "7     182\n",
              "1     182\n",
              "Name: Store, dtype: int64"
            ]
          },
          "metadata": {},
          "execution_count": 15
        }
      ],
      "source": [
        "df_train['Store'].value_counts()"
      ]
    },
    {
      "cell_type": "code",
      "execution_count": null,
      "metadata": {
        "id": "hglwOkEOa1oZ"
      },
      "outputs": [],
      "source": [
        "# df_train1=df_train.loc[df_train['Date']<='10/26/2012']\n",
        "# df_train1.tail()"
      ]
    },
    {
      "cell_type": "markdown",
      "metadata": {
        "id": "hcNHRD_Ta1oZ"
      },
      "source": [
        "calculation of CPI:-\n",
        "    # https://www.uvm.edu/~awoolf/classes/spring2005/ec11/calculating_inflation.html"
      ]
    },
    {
      "cell_type": "code",
      "execution_count": null,
      "metadata": {
        "colab": {
          "base_uri": "https://localhost:8080/",
          "height": 592
        },
        "id": "LEuy9Mzda1oZ",
        "outputId": "68e3c324-7471-40d1-e600-0c0ad18b7bf6"
      },
      "outputs": [
        {
          "output_type": "stream",
          "name": "stderr",
          "text": [
            "/usr/local/lib/python3.7/dist-packages/ipykernel_launcher.py:2: SettingWithCopyWarning: \n",
            "A value is trying to be set on a copy of a slice from a DataFrame.\n",
            "Try using .loc[row_indexer,col_indexer] = value instead\n",
            "\n",
            "See the caveats in the documentation: https://pandas.pydata.org/pandas-docs/stable/user_guide/indexing.html#returning-a-view-versus-a-copy\n",
            "  \n"
          ]
        },
        {
          "output_type": "execute_result",
          "data": {
            "text/plain": [
              "      Store       Date  IsHoliday  Temperature  gas_price  \\\n",
              "0         2   2/5/2010      False        40.19      2.572   \n",
              "1         2  2/12/2010       True        38.49      2.548   \n",
              "2         2  2/19/2010      False        39.69      2.514   \n",
              "3         2  2/26/2010      False        46.10      2.561   \n",
              "4         2   3/5/2010      False        47.17      2.625   \n",
              "...     ...        ...        ...          ...        ...   \n",
              "6365      1  6/28/2013      False        83.94      3.495   \n",
              "6366      1   7/5/2013      False        79.85      3.422   \n",
              "6367      1  7/12/2013      False        83.12      3.400   \n",
              "6368      1  7/19/2013      False        79.26      3.556   \n",
              "6369      1  7/26/2013      False        81.54      3.620   \n",
              "\n",
              "      discount_promotional  discount_clearance  discount_damaged_good  \\\n",
              "0              6819.891074         3051.464389            1823.168202   \n",
              "1              6819.891074         3051.464389            1823.168202   \n",
              "2              6819.891074         3051.464389            1823.168202   \n",
              "3              6819.891074         3051.464389            1823.168202   \n",
              "4              6819.891074         3051.464389            1823.168202   \n",
              "...                    ...                 ...                    ...   \n",
              "6365           4205.980000          796.700000               6.840000   \n",
              "6366           7649.990000         3503.290000            1766.770000   \n",
              "6367           6089.940000         1362.420000             209.620000   \n",
              "6368           3117.040000         1060.390000             199.050000   \n",
              "6369            332.170000          673.190000               1.000000   \n",
              "\n",
              "      discount_competitive         CPI  Unemployment  CPI_converted  \n",
              "0              2585.597265  210.752605         7.057     160.643060  \n",
              "1              2585.597265  210.897994         7.057     160.753880  \n",
              "2              2585.597265  210.945160         7.057     160.789832  \n",
              "3              2585.597265  210.975957         7.057     160.813307  \n",
              "4              2585.597265  211.006754         6.891     160.836781  \n",
              "...                    ...         ...           ...            ...  \n",
              "6365           3816.780000  198.850394         7.057     151.570775  \n",
              "6366           9454.960000  198.850394         7.057     151.570775  \n",
              "6367           2367.420000  198.850394         7.057     151.570775  \n",
              "6368           1012.300000  198.850394         7.057     151.570775  \n",
              "6369             38.630000  198.850394         7.057     151.570775  \n",
              "\n",
              "[1820 rows x 12 columns]"
            ],
            "text/html": [
              "\n",
              "  <div id=\"df-7c1d299f-2d74-4b21-9eac-7e046154e61e\">\n",
              "    <div class=\"colab-df-container\">\n",
              "      <div>\n",
              "<style scoped>\n",
              "    .dataframe tbody tr th:only-of-type {\n",
              "        vertical-align: middle;\n",
              "    }\n",
              "\n",
              "    .dataframe tbody tr th {\n",
              "        vertical-align: top;\n",
              "    }\n",
              "\n",
              "    .dataframe thead th {\n",
              "        text-align: right;\n",
              "    }\n",
              "</style>\n",
              "<table border=\"1\" class=\"dataframe\">\n",
              "  <thead>\n",
              "    <tr style=\"text-align: right;\">\n",
              "      <th></th>\n",
              "      <th>Store</th>\n",
              "      <th>Date</th>\n",
              "      <th>IsHoliday</th>\n",
              "      <th>Temperature</th>\n",
              "      <th>gas_price</th>\n",
              "      <th>discount_promotional</th>\n",
              "      <th>discount_clearance</th>\n",
              "      <th>discount_damaged_good</th>\n",
              "      <th>discount_competitive</th>\n",
              "      <th>CPI</th>\n",
              "      <th>Unemployment</th>\n",
              "      <th>CPI_converted</th>\n",
              "    </tr>\n",
              "  </thead>\n",
              "  <tbody>\n",
              "    <tr>\n",
              "      <th>0</th>\n",
              "      <td>2</td>\n",
              "      <td>2/5/2010</td>\n",
              "      <td>False</td>\n",
              "      <td>40.19</td>\n",
              "      <td>2.572</td>\n",
              "      <td>6819.891074</td>\n",
              "      <td>3051.464389</td>\n",
              "      <td>1823.168202</td>\n",
              "      <td>2585.597265</td>\n",
              "      <td>210.752605</td>\n",
              "      <td>7.057</td>\n",
              "      <td>160.643060</td>\n",
              "    </tr>\n",
              "    <tr>\n",
              "      <th>1</th>\n",
              "      <td>2</td>\n",
              "      <td>2/12/2010</td>\n",
              "      <td>True</td>\n",
              "      <td>38.49</td>\n",
              "      <td>2.548</td>\n",
              "      <td>6819.891074</td>\n",
              "      <td>3051.464389</td>\n",
              "      <td>1823.168202</td>\n",
              "      <td>2585.597265</td>\n",
              "      <td>210.897994</td>\n",
              "      <td>7.057</td>\n",
              "      <td>160.753880</td>\n",
              "    </tr>\n",
              "    <tr>\n",
              "      <th>2</th>\n",
              "      <td>2</td>\n",
              "      <td>2/19/2010</td>\n",
              "      <td>False</td>\n",
              "      <td>39.69</td>\n",
              "      <td>2.514</td>\n",
              "      <td>6819.891074</td>\n",
              "      <td>3051.464389</td>\n",
              "      <td>1823.168202</td>\n",
              "      <td>2585.597265</td>\n",
              "      <td>210.945160</td>\n",
              "      <td>7.057</td>\n",
              "      <td>160.789832</td>\n",
              "    </tr>\n",
              "    <tr>\n",
              "      <th>3</th>\n",
              "      <td>2</td>\n",
              "      <td>2/26/2010</td>\n",
              "      <td>False</td>\n",
              "      <td>46.10</td>\n",
              "      <td>2.561</td>\n",
              "      <td>6819.891074</td>\n",
              "      <td>3051.464389</td>\n",
              "      <td>1823.168202</td>\n",
              "      <td>2585.597265</td>\n",
              "      <td>210.975957</td>\n",
              "      <td>7.057</td>\n",
              "      <td>160.813307</td>\n",
              "    </tr>\n",
              "    <tr>\n",
              "      <th>4</th>\n",
              "      <td>2</td>\n",
              "      <td>3/5/2010</td>\n",
              "      <td>False</td>\n",
              "      <td>47.17</td>\n",
              "      <td>2.625</td>\n",
              "      <td>6819.891074</td>\n",
              "      <td>3051.464389</td>\n",
              "      <td>1823.168202</td>\n",
              "      <td>2585.597265</td>\n",
              "      <td>211.006754</td>\n",
              "      <td>6.891</td>\n",
              "      <td>160.836781</td>\n",
              "    </tr>\n",
              "    <tr>\n",
              "      <th>...</th>\n",
              "      <td>...</td>\n",
              "      <td>...</td>\n",
              "      <td>...</td>\n",
              "      <td>...</td>\n",
              "      <td>...</td>\n",
              "      <td>...</td>\n",
              "      <td>...</td>\n",
              "      <td>...</td>\n",
              "      <td>...</td>\n",
              "      <td>...</td>\n",
              "      <td>...</td>\n",
              "      <td>...</td>\n",
              "    </tr>\n",
              "    <tr>\n",
              "      <th>6365</th>\n",
              "      <td>1</td>\n",
              "      <td>6/28/2013</td>\n",
              "      <td>False</td>\n",
              "      <td>83.94</td>\n",
              "      <td>3.495</td>\n",
              "      <td>4205.980000</td>\n",
              "      <td>796.700000</td>\n",
              "      <td>6.840000</td>\n",
              "      <td>3816.780000</td>\n",
              "      <td>198.850394</td>\n",
              "      <td>7.057</td>\n",
              "      <td>151.570775</td>\n",
              "    </tr>\n",
              "    <tr>\n",
              "      <th>6366</th>\n",
              "      <td>1</td>\n",
              "      <td>7/5/2013</td>\n",
              "      <td>False</td>\n",
              "      <td>79.85</td>\n",
              "      <td>3.422</td>\n",
              "      <td>7649.990000</td>\n",
              "      <td>3503.290000</td>\n",
              "      <td>1766.770000</td>\n",
              "      <td>9454.960000</td>\n",
              "      <td>198.850394</td>\n",
              "      <td>7.057</td>\n",
              "      <td>151.570775</td>\n",
              "    </tr>\n",
              "    <tr>\n",
              "      <th>6367</th>\n",
              "      <td>1</td>\n",
              "      <td>7/12/2013</td>\n",
              "      <td>False</td>\n",
              "      <td>83.12</td>\n",
              "      <td>3.400</td>\n",
              "      <td>6089.940000</td>\n",
              "      <td>1362.420000</td>\n",
              "      <td>209.620000</td>\n",
              "      <td>2367.420000</td>\n",
              "      <td>198.850394</td>\n",
              "      <td>7.057</td>\n",
              "      <td>151.570775</td>\n",
              "    </tr>\n",
              "    <tr>\n",
              "      <th>6368</th>\n",
              "      <td>1</td>\n",
              "      <td>7/19/2013</td>\n",
              "      <td>False</td>\n",
              "      <td>79.26</td>\n",
              "      <td>3.556</td>\n",
              "      <td>3117.040000</td>\n",
              "      <td>1060.390000</td>\n",
              "      <td>199.050000</td>\n",
              "      <td>1012.300000</td>\n",
              "      <td>198.850394</td>\n",
              "      <td>7.057</td>\n",
              "      <td>151.570775</td>\n",
              "    </tr>\n",
              "    <tr>\n",
              "      <th>6369</th>\n",
              "      <td>1</td>\n",
              "      <td>7/26/2013</td>\n",
              "      <td>False</td>\n",
              "      <td>81.54</td>\n",
              "      <td>3.620</td>\n",
              "      <td>332.170000</td>\n",
              "      <td>673.190000</td>\n",
              "      <td>1.000000</td>\n",
              "      <td>38.630000</td>\n",
              "      <td>198.850394</td>\n",
              "      <td>7.057</td>\n",
              "      <td>151.570775</td>\n",
              "    </tr>\n",
              "  </tbody>\n",
              "</table>\n",
              "<p>1820 rows × 12 columns</p>\n",
              "</div>\n",
              "      <button class=\"colab-df-convert\" onclick=\"convertToInteractive('df-7c1d299f-2d74-4b21-9eac-7e046154e61e')\"\n",
              "              title=\"Convert this dataframe to an interactive table.\"\n",
              "              style=\"display:none;\">\n",
              "        \n",
              "  <svg xmlns=\"http://www.w3.org/2000/svg\" height=\"24px\"viewBox=\"0 0 24 24\"\n",
              "       width=\"24px\">\n",
              "    <path d=\"M0 0h24v24H0V0z\" fill=\"none\"/>\n",
              "    <path d=\"M18.56 5.44l.94 2.06.94-2.06 2.06-.94-2.06-.94-.94-2.06-.94 2.06-2.06.94zm-11 1L8.5 8.5l.94-2.06 2.06-.94-2.06-.94L8.5 2.5l-.94 2.06-2.06.94zm10 10l.94 2.06.94-2.06 2.06-.94-2.06-.94-.94-2.06-.94 2.06-2.06.94z\"/><path d=\"M17.41 7.96l-1.37-1.37c-.4-.4-.92-.59-1.43-.59-.52 0-1.04.2-1.43.59L10.3 9.45l-7.72 7.72c-.78.78-.78 2.05 0 2.83L4 21.41c.39.39.9.59 1.41.59.51 0 1.02-.2 1.41-.59l7.78-7.78 2.81-2.81c.8-.78.8-2.07 0-2.86zM5.41 20L4 18.59l7.72-7.72 1.47 1.35L5.41 20z\"/>\n",
              "  </svg>\n",
              "      </button>\n",
              "      \n",
              "  <style>\n",
              "    .colab-df-container {\n",
              "      display:flex;\n",
              "      flex-wrap:wrap;\n",
              "      gap: 12px;\n",
              "    }\n",
              "\n",
              "    .colab-df-convert {\n",
              "      background-color: #E8F0FE;\n",
              "      border: none;\n",
              "      border-radius: 50%;\n",
              "      cursor: pointer;\n",
              "      display: none;\n",
              "      fill: #1967D2;\n",
              "      height: 32px;\n",
              "      padding: 0 0 0 0;\n",
              "      width: 32px;\n",
              "    }\n",
              "\n",
              "    .colab-df-convert:hover {\n",
              "      background-color: #E2EBFA;\n",
              "      box-shadow: 0px 1px 2px rgba(60, 64, 67, 0.3), 0px 1px 3px 1px rgba(60, 64, 67, 0.15);\n",
              "      fill: #174EA6;\n",
              "    }\n",
              "\n",
              "    [theme=dark] .colab-df-convert {\n",
              "      background-color: #3B4455;\n",
              "      fill: #D2E3FC;\n",
              "    }\n",
              "\n",
              "    [theme=dark] .colab-df-convert:hover {\n",
              "      background-color: #434B5C;\n",
              "      box-shadow: 0px 1px 3px 1px rgba(0, 0, 0, 0.15);\n",
              "      filter: drop-shadow(0px 1px 2px rgba(0, 0, 0, 0.3));\n",
              "      fill: #FFFFFF;\n",
              "    }\n",
              "  </style>\n",
              "\n",
              "      <script>\n",
              "        const buttonEl =\n",
              "          document.querySelector('#df-7c1d299f-2d74-4b21-9eac-7e046154e61e button.colab-df-convert');\n",
              "        buttonEl.style.display =\n",
              "          google.colab.kernel.accessAllowed ? 'block' : 'none';\n",
              "\n",
              "        async function convertToInteractive(key) {\n",
              "          const element = document.querySelector('#df-7c1d299f-2d74-4b21-9eac-7e046154e61e');\n",
              "          const dataTable =\n",
              "            await google.colab.kernel.invokeFunction('convertToInteractive',\n",
              "                                                     [key], {});\n",
              "          if (!dataTable) return;\n",
              "\n",
              "          const docLinkHtml = 'Like what you see? Visit the ' +\n",
              "            '<a target=\"_blank\" href=https://colab.research.google.com/notebooks/data_table.ipynb>data table notebook</a>'\n",
              "            + ' to learn more about interactive tables.';\n",
              "          element.innerHTML = '';\n",
              "          dataTable['output_type'] = 'display_data';\n",
              "          await google.colab.output.renderOutput(dataTable, element);\n",
              "          const docLink = document.createElement('div');\n",
              "          docLink.innerHTML = docLinkHtml;\n",
              "          element.appendChild(docLink);\n",
              "        }\n",
              "      </script>\n",
              "    </div>\n",
              "  </div>\n",
              "  "
            ]
          },
          "metadata": {},
          "execution_count": 17
        }
      ],
      "source": [
        "\n",
        "\n",
        "initial=131.193097\n",
        "df_train['CPI_converted']=df_train['CPI']/initial * 100\n",
        "df_train"
      ]
    },
    {
      "cell_type": "code",
      "execution_count": null,
      "metadata": {
        "colab": {
          "base_uri": "https://localhost:8080/"
        },
        "id": "jffPwnpKa1oZ",
        "outputId": "554d9e47-f347-414e-c762-1454dd647669"
      },
      "outputs": [
        {
          "output_type": "execute_result",
          "data": {
            "text/plain": [
              "Index(['Store', 'Date', 'IsHoliday', 'Temperature', 'gas_price',\n",
              "       'discount_promotional', 'discount_clearance', 'discount_damaged_good',\n",
              "       'discount_competitive', 'CPI', 'Unemployment', 'CPI_converted'],\n",
              "      dtype='object')"
            ]
          },
          "metadata": {},
          "execution_count": 18
        }
      ],
      "source": [
        "df_train.columns"
      ]
    },
    {
      "cell_type": "code",
      "execution_count": null,
      "metadata": {
        "id": "jrrUO9-xa1oZ"
      },
      "outputs": [],
      "source": [
        "# Independent and dependent variables:-\n",
        "X=df_train[['Store', 'IsHoliday', 'Temperature', 'gas_price',\n",
        "       'discount_promotional', 'discount_clearance', 'discount_damaged_good',\n",
        "       'discount_competitive',  'Unemployment',]]\n",
        "# X=df_train[['Store', 'IsHoliday', 'Temperature', 'gas_price',  'Unemployment',]]\n",
        "y=df_train[['CPI_converted']]"
      ]
    },
    {
      "cell_type": "code",
      "execution_count": null,
      "metadata": {
        "id": "9CFJYo_Ea1oa"
      },
      "outputs": [],
      "source": [
        "## train test split \n",
        "from sklearn.model_selection import train_test_split\n",
        "\n",
        "X_train, X_test, y_train, y_test = train_test_split(\n",
        "    X, y, test_size=0.30, random_state=42)"
      ]
    },
    {
      "cell_type": "markdown",
      "metadata": {
        "id": "nyjxP-8ba1oa"
      },
      "source": [
        "Begin with Linear regression model to forecast the weekly sales using the given features."
      ]
    },
    {
      "cell_type": "code",
      "execution_count": null,
      "metadata": {
        "id": "3kF-lCtWa1oa"
      },
      "outputs": [],
      "source": [
        "## Linear Regression:-\n",
        " ## standardizing the dataset\n",
        "from sklearn.preprocessing import StandardScaler\n",
        "scaler = StandardScaler()\n",
        "X_train=scaler.fit_transform(X_train)\n",
        "X_test=scaler.transform(X_test)"
      ]
    },
    {
      "cell_type": "code",
      "execution_count": null,
      "metadata": {
        "id": "1UMD-jwda1oa"
      },
      "outputs": [],
      "source": [
        "from sklearn.linear_model import LinearRegression\n",
        "##cross validation\n",
        "from sklearn.model_selection import cross_val_score"
      ]
    },
    {
      "cell_type": "code",
      "execution_count": null,
      "metadata": {
        "colab": {
          "base_uri": "https://localhost:8080/"
        },
        "id": "0sdCMcMSa1oa",
        "outputId": "d60974f3-2be1-4a96-e896-034c89c02c12"
      },
      "outputs": [
        {
          "output_type": "execute_result",
          "data": {
            "text/plain": [
              "LinearRegression()"
            ]
          },
          "metadata": {},
          "execution_count": 81
        }
      ],
      "source": [
        "regression=LinearRegression()\n",
        "regression.fit(X_train,y_train)\n"
      ]
    },
    {
      "cell_type": "code",
      "source": [
        "regression.plot()"
      ],
      "metadata": {
        "colab": {
          "base_uri": "https://localhost:8080/",
          "height": 166
        },
        "id": "zDwiFprZMqO0",
        "outputId": "e234dcb6-1a2d-4172-aa72-9a07e8389d41"
      },
      "execution_count": null,
      "outputs": [
        {
          "output_type": "error",
          "ename": "AttributeError",
          "evalue": "ignored",
          "traceback": [
            "\u001b[0;31m---------------------------------------------------------------------------\u001b[0m",
            "\u001b[0;31mAttributeError\u001b[0m                            Traceback (most recent call last)",
            "\u001b[0;32m<ipython-input-82-0e252dc50c90>\u001b[0m in \u001b[0;36m<module>\u001b[0;34m\u001b[0m\n\u001b[0;32m----> 1\u001b[0;31m \u001b[0mregression\u001b[0m\u001b[0;34m.\u001b[0m\u001b[0mplot\u001b[0m\u001b[0;34m(\u001b[0m\u001b[0;34m)\u001b[0m\u001b[0;34m\u001b[0m\u001b[0;34m\u001b[0m\u001b[0m\n\u001b[0m",
            "\u001b[0;31mAttributeError\u001b[0m: 'LinearRegression' object has no attribute 'plot'"
          ]
        }
      ]
    },
    {
      "cell_type": "code",
      "execution_count": null,
      "metadata": {
        "id": "qPolUrK-a1oa"
      },
      "outputs": [],
      "source": [
        "# mse=cross_val_score(regression,X_train,y_train,scoring='neg_mean_squared_error',cv=10)"
      ]
    },
    {
      "cell_type": "code",
      "execution_count": null,
      "metadata": {
        "id": "4TYb0cK3a1oa"
      },
      "outputs": [],
      "source": [
        "# np.mean(mse)"
      ]
    },
    {
      "cell_type": "code",
      "execution_count": null,
      "metadata": {
        "id": "qdUPXlxVa1oa"
      },
      "outputs": [],
      "source": [
        "# ##prediction \n",
        "# reg_pred=regression.predict(X_test)"
      ]
    },
    {
      "cell_type": "code",
      "execution_count": null,
      "metadata": {
        "id": "nQ9i-Li-a1oa"
      },
      "outputs": [],
      "source": [
        "# reg_pred"
      ]
    },
    {
      "cell_type": "code",
      "execution_count": null,
      "metadata": {
        "id": "d89m84m7a1ob"
      },
      "outputs": [],
      "source": [
        "# import seaborn as sns\n",
        "# sns.displot(reg_pred-y_test,kind='kde')"
      ]
    },
    {
      "cell_type": "code",
      "execution_count": null,
      "metadata": {
        "id": "XaJCE9NQa1ob"
      },
      "outputs": [],
      "source": [
        "# from sklearn.metrics import r2_score"
      ]
    },
    {
      "cell_type": "code",
      "execution_count": null,
      "metadata": {
        "id": "FBZ0Dfu4a1ob"
      },
      "outputs": [],
      "source": [
        "# score=r2_score(reg_pred,y_test)"
      ]
    },
    {
      "cell_type": "code",
      "execution_count": null,
      "metadata": {
        "id": "ohD46_Yta1ob"
      },
      "outputs": [],
      "source": [
        "# score"
      ]
    },
    {
      "cell_type": "markdown",
      "metadata": {
        "id": "w21qC7CTa1ob"
      },
      "source": [
        "##  NEW ALTERNATIVE METHOD"
      ]
    },
    {
      "cell_type": "code",
      "execution_count": null,
      "metadata": {
        "colab": {
          "base_uri": "https://localhost:8080/",
          "height": 424
        },
        "id": "VZty4w-Xa1ob",
        "outputId": "54c4e125-e103-4202-92fa-2464a610a894"
      },
      "outputs": [
        {
          "output_type": "execute_result",
          "data": {
            "text/plain": [
              "        Store  Dept        Date  Weekly_Sales  IsHoliday\n",
              "0           1     1  2010-02-05      24924.50      False\n",
              "1           1     1  2010-02-12      46039.49       True\n",
              "2           1     1  2010-02-19      41595.55      False\n",
              "3           1     1  2010-02-26      19403.54      False\n",
              "4           1     1  2010-03-05      21827.90      False\n",
              "...       ...   ...         ...           ...        ...\n",
              "421565     45    98  2012-09-28        508.37      False\n",
              "421566     45    98  2012-10-05        628.10      False\n",
              "421567     45    98  2012-10-12       1061.02      False\n",
              "421568     45    98  2012-10-19        760.01      False\n",
              "421569     45    98  2012-10-26       1076.80      False\n",
              "\n",
              "[421570 rows x 5 columns]"
            ],
            "text/html": [
              "\n",
              "  <div id=\"df-f4654a7f-fc69-4127-ab3a-0ded1b937c3f\">\n",
              "    <div class=\"colab-df-container\">\n",
              "      <div>\n",
              "<style scoped>\n",
              "    .dataframe tbody tr th:only-of-type {\n",
              "        vertical-align: middle;\n",
              "    }\n",
              "\n",
              "    .dataframe tbody tr th {\n",
              "        vertical-align: top;\n",
              "    }\n",
              "\n",
              "    .dataframe thead th {\n",
              "        text-align: right;\n",
              "    }\n",
              "</style>\n",
              "<table border=\"1\" class=\"dataframe\">\n",
              "  <thead>\n",
              "    <tr style=\"text-align: right;\">\n",
              "      <th></th>\n",
              "      <th>Store</th>\n",
              "      <th>Dept</th>\n",
              "      <th>Date</th>\n",
              "      <th>Weekly_Sales</th>\n",
              "      <th>IsHoliday</th>\n",
              "    </tr>\n",
              "  </thead>\n",
              "  <tbody>\n",
              "    <tr>\n",
              "      <th>0</th>\n",
              "      <td>1</td>\n",
              "      <td>1</td>\n",
              "      <td>2010-02-05</td>\n",
              "      <td>24924.50</td>\n",
              "      <td>False</td>\n",
              "    </tr>\n",
              "    <tr>\n",
              "      <th>1</th>\n",
              "      <td>1</td>\n",
              "      <td>1</td>\n",
              "      <td>2010-02-12</td>\n",
              "      <td>46039.49</td>\n",
              "      <td>True</td>\n",
              "    </tr>\n",
              "    <tr>\n",
              "      <th>2</th>\n",
              "      <td>1</td>\n",
              "      <td>1</td>\n",
              "      <td>2010-02-19</td>\n",
              "      <td>41595.55</td>\n",
              "      <td>False</td>\n",
              "    </tr>\n",
              "    <tr>\n",
              "      <th>3</th>\n",
              "      <td>1</td>\n",
              "      <td>1</td>\n",
              "      <td>2010-02-26</td>\n",
              "      <td>19403.54</td>\n",
              "      <td>False</td>\n",
              "    </tr>\n",
              "    <tr>\n",
              "      <th>4</th>\n",
              "      <td>1</td>\n",
              "      <td>1</td>\n",
              "      <td>2010-03-05</td>\n",
              "      <td>21827.90</td>\n",
              "      <td>False</td>\n",
              "    </tr>\n",
              "    <tr>\n",
              "      <th>...</th>\n",
              "      <td>...</td>\n",
              "      <td>...</td>\n",
              "      <td>...</td>\n",
              "      <td>...</td>\n",
              "      <td>...</td>\n",
              "    </tr>\n",
              "    <tr>\n",
              "      <th>421565</th>\n",
              "      <td>45</td>\n",
              "      <td>98</td>\n",
              "      <td>2012-09-28</td>\n",
              "      <td>508.37</td>\n",
              "      <td>False</td>\n",
              "    </tr>\n",
              "    <tr>\n",
              "      <th>421566</th>\n",
              "      <td>45</td>\n",
              "      <td>98</td>\n",
              "      <td>2012-10-05</td>\n",
              "      <td>628.10</td>\n",
              "      <td>False</td>\n",
              "    </tr>\n",
              "    <tr>\n",
              "      <th>421567</th>\n",
              "      <td>45</td>\n",
              "      <td>98</td>\n",
              "      <td>2012-10-12</td>\n",
              "      <td>1061.02</td>\n",
              "      <td>False</td>\n",
              "    </tr>\n",
              "    <tr>\n",
              "      <th>421568</th>\n",
              "      <td>45</td>\n",
              "      <td>98</td>\n",
              "      <td>2012-10-19</td>\n",
              "      <td>760.01</td>\n",
              "      <td>False</td>\n",
              "    </tr>\n",
              "    <tr>\n",
              "      <th>421569</th>\n",
              "      <td>45</td>\n",
              "      <td>98</td>\n",
              "      <td>2012-10-26</td>\n",
              "      <td>1076.80</td>\n",
              "      <td>False</td>\n",
              "    </tr>\n",
              "  </tbody>\n",
              "</table>\n",
              "<p>421570 rows × 5 columns</p>\n",
              "</div>\n",
              "      <button class=\"colab-df-convert\" onclick=\"convertToInteractive('df-f4654a7f-fc69-4127-ab3a-0ded1b937c3f')\"\n",
              "              title=\"Convert this dataframe to an interactive table.\"\n",
              "              style=\"display:none;\">\n",
              "        \n",
              "  <svg xmlns=\"http://www.w3.org/2000/svg\" height=\"24px\"viewBox=\"0 0 24 24\"\n",
              "       width=\"24px\">\n",
              "    <path d=\"M0 0h24v24H0V0z\" fill=\"none\"/>\n",
              "    <path d=\"M18.56 5.44l.94 2.06.94-2.06 2.06-.94-2.06-.94-.94-2.06-.94 2.06-2.06.94zm-11 1L8.5 8.5l.94-2.06 2.06-.94-2.06-.94L8.5 2.5l-.94 2.06-2.06.94zm10 10l.94 2.06.94-2.06 2.06-.94-2.06-.94-.94-2.06-.94 2.06-2.06.94z\"/><path d=\"M17.41 7.96l-1.37-1.37c-.4-.4-.92-.59-1.43-.59-.52 0-1.04.2-1.43.59L10.3 9.45l-7.72 7.72c-.78.78-.78 2.05 0 2.83L4 21.41c.39.39.9.59 1.41.59.51 0 1.02-.2 1.41-.59l7.78-7.78 2.81-2.81c.8-.78.8-2.07 0-2.86zM5.41 20L4 18.59l7.72-7.72 1.47 1.35L5.41 20z\"/>\n",
              "  </svg>\n",
              "      </button>\n",
              "      \n",
              "  <style>\n",
              "    .colab-df-container {\n",
              "      display:flex;\n",
              "      flex-wrap:wrap;\n",
              "      gap: 12px;\n",
              "    }\n",
              "\n",
              "    .colab-df-convert {\n",
              "      background-color: #E8F0FE;\n",
              "      border: none;\n",
              "      border-radius: 50%;\n",
              "      cursor: pointer;\n",
              "      display: none;\n",
              "      fill: #1967D2;\n",
              "      height: 32px;\n",
              "      padding: 0 0 0 0;\n",
              "      width: 32px;\n",
              "    }\n",
              "\n",
              "    .colab-df-convert:hover {\n",
              "      background-color: #E2EBFA;\n",
              "      box-shadow: 0px 1px 2px rgba(60, 64, 67, 0.3), 0px 1px 3px 1px rgba(60, 64, 67, 0.15);\n",
              "      fill: #174EA6;\n",
              "    }\n",
              "\n",
              "    [theme=dark] .colab-df-convert {\n",
              "      background-color: #3B4455;\n",
              "      fill: #D2E3FC;\n",
              "    }\n",
              "\n",
              "    [theme=dark] .colab-df-convert:hover {\n",
              "      background-color: #434B5C;\n",
              "      box-shadow: 0px 1px 3px 1px rgba(0, 0, 0, 0.15);\n",
              "      filter: drop-shadow(0px 1px 2px rgba(0, 0, 0, 0.3));\n",
              "      fill: #FFFFFF;\n",
              "    }\n",
              "  </style>\n",
              "\n",
              "      <script>\n",
              "        const buttonEl =\n",
              "          document.querySelector('#df-f4654a7f-fc69-4127-ab3a-0ded1b937c3f button.colab-df-convert');\n",
              "        buttonEl.style.display =\n",
              "          google.colab.kernel.accessAllowed ? 'block' : 'none';\n",
              "\n",
              "        async function convertToInteractive(key) {\n",
              "          const element = document.querySelector('#df-f4654a7f-fc69-4127-ab3a-0ded1b937c3f');\n",
              "          const dataTable =\n",
              "            await google.colab.kernel.invokeFunction('convertToInteractive',\n",
              "                                                     [key], {});\n",
              "          if (!dataTable) return;\n",
              "\n",
              "          const docLinkHtml = 'Like what you see? Visit the ' +\n",
              "            '<a target=\"_blank\" href=https://colab.research.google.com/notebooks/data_table.ipynb>data table notebook</a>'\n",
              "            + ' to learn more about interactive tables.';\n",
              "          element.innerHTML = '';\n",
              "          dataTable['output_type'] = 'display_data';\n",
              "          await google.colab.output.renderOutput(dataTable, element);\n",
              "          const docLink = document.createElement('div');\n",
              "          docLink.innerHTML = docLinkHtml;\n",
              "          element.appendChild(docLink);\n",
              "        }\n",
              "      </script>\n",
              "    </div>\n",
              "  </div>\n",
              "  "
            ]
          },
          "metadata": {},
          "execution_count": 32
        }
      ],
      "source": [
        "ai_path = \"/content/drive/MyDrive/AI/\"\n",
        "abc=pd.read_csv(ai_path+\"train.csv\")\n",
        "abc"
      ]
    },
    {
      "cell_type": "code",
      "execution_count": null,
      "metadata": {
        "colab": {
          "base_uri": "https://localhost:8080/",
          "height": 424
        },
        "id": "LxqC2u1Ia1ob",
        "outputId": "2187051a-182b-4918-b5be-1815a5f0bd5a"
      },
      "outputs": [
        {
          "output_type": "execute_result",
          "data": {
            "text/plain": [
              "        Store  Dept        Date  Weekly_Sales  IsHoliday  sales_diff\n",
              "0           1     1  2010-02-05      24924.50      False        0.00\n",
              "1           1     1  2010-02-12      46039.49       True    21114.99\n",
              "2           1     1  2010-02-19      41595.55      False    -4443.94\n",
              "3           1     1  2010-02-26      19403.54      False   -22192.01\n",
              "4           1     1  2010-03-05      21827.90      False     2424.36\n",
              "...       ...   ...         ...           ...        ...         ...\n",
              "421565     45    98  2012-09-28        508.37      False       41.07\n",
              "421566     45    98  2012-10-05        628.10      False      119.73\n",
              "421567     45    98  2012-10-12       1061.02      False      432.92\n",
              "421568     45    98  2012-10-19        760.01      False     -301.01\n",
              "421569     45    98  2012-10-26       1076.80      False      316.79\n",
              "\n",
              "[421570 rows x 6 columns]"
            ],
            "text/html": [
              "\n",
              "  <div id=\"df-c0bd53f9-c964-46c7-99fd-8a6007ae5716\">\n",
              "    <div class=\"colab-df-container\">\n",
              "      <div>\n",
              "<style scoped>\n",
              "    .dataframe tbody tr th:only-of-type {\n",
              "        vertical-align: middle;\n",
              "    }\n",
              "\n",
              "    .dataframe tbody tr th {\n",
              "        vertical-align: top;\n",
              "    }\n",
              "\n",
              "    .dataframe thead th {\n",
              "        text-align: right;\n",
              "    }\n",
              "</style>\n",
              "<table border=\"1\" class=\"dataframe\">\n",
              "  <thead>\n",
              "    <tr style=\"text-align: right;\">\n",
              "      <th></th>\n",
              "      <th>Store</th>\n",
              "      <th>Dept</th>\n",
              "      <th>Date</th>\n",
              "      <th>Weekly_Sales</th>\n",
              "      <th>IsHoliday</th>\n",
              "      <th>sales_diff</th>\n",
              "    </tr>\n",
              "  </thead>\n",
              "  <tbody>\n",
              "    <tr>\n",
              "      <th>0</th>\n",
              "      <td>1</td>\n",
              "      <td>1</td>\n",
              "      <td>2010-02-05</td>\n",
              "      <td>24924.50</td>\n",
              "      <td>False</td>\n",
              "      <td>0.00</td>\n",
              "    </tr>\n",
              "    <tr>\n",
              "      <th>1</th>\n",
              "      <td>1</td>\n",
              "      <td>1</td>\n",
              "      <td>2010-02-12</td>\n",
              "      <td>46039.49</td>\n",
              "      <td>True</td>\n",
              "      <td>21114.99</td>\n",
              "    </tr>\n",
              "    <tr>\n",
              "      <th>2</th>\n",
              "      <td>1</td>\n",
              "      <td>1</td>\n",
              "      <td>2010-02-19</td>\n",
              "      <td>41595.55</td>\n",
              "      <td>False</td>\n",
              "      <td>-4443.94</td>\n",
              "    </tr>\n",
              "    <tr>\n",
              "      <th>3</th>\n",
              "      <td>1</td>\n",
              "      <td>1</td>\n",
              "      <td>2010-02-26</td>\n",
              "      <td>19403.54</td>\n",
              "      <td>False</td>\n",
              "      <td>-22192.01</td>\n",
              "    </tr>\n",
              "    <tr>\n",
              "      <th>4</th>\n",
              "      <td>1</td>\n",
              "      <td>1</td>\n",
              "      <td>2010-03-05</td>\n",
              "      <td>21827.90</td>\n",
              "      <td>False</td>\n",
              "      <td>2424.36</td>\n",
              "    </tr>\n",
              "    <tr>\n",
              "      <th>...</th>\n",
              "      <td>...</td>\n",
              "      <td>...</td>\n",
              "      <td>...</td>\n",
              "      <td>...</td>\n",
              "      <td>...</td>\n",
              "      <td>...</td>\n",
              "    </tr>\n",
              "    <tr>\n",
              "      <th>421565</th>\n",
              "      <td>45</td>\n",
              "      <td>98</td>\n",
              "      <td>2012-09-28</td>\n",
              "      <td>508.37</td>\n",
              "      <td>False</td>\n",
              "      <td>41.07</td>\n",
              "    </tr>\n",
              "    <tr>\n",
              "      <th>421566</th>\n",
              "      <td>45</td>\n",
              "      <td>98</td>\n",
              "      <td>2012-10-05</td>\n",
              "      <td>628.10</td>\n",
              "      <td>False</td>\n",
              "      <td>119.73</td>\n",
              "    </tr>\n",
              "    <tr>\n",
              "      <th>421567</th>\n",
              "      <td>45</td>\n",
              "      <td>98</td>\n",
              "      <td>2012-10-12</td>\n",
              "      <td>1061.02</td>\n",
              "      <td>False</td>\n",
              "      <td>432.92</td>\n",
              "    </tr>\n",
              "    <tr>\n",
              "      <th>421568</th>\n",
              "      <td>45</td>\n",
              "      <td>98</td>\n",
              "      <td>2012-10-19</td>\n",
              "      <td>760.01</td>\n",
              "      <td>False</td>\n",
              "      <td>-301.01</td>\n",
              "    </tr>\n",
              "    <tr>\n",
              "      <th>421569</th>\n",
              "      <td>45</td>\n",
              "      <td>98</td>\n",
              "      <td>2012-10-26</td>\n",
              "      <td>1076.80</td>\n",
              "      <td>False</td>\n",
              "      <td>316.79</td>\n",
              "    </tr>\n",
              "  </tbody>\n",
              "</table>\n",
              "<p>421570 rows × 6 columns</p>\n",
              "</div>\n",
              "      <button class=\"colab-df-convert\" onclick=\"convertToInteractive('df-c0bd53f9-c964-46c7-99fd-8a6007ae5716')\"\n",
              "              title=\"Convert this dataframe to an interactive table.\"\n",
              "              style=\"display:none;\">\n",
              "        \n",
              "  <svg xmlns=\"http://www.w3.org/2000/svg\" height=\"24px\"viewBox=\"0 0 24 24\"\n",
              "       width=\"24px\">\n",
              "    <path d=\"M0 0h24v24H0V0z\" fill=\"none\"/>\n",
              "    <path d=\"M18.56 5.44l.94 2.06.94-2.06 2.06-.94-2.06-.94-.94-2.06-.94 2.06-2.06.94zm-11 1L8.5 8.5l.94-2.06 2.06-.94-2.06-.94L8.5 2.5l-.94 2.06-2.06.94zm10 10l.94 2.06.94-2.06 2.06-.94-2.06-.94-.94-2.06-.94 2.06-2.06.94z\"/><path d=\"M17.41 7.96l-1.37-1.37c-.4-.4-.92-.59-1.43-.59-.52 0-1.04.2-1.43.59L10.3 9.45l-7.72 7.72c-.78.78-.78 2.05 0 2.83L4 21.41c.39.39.9.59 1.41.59.51 0 1.02-.2 1.41-.59l7.78-7.78 2.81-2.81c.8-.78.8-2.07 0-2.86zM5.41 20L4 18.59l7.72-7.72 1.47 1.35L5.41 20z\"/>\n",
              "  </svg>\n",
              "      </button>\n",
              "      \n",
              "  <style>\n",
              "    .colab-df-container {\n",
              "      display:flex;\n",
              "      flex-wrap:wrap;\n",
              "      gap: 12px;\n",
              "    }\n",
              "\n",
              "    .colab-df-convert {\n",
              "      background-color: #E8F0FE;\n",
              "      border: none;\n",
              "      border-radius: 50%;\n",
              "      cursor: pointer;\n",
              "      display: none;\n",
              "      fill: #1967D2;\n",
              "      height: 32px;\n",
              "      padding: 0 0 0 0;\n",
              "      width: 32px;\n",
              "    }\n",
              "\n",
              "    .colab-df-convert:hover {\n",
              "      background-color: #E2EBFA;\n",
              "      box-shadow: 0px 1px 2px rgba(60, 64, 67, 0.3), 0px 1px 3px 1px rgba(60, 64, 67, 0.15);\n",
              "      fill: #174EA6;\n",
              "    }\n",
              "\n",
              "    [theme=dark] .colab-df-convert {\n",
              "      background-color: #3B4455;\n",
              "      fill: #D2E3FC;\n",
              "    }\n",
              "\n",
              "    [theme=dark] .colab-df-convert:hover {\n",
              "      background-color: #434B5C;\n",
              "      box-shadow: 0px 1px 3px 1px rgba(0, 0, 0, 0.15);\n",
              "      filter: drop-shadow(0px 1px 2px rgba(0, 0, 0, 0.3));\n",
              "      fill: #FFFFFF;\n",
              "    }\n",
              "  </style>\n",
              "\n",
              "      <script>\n",
              "        const buttonEl =\n",
              "          document.querySelector('#df-c0bd53f9-c964-46c7-99fd-8a6007ae5716 button.colab-df-convert');\n",
              "        buttonEl.style.display =\n",
              "          google.colab.kernel.accessAllowed ? 'block' : 'none';\n",
              "\n",
              "        async function convertToInteractive(key) {\n",
              "          const element = document.querySelector('#df-c0bd53f9-c964-46c7-99fd-8a6007ae5716');\n",
              "          const dataTable =\n",
              "            await google.colab.kernel.invokeFunction('convertToInteractive',\n",
              "                                                     [key], {});\n",
              "          if (!dataTable) return;\n",
              "\n",
              "          const docLinkHtml = 'Like what you see? Visit the ' +\n",
              "            '<a target=\"_blank\" href=https://colab.research.google.com/notebooks/data_table.ipynb>data table notebook</a>'\n",
              "            + ' to learn more about interactive tables.';\n",
              "          element.innerHTML = '';\n",
              "          dataTable['output_type'] = 'display_data';\n",
              "          await google.colab.output.renderOutput(dataTable, element);\n",
              "          const docLink = document.createElement('div');\n",
              "          docLink.innerHTML = docLinkHtml;\n",
              "          element.appendChild(docLink);\n",
              "        }\n",
              "      </script>\n",
              "    </div>\n",
              "  </div>\n",
              "  "
            ]
          },
          "metadata": {},
          "execution_count": 33
        }
      ],
      "source": [
        "abc['sales_diff']=abc['Weekly_Sales'].diff()\n",
        "abc=abc.fillna(0)\n",
        "abc"
      ]
    },
    {
      "cell_type": "code",
      "execution_count": null,
      "metadata": {
        "id": "hhoqqxtKa1ob"
      },
      "outputs": [],
      "source": [
        "# import matplotlib.pyplot as plt\n",
        "# plt.figure(figsize=(15,5))\n",
        "# plt.plot(abc['Date'],abc['Weekly_Sales'])\n",
        "# plt.xlabel('Date')\n",
        "# plt.ylabel('Sales')\n",
        "# plt.title(\"Weekly Sales\")\n",
        "# plt.show()"
      ]
    },
    {
      "cell_type": "code",
      "execution_count": null,
      "metadata": {
        "colab": {
          "base_uri": "https://localhost:8080/"
        },
        "id": "HR1k7vGoa1ob",
        "outputId": "e67f6e7d-fe43-4454-84bd-e8ca0637617b"
      },
      "outputs": [
        {
          "output_type": "execute_result",
          "data": {
            "text/plain": [
              "Store           0\n",
              "Dept            0\n",
              "Date            0\n",
              "Weekly_Sales    0\n",
              "IsHoliday       0\n",
              "sales_diff      0\n",
              "dtype: int64"
            ]
          },
          "metadata": {},
          "execution_count": 35
        }
      ],
      "source": [
        "abc.isna().sum()"
      ]
    },
    {
      "cell_type": "code",
      "execution_count": null,
      "metadata": {
        "id": "O6T4qz_Ha1oc"
      },
      "outputs": [],
      "source": [
        "# type(abc['Date'][0])"
      ]
    },
    {
      "cell_type": "code",
      "execution_count": null,
      "metadata": {
        "id": "ihDOMIeca1oc"
      },
      "outputs": [],
      "source": [
        "# abc[['Date']] = abc[['Date']].apply(pd.to_datetime)\n",
        "# abc['Date'] = (abc['Date'] - abc['Date'][0]).dt.days\n",
        "# abc"
      ]
    },
    {
      "cell_type": "code",
      "execution_count": null,
      "metadata": {
        "scrolled": true,
        "colab": {
          "base_uri": "https://localhost:8080/",
          "height": 424
        },
        "id": "7VqH5gmka1oc",
        "outputId": "ce2e7630-51c5-443c-ba3a-fd312abcafd1"
      },
      "outputs": [
        {
          "output_type": "execute_result",
          "data": {
            "text/plain": [
              "       Store  Dept        Date  Weekly_Sales  IsHoliday  sales_diff\n",
              "0          1     1  2010-02-05      24924.50      False        0.00\n",
              "1          1     1  2010-02-12      46039.49       True    21114.99\n",
              "2          1     1  2010-02-19      41595.55      False    -4443.94\n",
              "3          1     1  2010-02-26      19403.54      False   -22192.01\n",
              "4          1     1  2010-03-05      21827.90      False     2424.36\n",
              "...      ...   ...         ...           ...        ...         ...\n",
              "97834     10    98  2012-09-28         22.34      False     -318.44\n",
              "97835     10    98  2012-10-05        789.38      False      767.04\n",
              "97836     10    98  2012-10-12        477.24      False     -312.14\n",
              "97837     10    98  2012-10-19        578.46      False      101.22\n",
              "97838     10    98  2012-10-26        560.02      False      -18.44\n",
              "\n",
              "[97839 rows x 6 columns]"
            ],
            "text/html": [
              "\n",
              "  <div id=\"df-680eb465-0f3d-4d02-b88b-8999491ffa02\">\n",
              "    <div class=\"colab-df-container\">\n",
              "      <div>\n",
              "<style scoped>\n",
              "    .dataframe tbody tr th:only-of-type {\n",
              "        vertical-align: middle;\n",
              "    }\n",
              "\n",
              "    .dataframe tbody tr th {\n",
              "        vertical-align: top;\n",
              "    }\n",
              "\n",
              "    .dataframe thead th {\n",
              "        text-align: right;\n",
              "    }\n",
              "</style>\n",
              "<table border=\"1\" class=\"dataframe\">\n",
              "  <thead>\n",
              "    <tr style=\"text-align: right;\">\n",
              "      <th></th>\n",
              "      <th>Store</th>\n",
              "      <th>Dept</th>\n",
              "      <th>Date</th>\n",
              "      <th>Weekly_Sales</th>\n",
              "      <th>IsHoliday</th>\n",
              "      <th>sales_diff</th>\n",
              "    </tr>\n",
              "  </thead>\n",
              "  <tbody>\n",
              "    <tr>\n",
              "      <th>0</th>\n",
              "      <td>1</td>\n",
              "      <td>1</td>\n",
              "      <td>2010-02-05</td>\n",
              "      <td>24924.50</td>\n",
              "      <td>False</td>\n",
              "      <td>0.00</td>\n",
              "    </tr>\n",
              "    <tr>\n",
              "      <th>1</th>\n",
              "      <td>1</td>\n",
              "      <td>1</td>\n",
              "      <td>2010-02-12</td>\n",
              "      <td>46039.49</td>\n",
              "      <td>True</td>\n",
              "      <td>21114.99</td>\n",
              "    </tr>\n",
              "    <tr>\n",
              "      <th>2</th>\n",
              "      <td>1</td>\n",
              "      <td>1</td>\n",
              "      <td>2010-02-19</td>\n",
              "      <td>41595.55</td>\n",
              "      <td>False</td>\n",
              "      <td>-4443.94</td>\n",
              "    </tr>\n",
              "    <tr>\n",
              "      <th>3</th>\n",
              "      <td>1</td>\n",
              "      <td>1</td>\n",
              "      <td>2010-02-26</td>\n",
              "      <td>19403.54</td>\n",
              "      <td>False</td>\n",
              "      <td>-22192.01</td>\n",
              "    </tr>\n",
              "    <tr>\n",
              "      <th>4</th>\n",
              "      <td>1</td>\n",
              "      <td>1</td>\n",
              "      <td>2010-03-05</td>\n",
              "      <td>21827.90</td>\n",
              "      <td>False</td>\n",
              "      <td>2424.36</td>\n",
              "    </tr>\n",
              "    <tr>\n",
              "      <th>...</th>\n",
              "      <td>...</td>\n",
              "      <td>...</td>\n",
              "      <td>...</td>\n",
              "      <td>...</td>\n",
              "      <td>...</td>\n",
              "      <td>...</td>\n",
              "    </tr>\n",
              "    <tr>\n",
              "      <th>97834</th>\n",
              "      <td>10</td>\n",
              "      <td>98</td>\n",
              "      <td>2012-09-28</td>\n",
              "      <td>22.34</td>\n",
              "      <td>False</td>\n",
              "      <td>-318.44</td>\n",
              "    </tr>\n",
              "    <tr>\n",
              "      <th>97835</th>\n",
              "      <td>10</td>\n",
              "      <td>98</td>\n",
              "      <td>2012-10-05</td>\n",
              "      <td>789.38</td>\n",
              "      <td>False</td>\n",
              "      <td>767.04</td>\n",
              "    </tr>\n",
              "    <tr>\n",
              "      <th>97836</th>\n",
              "      <td>10</td>\n",
              "      <td>98</td>\n",
              "      <td>2012-10-12</td>\n",
              "      <td>477.24</td>\n",
              "      <td>False</td>\n",
              "      <td>-312.14</td>\n",
              "    </tr>\n",
              "    <tr>\n",
              "      <th>97837</th>\n",
              "      <td>10</td>\n",
              "      <td>98</td>\n",
              "      <td>2012-10-19</td>\n",
              "      <td>578.46</td>\n",
              "      <td>False</td>\n",
              "      <td>101.22</td>\n",
              "    </tr>\n",
              "    <tr>\n",
              "      <th>97838</th>\n",
              "      <td>10</td>\n",
              "      <td>98</td>\n",
              "      <td>2012-10-26</td>\n",
              "      <td>560.02</td>\n",
              "      <td>False</td>\n",
              "      <td>-18.44</td>\n",
              "    </tr>\n",
              "  </tbody>\n",
              "</table>\n",
              "<p>97839 rows × 6 columns</p>\n",
              "</div>\n",
              "      <button class=\"colab-df-convert\" onclick=\"convertToInteractive('df-680eb465-0f3d-4d02-b88b-8999491ffa02')\"\n",
              "              title=\"Convert this dataframe to an interactive table.\"\n",
              "              style=\"display:none;\">\n",
              "        \n",
              "  <svg xmlns=\"http://www.w3.org/2000/svg\" height=\"24px\"viewBox=\"0 0 24 24\"\n",
              "       width=\"24px\">\n",
              "    <path d=\"M0 0h24v24H0V0z\" fill=\"none\"/>\n",
              "    <path d=\"M18.56 5.44l.94 2.06.94-2.06 2.06-.94-2.06-.94-.94-2.06-.94 2.06-2.06.94zm-11 1L8.5 8.5l.94-2.06 2.06-.94-2.06-.94L8.5 2.5l-.94 2.06-2.06.94zm10 10l.94 2.06.94-2.06 2.06-.94-2.06-.94-.94-2.06-.94 2.06-2.06.94z\"/><path d=\"M17.41 7.96l-1.37-1.37c-.4-.4-.92-.59-1.43-.59-.52 0-1.04.2-1.43.59L10.3 9.45l-7.72 7.72c-.78.78-.78 2.05 0 2.83L4 21.41c.39.39.9.59 1.41.59.51 0 1.02-.2 1.41-.59l7.78-7.78 2.81-2.81c.8-.78.8-2.07 0-2.86zM5.41 20L4 18.59l7.72-7.72 1.47 1.35L5.41 20z\"/>\n",
              "  </svg>\n",
              "      </button>\n",
              "      \n",
              "  <style>\n",
              "    .colab-df-container {\n",
              "      display:flex;\n",
              "      flex-wrap:wrap;\n",
              "      gap: 12px;\n",
              "    }\n",
              "\n",
              "    .colab-df-convert {\n",
              "      background-color: #E8F0FE;\n",
              "      border: none;\n",
              "      border-radius: 50%;\n",
              "      cursor: pointer;\n",
              "      display: none;\n",
              "      fill: #1967D2;\n",
              "      height: 32px;\n",
              "      padding: 0 0 0 0;\n",
              "      width: 32px;\n",
              "    }\n",
              "\n",
              "    .colab-df-convert:hover {\n",
              "      background-color: #E2EBFA;\n",
              "      box-shadow: 0px 1px 2px rgba(60, 64, 67, 0.3), 0px 1px 3px 1px rgba(60, 64, 67, 0.15);\n",
              "      fill: #174EA6;\n",
              "    }\n",
              "\n",
              "    [theme=dark] .colab-df-convert {\n",
              "      background-color: #3B4455;\n",
              "      fill: #D2E3FC;\n",
              "    }\n",
              "\n",
              "    [theme=dark] .colab-df-convert:hover {\n",
              "      background-color: #434B5C;\n",
              "      box-shadow: 0px 1px 3px 1px rgba(0, 0, 0, 0.15);\n",
              "      filter: drop-shadow(0px 1px 2px rgba(0, 0, 0, 0.3));\n",
              "      fill: #FFFFFF;\n",
              "    }\n",
              "  </style>\n",
              "\n",
              "      <script>\n",
              "        const buttonEl =\n",
              "          document.querySelector('#df-680eb465-0f3d-4d02-b88b-8999491ffa02 button.colab-df-convert');\n",
              "        buttonEl.style.display =\n",
              "          google.colab.kernel.accessAllowed ? 'block' : 'none';\n",
              "\n",
              "        async function convertToInteractive(key) {\n",
              "          const element = document.querySelector('#df-680eb465-0f3d-4d02-b88b-8999491ffa02');\n",
              "          const dataTable =\n",
              "            await google.colab.kernel.invokeFunction('convertToInteractive',\n",
              "                                                     [key], {});\n",
              "          if (!dataTable) return;\n",
              "\n",
              "          const docLinkHtml = 'Like what you see? Visit the ' +\n",
              "            '<a target=\"_blank\" href=https://colab.research.google.com/notebooks/data_table.ipynb>data table notebook</a>'\n",
              "            + ' to learn more about interactive tables.';\n",
              "          element.innerHTML = '';\n",
              "          dataTable['output_type'] = 'display_data';\n",
              "          await google.colab.output.renderOutput(dataTable, element);\n",
              "          const docLink = document.createElement('div');\n",
              "          docLink.innerHTML = docLinkHtml;\n",
              "          element.appendChild(docLink);\n",
              "        }\n",
              "      </script>\n",
              "    </div>\n",
              "  </div>\n",
              "  "
            ]
          },
          "metadata": {},
          "execution_count": 38
        }
      ],
      "source": [
        "abc_train=abc.loc[abc['Store']<11]\n",
        "abc_train"
      ]
    },
    {
      "cell_type": "code",
      "execution_count": null,
      "metadata": {
        "scrolled": true,
        "colab": {
          "base_uri": "https://localhost:8080/",
          "height": 424
        },
        "id": "pkDaA9Iaa1oc",
        "outputId": "df2badb7-6315-4fee-bd17-81151035e2fc"
      },
      "outputs": [
        {
          "output_type": "execute_result",
          "data": {
            "text/plain": [
              "        Store  Dept        Date  Weekly_Sales  IsHoliday  sales_diff\n",
              "107901     12     1  2010-02-05      17426.75      False    17356.75\n",
              "107902     12     1  2010-02-12      37734.82       True    20308.07\n",
              "107903     12     1  2010-02-19      22135.29      False   -15599.53\n",
              "107904     12     1  2010-02-26      14942.21      False    -7193.08\n",
              "107905     12     1  2010-03-05      17098.49      False     2156.28\n",
              "...       ...   ...         ...           ...        ...         ...\n",
              "421565     45    98  2012-09-28        508.37      False       41.07\n",
              "421566     45    98  2012-10-05        628.10      False      119.73\n",
              "421567     45    98  2012-10-12       1061.02      False      432.92\n",
              "421568     45    98  2012-10-19        760.01      False     -301.01\n",
              "421569     45    98  2012-10-26       1076.80      False      316.79\n",
              "\n",
              "[313669 rows x 6 columns]"
            ],
            "text/html": [
              "\n",
              "  <div id=\"df-39a6eb52-fe63-47b4-9cea-09c8e89aca65\">\n",
              "    <div class=\"colab-df-container\">\n",
              "      <div>\n",
              "<style scoped>\n",
              "    .dataframe tbody tr th:only-of-type {\n",
              "        vertical-align: middle;\n",
              "    }\n",
              "\n",
              "    .dataframe tbody tr th {\n",
              "        vertical-align: top;\n",
              "    }\n",
              "\n",
              "    .dataframe thead th {\n",
              "        text-align: right;\n",
              "    }\n",
              "</style>\n",
              "<table border=\"1\" class=\"dataframe\">\n",
              "  <thead>\n",
              "    <tr style=\"text-align: right;\">\n",
              "      <th></th>\n",
              "      <th>Store</th>\n",
              "      <th>Dept</th>\n",
              "      <th>Date</th>\n",
              "      <th>Weekly_Sales</th>\n",
              "      <th>IsHoliday</th>\n",
              "      <th>sales_diff</th>\n",
              "    </tr>\n",
              "  </thead>\n",
              "  <tbody>\n",
              "    <tr>\n",
              "      <th>107901</th>\n",
              "      <td>12</td>\n",
              "      <td>1</td>\n",
              "      <td>2010-02-05</td>\n",
              "      <td>17426.75</td>\n",
              "      <td>False</td>\n",
              "      <td>17356.75</td>\n",
              "    </tr>\n",
              "    <tr>\n",
              "      <th>107902</th>\n",
              "      <td>12</td>\n",
              "      <td>1</td>\n",
              "      <td>2010-02-12</td>\n",
              "      <td>37734.82</td>\n",
              "      <td>True</td>\n",
              "      <td>20308.07</td>\n",
              "    </tr>\n",
              "    <tr>\n",
              "      <th>107903</th>\n",
              "      <td>12</td>\n",
              "      <td>1</td>\n",
              "      <td>2010-02-19</td>\n",
              "      <td>22135.29</td>\n",
              "      <td>False</td>\n",
              "      <td>-15599.53</td>\n",
              "    </tr>\n",
              "    <tr>\n",
              "      <th>107904</th>\n",
              "      <td>12</td>\n",
              "      <td>1</td>\n",
              "      <td>2010-02-26</td>\n",
              "      <td>14942.21</td>\n",
              "      <td>False</td>\n",
              "      <td>-7193.08</td>\n",
              "    </tr>\n",
              "    <tr>\n",
              "      <th>107905</th>\n",
              "      <td>12</td>\n",
              "      <td>1</td>\n",
              "      <td>2010-03-05</td>\n",
              "      <td>17098.49</td>\n",
              "      <td>False</td>\n",
              "      <td>2156.28</td>\n",
              "    </tr>\n",
              "    <tr>\n",
              "      <th>...</th>\n",
              "      <td>...</td>\n",
              "      <td>...</td>\n",
              "      <td>...</td>\n",
              "      <td>...</td>\n",
              "      <td>...</td>\n",
              "      <td>...</td>\n",
              "    </tr>\n",
              "    <tr>\n",
              "      <th>421565</th>\n",
              "      <td>45</td>\n",
              "      <td>98</td>\n",
              "      <td>2012-09-28</td>\n",
              "      <td>508.37</td>\n",
              "      <td>False</td>\n",
              "      <td>41.07</td>\n",
              "    </tr>\n",
              "    <tr>\n",
              "      <th>421566</th>\n",
              "      <td>45</td>\n",
              "      <td>98</td>\n",
              "      <td>2012-10-05</td>\n",
              "      <td>628.10</td>\n",
              "      <td>False</td>\n",
              "      <td>119.73</td>\n",
              "    </tr>\n",
              "    <tr>\n",
              "      <th>421567</th>\n",
              "      <td>45</td>\n",
              "      <td>98</td>\n",
              "      <td>2012-10-12</td>\n",
              "      <td>1061.02</td>\n",
              "      <td>False</td>\n",
              "      <td>432.92</td>\n",
              "    </tr>\n",
              "    <tr>\n",
              "      <th>421568</th>\n",
              "      <td>45</td>\n",
              "      <td>98</td>\n",
              "      <td>2012-10-19</td>\n",
              "      <td>760.01</td>\n",
              "      <td>False</td>\n",
              "      <td>-301.01</td>\n",
              "    </tr>\n",
              "    <tr>\n",
              "      <th>421569</th>\n",
              "      <td>45</td>\n",
              "      <td>98</td>\n",
              "      <td>2012-10-26</td>\n",
              "      <td>1076.80</td>\n",
              "      <td>False</td>\n",
              "      <td>316.79</td>\n",
              "    </tr>\n",
              "  </tbody>\n",
              "</table>\n",
              "<p>313669 rows × 6 columns</p>\n",
              "</div>\n",
              "      <button class=\"colab-df-convert\" onclick=\"convertToInteractive('df-39a6eb52-fe63-47b4-9cea-09c8e89aca65')\"\n",
              "              title=\"Convert this dataframe to an interactive table.\"\n",
              "              style=\"display:none;\">\n",
              "        \n",
              "  <svg xmlns=\"http://www.w3.org/2000/svg\" height=\"24px\"viewBox=\"0 0 24 24\"\n",
              "       width=\"24px\">\n",
              "    <path d=\"M0 0h24v24H0V0z\" fill=\"none\"/>\n",
              "    <path d=\"M18.56 5.44l.94 2.06.94-2.06 2.06-.94-2.06-.94-.94-2.06-.94 2.06-2.06.94zm-11 1L8.5 8.5l.94-2.06 2.06-.94-2.06-.94L8.5 2.5l-.94 2.06-2.06.94zm10 10l.94 2.06.94-2.06 2.06-.94-2.06-.94-.94-2.06-.94 2.06-2.06.94z\"/><path d=\"M17.41 7.96l-1.37-1.37c-.4-.4-.92-.59-1.43-.59-.52 0-1.04.2-1.43.59L10.3 9.45l-7.72 7.72c-.78.78-.78 2.05 0 2.83L4 21.41c.39.39.9.59 1.41.59.51 0 1.02-.2 1.41-.59l7.78-7.78 2.81-2.81c.8-.78.8-2.07 0-2.86zM5.41 20L4 18.59l7.72-7.72 1.47 1.35L5.41 20z\"/>\n",
              "  </svg>\n",
              "      </button>\n",
              "      \n",
              "  <style>\n",
              "    .colab-df-container {\n",
              "      display:flex;\n",
              "      flex-wrap:wrap;\n",
              "      gap: 12px;\n",
              "    }\n",
              "\n",
              "    .colab-df-convert {\n",
              "      background-color: #E8F0FE;\n",
              "      border: none;\n",
              "      border-radius: 50%;\n",
              "      cursor: pointer;\n",
              "      display: none;\n",
              "      fill: #1967D2;\n",
              "      height: 32px;\n",
              "      padding: 0 0 0 0;\n",
              "      width: 32px;\n",
              "    }\n",
              "\n",
              "    .colab-df-convert:hover {\n",
              "      background-color: #E2EBFA;\n",
              "      box-shadow: 0px 1px 2px rgba(60, 64, 67, 0.3), 0px 1px 3px 1px rgba(60, 64, 67, 0.15);\n",
              "      fill: #174EA6;\n",
              "    }\n",
              "\n",
              "    [theme=dark] .colab-df-convert {\n",
              "      background-color: #3B4455;\n",
              "      fill: #D2E3FC;\n",
              "    }\n",
              "\n",
              "    [theme=dark] .colab-df-convert:hover {\n",
              "      background-color: #434B5C;\n",
              "      box-shadow: 0px 1px 3px 1px rgba(0, 0, 0, 0.15);\n",
              "      filter: drop-shadow(0px 1px 2px rgba(0, 0, 0, 0.3));\n",
              "      fill: #FFFFFF;\n",
              "    }\n",
              "  </style>\n",
              "\n",
              "      <script>\n",
              "        const buttonEl =\n",
              "          document.querySelector('#df-39a6eb52-fe63-47b4-9cea-09c8e89aca65 button.colab-df-convert');\n",
              "        buttonEl.style.display =\n",
              "          google.colab.kernel.accessAllowed ? 'block' : 'none';\n",
              "\n",
              "        async function convertToInteractive(key) {\n",
              "          const element = document.querySelector('#df-39a6eb52-fe63-47b4-9cea-09c8e89aca65');\n",
              "          const dataTable =\n",
              "            await google.colab.kernel.invokeFunction('convertToInteractive',\n",
              "                                                     [key], {});\n",
              "          if (!dataTable) return;\n",
              "\n",
              "          const docLinkHtml = 'Like what you see? Visit the ' +\n",
              "            '<a target=\"_blank\" href=https://colab.research.google.com/notebooks/data_table.ipynb>data table notebook</a>'\n",
              "            + ' to learn more about interactive tables.';\n",
              "          element.innerHTML = '';\n",
              "          dataTable['output_type'] = 'display_data';\n",
              "          await google.colab.output.renderOutput(dataTable, element);\n",
              "          const docLink = document.createElement('div');\n",
              "          docLink.innerHTML = docLinkHtml;\n",
              "          element.appendChild(docLink);\n",
              "        }\n",
              "      </script>\n",
              "    </div>\n",
              "  </div>\n",
              "  "
            ]
          },
          "metadata": {},
          "execution_count": 39
        }
      ],
      "source": [
        "abc_test=abc.loc[abc['Store']>11]\n",
        "abc_test"
      ]
    },
    {
      "cell_type": "code",
      "execution_count": null,
      "metadata": {
        "colab": {
          "base_uri": "https://localhost:8080/"
        },
        "id": "0hWo3EI8a1oc",
        "outputId": "2a0560f4-3bbd-42af-c9af-c94d69678742"
      },
      "outputs": [
        {
          "output_type": "stream",
          "name": "stdout",
          "text": [
            "Train data shape:-  (97839, 6)\n",
            "Test Data Shape:- (313669, 6)\n"
          ]
        }
      ],
      "source": [
        "# train=abc_new[]\n",
        "# test=\n",
        "print(\"Train data shape:- \",abc_train.shape)\n",
        "print(\"Test Data Shape:-\",abc_test.shape)"
      ]
    },
    {
      "cell_type": "markdown",
      "metadata": {
        "id": "CGOaNZIQa1od"
      },
      "source": [
        "doing this for abc_train:-"
      ]
    },
    {
      "cell_type": "code",
      "execution_count": null,
      "metadata": {
        "scrolled": true,
        "colab": {
          "base_uri": "https://localhost:8080/",
          "height": 510
        },
        "id": "9qWcvF_wa1od",
        "outputId": "7d3af6cd-5792-489f-e8e1-f590605352c7"
      },
      "outputs": [
        {
          "output_type": "stream",
          "name": "stderr",
          "text": [
            "/usr/local/lib/python3.7/dist-packages/ipykernel_launcher.py:2: SettingWithCopyWarning: \n",
            "A value is trying to be set on a copy of a slice from a DataFrame\n",
            "\n",
            "See the caveats in the documentation: https://pandas.pydata.org/pandas-docs/stable/user_guide/indexing.html#returning-a-view-versus-a-copy\n",
            "  \n"
          ]
        },
        {
          "output_type": "execute_result",
          "data": {
            "text/plain": [
              "       sales_diff\n",
              "0        24924.50\n",
              "1        21114.99\n",
              "2        -4443.94\n",
              "3       -22192.01\n",
              "4         2424.36\n",
              "...           ...\n",
              "97834     -318.44\n",
              "97835      767.04\n",
              "97836     -312.14\n",
              "97837      101.22\n",
              "97838      -18.44\n",
              "\n",
              "[97839 rows x 1 columns]"
            ],
            "text/html": [
              "\n",
              "  <div id=\"df-2c0bcedc-fc74-4442-9210-89058c0c4209\">\n",
              "    <div class=\"colab-df-container\">\n",
              "      <div>\n",
              "<style scoped>\n",
              "    .dataframe tbody tr th:only-of-type {\n",
              "        vertical-align: middle;\n",
              "    }\n",
              "\n",
              "    .dataframe tbody tr th {\n",
              "        vertical-align: top;\n",
              "    }\n",
              "\n",
              "    .dataframe thead th {\n",
              "        text-align: right;\n",
              "    }\n",
              "</style>\n",
              "<table border=\"1\" class=\"dataframe\">\n",
              "  <thead>\n",
              "    <tr style=\"text-align: right;\">\n",
              "      <th></th>\n",
              "      <th>sales_diff</th>\n",
              "    </tr>\n",
              "  </thead>\n",
              "  <tbody>\n",
              "    <tr>\n",
              "      <th>0</th>\n",
              "      <td>24924.50</td>\n",
              "    </tr>\n",
              "    <tr>\n",
              "      <th>1</th>\n",
              "      <td>21114.99</td>\n",
              "    </tr>\n",
              "    <tr>\n",
              "      <th>2</th>\n",
              "      <td>-4443.94</td>\n",
              "    </tr>\n",
              "    <tr>\n",
              "      <th>3</th>\n",
              "      <td>-22192.01</td>\n",
              "    </tr>\n",
              "    <tr>\n",
              "      <th>4</th>\n",
              "      <td>2424.36</td>\n",
              "    </tr>\n",
              "    <tr>\n",
              "      <th>...</th>\n",
              "      <td>...</td>\n",
              "    </tr>\n",
              "    <tr>\n",
              "      <th>97834</th>\n",
              "      <td>-318.44</td>\n",
              "    </tr>\n",
              "    <tr>\n",
              "      <th>97835</th>\n",
              "      <td>767.04</td>\n",
              "    </tr>\n",
              "    <tr>\n",
              "      <th>97836</th>\n",
              "      <td>-312.14</td>\n",
              "    </tr>\n",
              "    <tr>\n",
              "      <th>97837</th>\n",
              "      <td>101.22</td>\n",
              "    </tr>\n",
              "    <tr>\n",
              "      <th>97838</th>\n",
              "      <td>-18.44</td>\n",
              "    </tr>\n",
              "  </tbody>\n",
              "</table>\n",
              "<p>97839 rows × 1 columns</p>\n",
              "</div>\n",
              "      <button class=\"colab-df-convert\" onclick=\"convertToInteractive('df-2c0bcedc-fc74-4442-9210-89058c0c4209')\"\n",
              "              title=\"Convert this dataframe to an interactive table.\"\n",
              "              style=\"display:none;\">\n",
              "        \n",
              "  <svg xmlns=\"http://www.w3.org/2000/svg\" height=\"24px\"viewBox=\"0 0 24 24\"\n",
              "       width=\"24px\">\n",
              "    <path d=\"M0 0h24v24H0V0z\" fill=\"none\"/>\n",
              "    <path d=\"M18.56 5.44l.94 2.06.94-2.06 2.06-.94-2.06-.94-.94-2.06-.94 2.06-2.06.94zm-11 1L8.5 8.5l.94-2.06 2.06-.94-2.06-.94L8.5 2.5l-.94 2.06-2.06.94zm10 10l.94 2.06.94-2.06 2.06-.94-2.06-.94-.94-2.06-.94 2.06-2.06.94z\"/><path d=\"M17.41 7.96l-1.37-1.37c-.4-.4-.92-.59-1.43-.59-.52 0-1.04.2-1.43.59L10.3 9.45l-7.72 7.72c-.78.78-.78 2.05 0 2.83L4 21.41c.39.39.9.59 1.41.59.51 0 1.02-.2 1.41-.59l7.78-7.78 2.81-2.81c.8-.78.8-2.07 0-2.86zM5.41 20L4 18.59l7.72-7.72 1.47 1.35L5.41 20z\"/>\n",
              "  </svg>\n",
              "      </button>\n",
              "      \n",
              "  <style>\n",
              "    .colab-df-container {\n",
              "      display:flex;\n",
              "      flex-wrap:wrap;\n",
              "      gap: 12px;\n",
              "    }\n",
              "\n",
              "    .colab-df-convert {\n",
              "      background-color: #E8F0FE;\n",
              "      border: none;\n",
              "      border-radius: 50%;\n",
              "      cursor: pointer;\n",
              "      display: none;\n",
              "      fill: #1967D2;\n",
              "      height: 32px;\n",
              "      padding: 0 0 0 0;\n",
              "      width: 32px;\n",
              "    }\n",
              "\n",
              "    .colab-df-convert:hover {\n",
              "      background-color: #E2EBFA;\n",
              "      box-shadow: 0px 1px 2px rgba(60, 64, 67, 0.3), 0px 1px 3px 1px rgba(60, 64, 67, 0.15);\n",
              "      fill: #174EA6;\n",
              "    }\n",
              "\n",
              "    [theme=dark] .colab-df-convert {\n",
              "      background-color: #3B4455;\n",
              "      fill: #D2E3FC;\n",
              "    }\n",
              "\n",
              "    [theme=dark] .colab-df-convert:hover {\n",
              "      background-color: #434B5C;\n",
              "      box-shadow: 0px 1px 3px 1px rgba(0, 0, 0, 0.15);\n",
              "      filter: drop-shadow(0px 1px 2px rgba(0, 0, 0, 0.3));\n",
              "      fill: #FFFFFF;\n",
              "    }\n",
              "  </style>\n",
              "\n",
              "      <script>\n",
              "        const buttonEl =\n",
              "          document.querySelector('#df-2c0bcedc-fc74-4442-9210-89058c0c4209 button.colab-df-convert');\n",
              "        buttonEl.style.display =\n",
              "          google.colab.kernel.accessAllowed ? 'block' : 'none';\n",
              "\n",
              "        async function convertToInteractive(key) {\n",
              "          const element = document.querySelector('#df-2c0bcedc-fc74-4442-9210-89058c0c4209');\n",
              "          const dataTable =\n",
              "            await google.colab.kernel.invokeFunction('convertToInteractive',\n",
              "                                                     [key], {});\n",
              "          if (!dataTable) return;\n",
              "\n",
              "          const docLinkHtml = 'Like what you see? Visit the ' +\n",
              "            '<a target=\"_blank\" href=https://colab.research.google.com/notebooks/data_table.ipynb>data table notebook</a>'\n",
              "            + ' to learn more about interactive tables.';\n",
              "          element.innerHTML = '';\n",
              "          dataTable['output_type'] = 'display_data';\n",
              "          await google.colab.output.renderOutput(dataTable, element);\n",
              "          const docLink = document.createElement('div');\n",
              "          docLink.innerHTML = docLinkHtml;\n",
              "          element.appendChild(docLink);\n",
              "        }\n",
              "      </script>\n",
              "    </div>\n",
              "  </div>\n",
              "  "
            ]
          },
          "metadata": {},
          "execution_count": 41
        }
      ],
      "source": [
        "abc_new=abc_train[['sales_diff','Weekly_Sales']]\n",
        "abc_new['sales_diff'][0]=abc_new['Weekly_Sales'][0]\n",
        "abc_new=abc_new[['sales_diff']]\n",
        "abc_new"
      ]
    },
    {
      "cell_type": "code",
      "execution_count": null,
      "metadata": {
        "scrolled": true,
        "colab": {
          "base_uri": "https://localhost:8080/",
          "height": 299
        },
        "id": "3692o2iFa1od",
        "outputId": "a8f51c45-f7ae-4c4d-834d-ba4419fce487"
      },
      "outputs": [
        {
          "output_type": "execute_result",
          "data": {
            "text/plain": [
              "   sales_diff    week_1    week_2    week_3   week_4  week_5  week_6  week_7  \\\n",
              "0    24924.50      0.00      0.00      0.00      0.0     0.0     0.0     0.0   \n",
              "1    21114.99  24924.50      0.00      0.00      0.0     0.0     0.0     0.0   \n",
              "2    -4443.94  21114.99  24924.50      0.00      0.0     0.0     0.0     0.0   \n",
              "3   -22192.01  -4443.94  21114.99  24924.50      0.0     0.0     0.0     0.0   \n",
              "4     2424.36 -22192.01  -4443.94  21114.99  24924.5     0.0     0.0     0.0   \n",
              "\n",
              "   week_8  week_9  ...  week_90  week_91  week_92  week_93  week_94  week_95  \\\n",
              "0     0.0     0.0  ...      0.0      0.0      0.0      0.0      0.0      0.0   \n",
              "1     0.0     0.0  ...      0.0      0.0      0.0      0.0      0.0      0.0   \n",
              "2     0.0     0.0  ...      0.0      0.0      0.0      0.0      0.0      0.0   \n",
              "3     0.0     0.0  ...      0.0      0.0      0.0      0.0      0.0      0.0   \n",
              "4     0.0     0.0  ...      0.0      0.0      0.0      0.0      0.0      0.0   \n",
              "\n",
              "   week_96  week_97  week_98  week_99  \n",
              "0      0.0      0.0      0.0      0.0  \n",
              "1      0.0      0.0      0.0      0.0  \n",
              "2      0.0      0.0      0.0      0.0  \n",
              "3      0.0      0.0      0.0      0.0  \n",
              "4      0.0      0.0      0.0      0.0  \n",
              "\n",
              "[5 rows x 100 columns]"
            ],
            "text/html": [
              "\n",
              "  <div id=\"df-cc1c4289-8511-4183-953f-c5fee2bca1f8\">\n",
              "    <div class=\"colab-df-container\">\n",
              "      <div>\n",
              "<style scoped>\n",
              "    .dataframe tbody tr th:only-of-type {\n",
              "        vertical-align: middle;\n",
              "    }\n",
              "\n",
              "    .dataframe tbody tr th {\n",
              "        vertical-align: top;\n",
              "    }\n",
              "\n",
              "    .dataframe thead th {\n",
              "        text-align: right;\n",
              "    }\n",
              "</style>\n",
              "<table border=\"1\" class=\"dataframe\">\n",
              "  <thead>\n",
              "    <tr style=\"text-align: right;\">\n",
              "      <th></th>\n",
              "      <th>sales_diff</th>\n",
              "      <th>week_1</th>\n",
              "      <th>week_2</th>\n",
              "      <th>week_3</th>\n",
              "      <th>week_4</th>\n",
              "      <th>week_5</th>\n",
              "      <th>week_6</th>\n",
              "      <th>week_7</th>\n",
              "      <th>week_8</th>\n",
              "      <th>week_9</th>\n",
              "      <th>...</th>\n",
              "      <th>week_90</th>\n",
              "      <th>week_91</th>\n",
              "      <th>week_92</th>\n",
              "      <th>week_93</th>\n",
              "      <th>week_94</th>\n",
              "      <th>week_95</th>\n",
              "      <th>week_96</th>\n",
              "      <th>week_97</th>\n",
              "      <th>week_98</th>\n",
              "      <th>week_99</th>\n",
              "    </tr>\n",
              "  </thead>\n",
              "  <tbody>\n",
              "    <tr>\n",
              "      <th>0</th>\n",
              "      <td>24924.50</td>\n",
              "      <td>0.00</td>\n",
              "      <td>0.00</td>\n",
              "      <td>0.00</td>\n",
              "      <td>0.0</td>\n",
              "      <td>0.0</td>\n",
              "      <td>0.0</td>\n",
              "      <td>0.0</td>\n",
              "      <td>0.0</td>\n",
              "      <td>0.0</td>\n",
              "      <td>...</td>\n",
              "      <td>0.0</td>\n",
              "      <td>0.0</td>\n",
              "      <td>0.0</td>\n",
              "      <td>0.0</td>\n",
              "      <td>0.0</td>\n",
              "      <td>0.0</td>\n",
              "      <td>0.0</td>\n",
              "      <td>0.0</td>\n",
              "      <td>0.0</td>\n",
              "      <td>0.0</td>\n",
              "    </tr>\n",
              "    <tr>\n",
              "      <th>1</th>\n",
              "      <td>21114.99</td>\n",
              "      <td>24924.50</td>\n",
              "      <td>0.00</td>\n",
              "      <td>0.00</td>\n",
              "      <td>0.0</td>\n",
              "      <td>0.0</td>\n",
              "      <td>0.0</td>\n",
              "      <td>0.0</td>\n",
              "      <td>0.0</td>\n",
              "      <td>0.0</td>\n",
              "      <td>...</td>\n",
              "      <td>0.0</td>\n",
              "      <td>0.0</td>\n",
              "      <td>0.0</td>\n",
              "      <td>0.0</td>\n",
              "      <td>0.0</td>\n",
              "      <td>0.0</td>\n",
              "      <td>0.0</td>\n",
              "      <td>0.0</td>\n",
              "      <td>0.0</td>\n",
              "      <td>0.0</td>\n",
              "    </tr>\n",
              "    <tr>\n",
              "      <th>2</th>\n",
              "      <td>-4443.94</td>\n",
              "      <td>21114.99</td>\n",
              "      <td>24924.50</td>\n",
              "      <td>0.00</td>\n",
              "      <td>0.0</td>\n",
              "      <td>0.0</td>\n",
              "      <td>0.0</td>\n",
              "      <td>0.0</td>\n",
              "      <td>0.0</td>\n",
              "      <td>0.0</td>\n",
              "      <td>...</td>\n",
              "      <td>0.0</td>\n",
              "      <td>0.0</td>\n",
              "      <td>0.0</td>\n",
              "      <td>0.0</td>\n",
              "      <td>0.0</td>\n",
              "      <td>0.0</td>\n",
              "      <td>0.0</td>\n",
              "      <td>0.0</td>\n",
              "      <td>0.0</td>\n",
              "      <td>0.0</td>\n",
              "    </tr>\n",
              "    <tr>\n",
              "      <th>3</th>\n",
              "      <td>-22192.01</td>\n",
              "      <td>-4443.94</td>\n",
              "      <td>21114.99</td>\n",
              "      <td>24924.50</td>\n",
              "      <td>0.0</td>\n",
              "      <td>0.0</td>\n",
              "      <td>0.0</td>\n",
              "      <td>0.0</td>\n",
              "      <td>0.0</td>\n",
              "      <td>0.0</td>\n",
              "      <td>...</td>\n",
              "      <td>0.0</td>\n",
              "      <td>0.0</td>\n",
              "      <td>0.0</td>\n",
              "      <td>0.0</td>\n",
              "      <td>0.0</td>\n",
              "      <td>0.0</td>\n",
              "      <td>0.0</td>\n",
              "      <td>0.0</td>\n",
              "      <td>0.0</td>\n",
              "      <td>0.0</td>\n",
              "    </tr>\n",
              "    <tr>\n",
              "      <th>4</th>\n",
              "      <td>2424.36</td>\n",
              "      <td>-22192.01</td>\n",
              "      <td>-4443.94</td>\n",
              "      <td>21114.99</td>\n",
              "      <td>24924.5</td>\n",
              "      <td>0.0</td>\n",
              "      <td>0.0</td>\n",
              "      <td>0.0</td>\n",
              "      <td>0.0</td>\n",
              "      <td>0.0</td>\n",
              "      <td>...</td>\n",
              "      <td>0.0</td>\n",
              "      <td>0.0</td>\n",
              "      <td>0.0</td>\n",
              "      <td>0.0</td>\n",
              "      <td>0.0</td>\n",
              "      <td>0.0</td>\n",
              "      <td>0.0</td>\n",
              "      <td>0.0</td>\n",
              "      <td>0.0</td>\n",
              "      <td>0.0</td>\n",
              "    </tr>\n",
              "  </tbody>\n",
              "</table>\n",
              "<p>5 rows × 100 columns</p>\n",
              "</div>\n",
              "      <button class=\"colab-df-convert\" onclick=\"convertToInteractive('df-cc1c4289-8511-4183-953f-c5fee2bca1f8')\"\n",
              "              title=\"Convert this dataframe to an interactive table.\"\n",
              "              style=\"display:none;\">\n",
              "        \n",
              "  <svg xmlns=\"http://www.w3.org/2000/svg\" height=\"24px\"viewBox=\"0 0 24 24\"\n",
              "       width=\"24px\">\n",
              "    <path d=\"M0 0h24v24H0V0z\" fill=\"none\"/>\n",
              "    <path d=\"M18.56 5.44l.94 2.06.94-2.06 2.06-.94-2.06-.94-.94-2.06-.94 2.06-2.06.94zm-11 1L8.5 8.5l.94-2.06 2.06-.94-2.06-.94L8.5 2.5l-.94 2.06-2.06.94zm10 10l.94 2.06.94-2.06 2.06-.94-2.06-.94-.94-2.06-.94 2.06-2.06.94z\"/><path d=\"M17.41 7.96l-1.37-1.37c-.4-.4-.92-.59-1.43-.59-.52 0-1.04.2-1.43.59L10.3 9.45l-7.72 7.72c-.78.78-.78 2.05 0 2.83L4 21.41c.39.39.9.59 1.41.59.51 0 1.02-.2 1.41-.59l7.78-7.78 2.81-2.81c.8-.78.8-2.07 0-2.86zM5.41 20L4 18.59l7.72-7.72 1.47 1.35L5.41 20z\"/>\n",
              "  </svg>\n",
              "      </button>\n",
              "      \n",
              "  <style>\n",
              "    .colab-df-container {\n",
              "      display:flex;\n",
              "      flex-wrap:wrap;\n",
              "      gap: 12px;\n",
              "    }\n",
              "\n",
              "    .colab-df-convert {\n",
              "      background-color: #E8F0FE;\n",
              "      border: none;\n",
              "      border-radius: 50%;\n",
              "      cursor: pointer;\n",
              "      display: none;\n",
              "      fill: #1967D2;\n",
              "      height: 32px;\n",
              "      padding: 0 0 0 0;\n",
              "      width: 32px;\n",
              "    }\n",
              "\n",
              "    .colab-df-convert:hover {\n",
              "      background-color: #E2EBFA;\n",
              "      box-shadow: 0px 1px 2px rgba(60, 64, 67, 0.3), 0px 1px 3px 1px rgba(60, 64, 67, 0.15);\n",
              "      fill: #174EA6;\n",
              "    }\n",
              "\n",
              "    [theme=dark] .colab-df-convert {\n",
              "      background-color: #3B4455;\n",
              "      fill: #D2E3FC;\n",
              "    }\n",
              "\n",
              "    [theme=dark] .colab-df-convert:hover {\n",
              "      background-color: #434B5C;\n",
              "      box-shadow: 0px 1px 3px 1px rgba(0, 0, 0, 0.15);\n",
              "      filter: drop-shadow(0px 1px 2px rgba(0, 0, 0, 0.3));\n",
              "      fill: #FFFFFF;\n",
              "    }\n",
              "  </style>\n",
              "\n",
              "      <script>\n",
              "        const buttonEl =\n",
              "          document.querySelector('#df-cc1c4289-8511-4183-953f-c5fee2bca1f8 button.colab-df-convert');\n",
              "        buttonEl.style.display =\n",
              "          google.colab.kernel.accessAllowed ? 'block' : 'none';\n",
              "\n",
              "        async function convertToInteractive(key) {\n",
              "          const element = document.querySelector('#df-cc1c4289-8511-4183-953f-c5fee2bca1f8');\n",
              "          const dataTable =\n",
              "            await google.colab.kernel.invokeFunction('convertToInteractive',\n",
              "                                                     [key], {});\n",
              "          if (!dataTable) return;\n",
              "\n",
              "          const docLinkHtml = 'Like what you see? Visit the ' +\n",
              "            '<a target=\"_blank\" href=https://colab.research.google.com/notebooks/data_table.ipynb>data table notebook</a>'\n",
              "            + ' to learn more about interactive tables.';\n",
              "          element.innerHTML = '';\n",
              "          dataTable['output_type'] = 'display_data';\n",
              "          await google.colab.output.renderOutput(dataTable, element);\n",
              "          const docLink = document.createElement('div');\n",
              "          docLink.innerHTML = docLinkHtml;\n",
              "          element.appendChild(docLink);\n",
              "        }\n",
              "      </script>\n",
              "    </div>\n",
              "  </div>\n",
              "  "
            ]
          },
          "metadata": {},
          "execution_count": 42
        }
      ],
      "source": [
        "for i in range(1,100):#97839\n",
        "    col_name='week_'+str(i)\n",
        "    abc_new[col_name]=abc_new['sales_diff'].shift(i)\n",
        "abc_new=abc_new.fillna(0)\n",
        "abc_new.head()\n",
        "abc_new_train=abc_new\n",
        "abc_new_train.head()"
      ]
    },
    {
      "cell_type": "markdown",
      "metadata": {
        "id": "86FcwwIOa1od"
      },
      "source": [
        "for abc_test:- data:- "
      ]
    },
    {
      "cell_type": "code",
      "execution_count": null,
      "metadata": {
        "scrolled": false,
        "colab": {
          "base_uri": "https://localhost:8080/",
          "height": 424
        },
        "id": "LyDiIikQa1od",
        "outputId": "07e09708-c54c-475b-9d98-630e4caa4c39"
      },
      "outputs": [
        {
          "output_type": "execute_result",
          "data": {
            "text/plain": [
              "        sales_diff\n",
              "107901    17356.75\n",
              "107902    20308.07\n",
              "107903   -15599.53\n",
              "107904    -7193.08\n",
              "107905     2156.28\n",
              "...            ...\n",
              "421565       41.07\n",
              "421566      119.73\n",
              "421567      432.92\n",
              "421568     -301.01\n",
              "421569      316.79\n",
              "\n",
              "[313669 rows x 1 columns]"
            ],
            "text/html": [
              "\n",
              "  <div id=\"df-dcfa4a32-dd37-4d97-9a50-45f0d34fbe9b\">\n",
              "    <div class=\"colab-df-container\">\n",
              "      <div>\n",
              "<style scoped>\n",
              "    .dataframe tbody tr th:only-of-type {\n",
              "        vertical-align: middle;\n",
              "    }\n",
              "\n",
              "    .dataframe tbody tr th {\n",
              "        vertical-align: top;\n",
              "    }\n",
              "\n",
              "    .dataframe thead th {\n",
              "        text-align: right;\n",
              "    }\n",
              "</style>\n",
              "<table border=\"1\" class=\"dataframe\">\n",
              "  <thead>\n",
              "    <tr style=\"text-align: right;\">\n",
              "      <th></th>\n",
              "      <th>sales_diff</th>\n",
              "    </tr>\n",
              "  </thead>\n",
              "  <tbody>\n",
              "    <tr>\n",
              "      <th>107901</th>\n",
              "      <td>17356.75</td>\n",
              "    </tr>\n",
              "    <tr>\n",
              "      <th>107902</th>\n",
              "      <td>20308.07</td>\n",
              "    </tr>\n",
              "    <tr>\n",
              "      <th>107903</th>\n",
              "      <td>-15599.53</td>\n",
              "    </tr>\n",
              "    <tr>\n",
              "      <th>107904</th>\n",
              "      <td>-7193.08</td>\n",
              "    </tr>\n",
              "    <tr>\n",
              "      <th>107905</th>\n",
              "      <td>2156.28</td>\n",
              "    </tr>\n",
              "    <tr>\n",
              "      <th>...</th>\n",
              "      <td>...</td>\n",
              "    </tr>\n",
              "    <tr>\n",
              "      <th>421565</th>\n",
              "      <td>41.07</td>\n",
              "    </tr>\n",
              "    <tr>\n",
              "      <th>421566</th>\n",
              "      <td>119.73</td>\n",
              "    </tr>\n",
              "    <tr>\n",
              "      <th>421567</th>\n",
              "      <td>432.92</td>\n",
              "    </tr>\n",
              "    <tr>\n",
              "      <th>421568</th>\n",
              "      <td>-301.01</td>\n",
              "    </tr>\n",
              "    <tr>\n",
              "      <th>421569</th>\n",
              "      <td>316.79</td>\n",
              "    </tr>\n",
              "  </tbody>\n",
              "</table>\n",
              "<p>313669 rows × 1 columns</p>\n",
              "</div>\n",
              "      <button class=\"colab-df-convert\" onclick=\"convertToInteractive('df-dcfa4a32-dd37-4d97-9a50-45f0d34fbe9b')\"\n",
              "              title=\"Convert this dataframe to an interactive table.\"\n",
              "              style=\"display:none;\">\n",
              "        \n",
              "  <svg xmlns=\"http://www.w3.org/2000/svg\" height=\"24px\"viewBox=\"0 0 24 24\"\n",
              "       width=\"24px\">\n",
              "    <path d=\"M0 0h24v24H0V0z\" fill=\"none\"/>\n",
              "    <path d=\"M18.56 5.44l.94 2.06.94-2.06 2.06-.94-2.06-.94-.94-2.06-.94 2.06-2.06.94zm-11 1L8.5 8.5l.94-2.06 2.06-.94-2.06-.94L8.5 2.5l-.94 2.06-2.06.94zm10 10l.94 2.06.94-2.06 2.06-.94-2.06-.94-.94-2.06-.94 2.06-2.06.94z\"/><path d=\"M17.41 7.96l-1.37-1.37c-.4-.4-.92-.59-1.43-.59-.52 0-1.04.2-1.43.59L10.3 9.45l-7.72 7.72c-.78.78-.78 2.05 0 2.83L4 21.41c.39.39.9.59 1.41.59.51 0 1.02-.2 1.41-.59l7.78-7.78 2.81-2.81c.8-.78.8-2.07 0-2.86zM5.41 20L4 18.59l7.72-7.72 1.47 1.35L5.41 20z\"/>\n",
              "  </svg>\n",
              "      </button>\n",
              "      \n",
              "  <style>\n",
              "    .colab-df-container {\n",
              "      display:flex;\n",
              "      flex-wrap:wrap;\n",
              "      gap: 12px;\n",
              "    }\n",
              "\n",
              "    .colab-df-convert {\n",
              "      background-color: #E8F0FE;\n",
              "      border: none;\n",
              "      border-radius: 50%;\n",
              "      cursor: pointer;\n",
              "      display: none;\n",
              "      fill: #1967D2;\n",
              "      height: 32px;\n",
              "      padding: 0 0 0 0;\n",
              "      width: 32px;\n",
              "    }\n",
              "\n",
              "    .colab-df-convert:hover {\n",
              "      background-color: #E2EBFA;\n",
              "      box-shadow: 0px 1px 2px rgba(60, 64, 67, 0.3), 0px 1px 3px 1px rgba(60, 64, 67, 0.15);\n",
              "      fill: #174EA6;\n",
              "    }\n",
              "\n",
              "    [theme=dark] .colab-df-convert {\n",
              "      background-color: #3B4455;\n",
              "      fill: #D2E3FC;\n",
              "    }\n",
              "\n",
              "    [theme=dark] .colab-df-convert:hover {\n",
              "      background-color: #434B5C;\n",
              "      box-shadow: 0px 1px 3px 1px rgba(0, 0, 0, 0.15);\n",
              "      filter: drop-shadow(0px 1px 2px rgba(0, 0, 0, 0.3));\n",
              "      fill: #FFFFFF;\n",
              "    }\n",
              "  </style>\n",
              "\n",
              "      <script>\n",
              "        const buttonEl =\n",
              "          document.querySelector('#df-dcfa4a32-dd37-4d97-9a50-45f0d34fbe9b button.colab-df-convert');\n",
              "        buttonEl.style.display =\n",
              "          google.colab.kernel.accessAllowed ? 'block' : 'none';\n",
              "\n",
              "        async function convertToInteractive(key) {\n",
              "          const element = document.querySelector('#df-dcfa4a32-dd37-4d97-9a50-45f0d34fbe9b');\n",
              "          const dataTable =\n",
              "            await google.colab.kernel.invokeFunction('convertToInteractive',\n",
              "                                                     [key], {});\n",
              "          if (!dataTable) return;\n",
              "\n",
              "          const docLinkHtml = 'Like what you see? Visit the ' +\n",
              "            '<a target=\"_blank\" href=https://colab.research.google.com/notebooks/data_table.ipynb>data table notebook</a>'\n",
              "            + ' to learn more about interactive tables.';\n",
              "          element.innerHTML = '';\n",
              "          dataTable['output_type'] = 'display_data';\n",
              "          await google.colab.output.renderOutput(dataTable, element);\n",
              "          const docLink = document.createElement('div');\n",
              "          docLink.innerHTML = docLinkHtml;\n",
              "          element.appendChild(docLink);\n",
              "        }\n",
              "      </script>\n",
              "    </div>\n",
              "  </div>\n",
              "  "
            ]
          },
          "metadata": {},
          "execution_count": 43
        }
      ],
      "source": [
        "abc_new=abc_test[['sales_diff','Weekly_Sales']]\n",
        "# abc_new['sales_diff'][0]=abc_new['Weekly_Sales'][0]\n",
        "abc_new=abc_new[['sales_diff']]\n",
        "abc_new"
      ]
    },
    {
      "cell_type": "code",
      "execution_count": null,
      "metadata": {
        "colab": {
          "base_uri": "https://localhost:8080/",
          "height": 488
        },
        "id": "XEkaiExAa1od",
        "outputId": "efea77a2-58bd-40f2-c713-763ca19c26d2"
      },
      "outputs": [
        {
          "output_type": "execute_result",
          "data": {
            "text/plain": [
              "        sales_diff    week_1    week_2    week_3    week_4  week_5  week_6  \\\n",
              "107901    17356.75      0.00      0.00      0.00      0.00    0.00    0.00   \n",
              "107902    20308.07  17356.75      0.00      0.00      0.00    0.00    0.00   \n",
              "107903   -15599.53  20308.07  17356.75      0.00      0.00    0.00    0.00   \n",
              "107904    -7193.08 -15599.53  20308.07  17356.75      0.00    0.00    0.00   \n",
              "107905     2156.28  -7193.08 -15599.53  20308.07  17356.75    0.00    0.00   \n",
              "...            ...       ...       ...       ...       ...     ...     ...   \n",
              "421565       41.07   -138.66    253.52      6.40    -69.36  -84.76 -227.33   \n",
              "421566      119.73     41.07   -138.66    253.52      6.40  -69.36  -84.76   \n",
              "421567      432.92    119.73     41.07   -138.66    253.52    6.40  -69.36   \n",
              "421568     -301.01    432.92    119.73     41.07   -138.66  253.52    6.40   \n",
              "421569      316.79   -301.01    432.92    119.73     41.07 -138.66  253.52   \n",
              "\n",
              "        week_7  week_8  week_9  ...  week_90  week_91  week_92  week_93  \\\n",
              "107901    0.00    0.00    0.00  ...     0.00     0.00     0.00     0.00   \n",
              "107902    0.00    0.00    0.00  ...     0.00     0.00     0.00     0.00   \n",
              "107903    0.00    0.00    0.00  ...     0.00     0.00     0.00     0.00   \n",
              "107904    0.00    0.00    0.00  ...     0.00     0.00     0.00     0.00   \n",
              "107905    0.00    0.00    0.00  ...     0.00     0.00     0.00     0.00   \n",
              "...        ...     ...     ...  ...      ...      ...      ...      ...   \n",
              "421565  211.03 -141.17 -187.67  ...    47.95  -147.93     0.00  -443.48   \n",
              "421566 -227.33  211.03 -141.17  ...   -80.50    47.95  -147.93     0.00   \n",
              "421567  -84.76 -227.33  211.03  ...   -40.00   -80.50    47.95  -147.93   \n",
              "421568  -69.36  -84.76 -227.33  ...    75.00   -40.00   -80.50    47.95   \n",
              "421569    6.40  -69.36  -84.76  ...   -19.75    75.00   -40.00   -80.50   \n",
              "\n",
              "        week_94  week_95  week_96  week_97  week_98  week_99  \n",
              "107901     0.00     0.00     0.00     0.00     0.00     0.00  \n",
              "107902     0.00     0.00     0.00     0.00     0.00     0.00  \n",
              "107903     0.00     0.00     0.00     0.00     0.00     0.00  \n",
              "107904     0.00     0.00     0.00     0.00     0.00     0.00  \n",
              "107905     0.00     0.00     0.00     0.00     0.00     0.00  \n",
              "...         ...      ...      ...      ...      ...      ...  \n",
              "421565   316.58    14.05   112.69   163.18    18.98  -261.50  \n",
              "421566  -443.48   316.58    14.05   112.69   163.18    18.98  \n",
              "421567     0.00  -443.48   316.58    14.05   112.69   163.18  \n",
              "421568  -147.93     0.00  -443.48   316.58    14.05   112.69  \n",
              "421569    47.95  -147.93     0.00  -443.48   316.58    14.05  \n",
              "\n",
              "[313669 rows x 100 columns]"
            ],
            "text/html": [
              "\n",
              "  <div id=\"df-78b10fcf-ed1e-4c24-b395-7059f3cfafa5\">\n",
              "    <div class=\"colab-df-container\">\n",
              "      <div>\n",
              "<style scoped>\n",
              "    .dataframe tbody tr th:only-of-type {\n",
              "        vertical-align: middle;\n",
              "    }\n",
              "\n",
              "    .dataframe tbody tr th {\n",
              "        vertical-align: top;\n",
              "    }\n",
              "\n",
              "    .dataframe thead th {\n",
              "        text-align: right;\n",
              "    }\n",
              "</style>\n",
              "<table border=\"1\" class=\"dataframe\">\n",
              "  <thead>\n",
              "    <tr style=\"text-align: right;\">\n",
              "      <th></th>\n",
              "      <th>sales_diff</th>\n",
              "      <th>week_1</th>\n",
              "      <th>week_2</th>\n",
              "      <th>week_3</th>\n",
              "      <th>week_4</th>\n",
              "      <th>week_5</th>\n",
              "      <th>week_6</th>\n",
              "      <th>week_7</th>\n",
              "      <th>week_8</th>\n",
              "      <th>week_9</th>\n",
              "      <th>...</th>\n",
              "      <th>week_90</th>\n",
              "      <th>week_91</th>\n",
              "      <th>week_92</th>\n",
              "      <th>week_93</th>\n",
              "      <th>week_94</th>\n",
              "      <th>week_95</th>\n",
              "      <th>week_96</th>\n",
              "      <th>week_97</th>\n",
              "      <th>week_98</th>\n",
              "      <th>week_99</th>\n",
              "    </tr>\n",
              "  </thead>\n",
              "  <tbody>\n",
              "    <tr>\n",
              "      <th>107901</th>\n",
              "      <td>17356.75</td>\n",
              "      <td>0.00</td>\n",
              "      <td>0.00</td>\n",
              "      <td>0.00</td>\n",
              "      <td>0.00</td>\n",
              "      <td>0.00</td>\n",
              "      <td>0.00</td>\n",
              "      <td>0.00</td>\n",
              "      <td>0.00</td>\n",
              "      <td>0.00</td>\n",
              "      <td>...</td>\n",
              "      <td>0.00</td>\n",
              "      <td>0.00</td>\n",
              "      <td>0.00</td>\n",
              "      <td>0.00</td>\n",
              "      <td>0.00</td>\n",
              "      <td>0.00</td>\n",
              "      <td>0.00</td>\n",
              "      <td>0.00</td>\n",
              "      <td>0.00</td>\n",
              "      <td>0.00</td>\n",
              "    </tr>\n",
              "    <tr>\n",
              "      <th>107902</th>\n",
              "      <td>20308.07</td>\n",
              "      <td>17356.75</td>\n",
              "      <td>0.00</td>\n",
              "      <td>0.00</td>\n",
              "      <td>0.00</td>\n",
              "      <td>0.00</td>\n",
              "      <td>0.00</td>\n",
              "      <td>0.00</td>\n",
              "      <td>0.00</td>\n",
              "      <td>0.00</td>\n",
              "      <td>...</td>\n",
              "      <td>0.00</td>\n",
              "      <td>0.00</td>\n",
              "      <td>0.00</td>\n",
              "      <td>0.00</td>\n",
              "      <td>0.00</td>\n",
              "      <td>0.00</td>\n",
              "      <td>0.00</td>\n",
              "      <td>0.00</td>\n",
              "      <td>0.00</td>\n",
              "      <td>0.00</td>\n",
              "    </tr>\n",
              "    <tr>\n",
              "      <th>107903</th>\n",
              "      <td>-15599.53</td>\n",
              "      <td>20308.07</td>\n",
              "      <td>17356.75</td>\n",
              "      <td>0.00</td>\n",
              "      <td>0.00</td>\n",
              "      <td>0.00</td>\n",
              "      <td>0.00</td>\n",
              "      <td>0.00</td>\n",
              "      <td>0.00</td>\n",
              "      <td>0.00</td>\n",
              "      <td>...</td>\n",
              "      <td>0.00</td>\n",
              "      <td>0.00</td>\n",
              "      <td>0.00</td>\n",
              "      <td>0.00</td>\n",
              "      <td>0.00</td>\n",
              "      <td>0.00</td>\n",
              "      <td>0.00</td>\n",
              "      <td>0.00</td>\n",
              "      <td>0.00</td>\n",
              "      <td>0.00</td>\n",
              "    </tr>\n",
              "    <tr>\n",
              "      <th>107904</th>\n",
              "      <td>-7193.08</td>\n",
              "      <td>-15599.53</td>\n",
              "      <td>20308.07</td>\n",
              "      <td>17356.75</td>\n",
              "      <td>0.00</td>\n",
              "      <td>0.00</td>\n",
              "      <td>0.00</td>\n",
              "      <td>0.00</td>\n",
              "      <td>0.00</td>\n",
              "      <td>0.00</td>\n",
              "      <td>...</td>\n",
              "      <td>0.00</td>\n",
              "      <td>0.00</td>\n",
              "      <td>0.00</td>\n",
              "      <td>0.00</td>\n",
              "      <td>0.00</td>\n",
              "      <td>0.00</td>\n",
              "      <td>0.00</td>\n",
              "      <td>0.00</td>\n",
              "      <td>0.00</td>\n",
              "      <td>0.00</td>\n",
              "    </tr>\n",
              "    <tr>\n",
              "      <th>107905</th>\n",
              "      <td>2156.28</td>\n",
              "      <td>-7193.08</td>\n",
              "      <td>-15599.53</td>\n",
              "      <td>20308.07</td>\n",
              "      <td>17356.75</td>\n",
              "      <td>0.00</td>\n",
              "      <td>0.00</td>\n",
              "      <td>0.00</td>\n",
              "      <td>0.00</td>\n",
              "      <td>0.00</td>\n",
              "      <td>...</td>\n",
              "      <td>0.00</td>\n",
              "      <td>0.00</td>\n",
              "      <td>0.00</td>\n",
              "      <td>0.00</td>\n",
              "      <td>0.00</td>\n",
              "      <td>0.00</td>\n",
              "      <td>0.00</td>\n",
              "      <td>0.00</td>\n",
              "      <td>0.00</td>\n",
              "      <td>0.00</td>\n",
              "    </tr>\n",
              "    <tr>\n",
              "      <th>...</th>\n",
              "      <td>...</td>\n",
              "      <td>...</td>\n",
              "      <td>...</td>\n",
              "      <td>...</td>\n",
              "      <td>...</td>\n",
              "      <td>...</td>\n",
              "      <td>...</td>\n",
              "      <td>...</td>\n",
              "      <td>...</td>\n",
              "      <td>...</td>\n",
              "      <td>...</td>\n",
              "      <td>...</td>\n",
              "      <td>...</td>\n",
              "      <td>...</td>\n",
              "      <td>...</td>\n",
              "      <td>...</td>\n",
              "      <td>...</td>\n",
              "      <td>...</td>\n",
              "      <td>...</td>\n",
              "      <td>...</td>\n",
              "      <td>...</td>\n",
              "    </tr>\n",
              "    <tr>\n",
              "      <th>421565</th>\n",
              "      <td>41.07</td>\n",
              "      <td>-138.66</td>\n",
              "      <td>253.52</td>\n",
              "      <td>6.40</td>\n",
              "      <td>-69.36</td>\n",
              "      <td>-84.76</td>\n",
              "      <td>-227.33</td>\n",
              "      <td>211.03</td>\n",
              "      <td>-141.17</td>\n",
              "      <td>-187.67</td>\n",
              "      <td>...</td>\n",
              "      <td>47.95</td>\n",
              "      <td>-147.93</td>\n",
              "      <td>0.00</td>\n",
              "      <td>-443.48</td>\n",
              "      <td>316.58</td>\n",
              "      <td>14.05</td>\n",
              "      <td>112.69</td>\n",
              "      <td>163.18</td>\n",
              "      <td>18.98</td>\n",
              "      <td>-261.50</td>\n",
              "    </tr>\n",
              "    <tr>\n",
              "      <th>421566</th>\n",
              "      <td>119.73</td>\n",
              "      <td>41.07</td>\n",
              "      <td>-138.66</td>\n",
              "      <td>253.52</td>\n",
              "      <td>6.40</td>\n",
              "      <td>-69.36</td>\n",
              "      <td>-84.76</td>\n",
              "      <td>-227.33</td>\n",
              "      <td>211.03</td>\n",
              "      <td>-141.17</td>\n",
              "      <td>...</td>\n",
              "      <td>-80.50</td>\n",
              "      <td>47.95</td>\n",
              "      <td>-147.93</td>\n",
              "      <td>0.00</td>\n",
              "      <td>-443.48</td>\n",
              "      <td>316.58</td>\n",
              "      <td>14.05</td>\n",
              "      <td>112.69</td>\n",
              "      <td>163.18</td>\n",
              "      <td>18.98</td>\n",
              "    </tr>\n",
              "    <tr>\n",
              "      <th>421567</th>\n",
              "      <td>432.92</td>\n",
              "      <td>119.73</td>\n",
              "      <td>41.07</td>\n",
              "      <td>-138.66</td>\n",
              "      <td>253.52</td>\n",
              "      <td>6.40</td>\n",
              "      <td>-69.36</td>\n",
              "      <td>-84.76</td>\n",
              "      <td>-227.33</td>\n",
              "      <td>211.03</td>\n",
              "      <td>...</td>\n",
              "      <td>-40.00</td>\n",
              "      <td>-80.50</td>\n",
              "      <td>47.95</td>\n",
              "      <td>-147.93</td>\n",
              "      <td>0.00</td>\n",
              "      <td>-443.48</td>\n",
              "      <td>316.58</td>\n",
              "      <td>14.05</td>\n",
              "      <td>112.69</td>\n",
              "      <td>163.18</td>\n",
              "    </tr>\n",
              "    <tr>\n",
              "      <th>421568</th>\n",
              "      <td>-301.01</td>\n",
              "      <td>432.92</td>\n",
              "      <td>119.73</td>\n",
              "      <td>41.07</td>\n",
              "      <td>-138.66</td>\n",
              "      <td>253.52</td>\n",
              "      <td>6.40</td>\n",
              "      <td>-69.36</td>\n",
              "      <td>-84.76</td>\n",
              "      <td>-227.33</td>\n",
              "      <td>...</td>\n",
              "      <td>75.00</td>\n",
              "      <td>-40.00</td>\n",
              "      <td>-80.50</td>\n",
              "      <td>47.95</td>\n",
              "      <td>-147.93</td>\n",
              "      <td>0.00</td>\n",
              "      <td>-443.48</td>\n",
              "      <td>316.58</td>\n",
              "      <td>14.05</td>\n",
              "      <td>112.69</td>\n",
              "    </tr>\n",
              "    <tr>\n",
              "      <th>421569</th>\n",
              "      <td>316.79</td>\n",
              "      <td>-301.01</td>\n",
              "      <td>432.92</td>\n",
              "      <td>119.73</td>\n",
              "      <td>41.07</td>\n",
              "      <td>-138.66</td>\n",
              "      <td>253.52</td>\n",
              "      <td>6.40</td>\n",
              "      <td>-69.36</td>\n",
              "      <td>-84.76</td>\n",
              "      <td>...</td>\n",
              "      <td>-19.75</td>\n",
              "      <td>75.00</td>\n",
              "      <td>-40.00</td>\n",
              "      <td>-80.50</td>\n",
              "      <td>47.95</td>\n",
              "      <td>-147.93</td>\n",
              "      <td>0.00</td>\n",
              "      <td>-443.48</td>\n",
              "      <td>316.58</td>\n",
              "      <td>14.05</td>\n",
              "    </tr>\n",
              "  </tbody>\n",
              "</table>\n",
              "<p>313669 rows × 100 columns</p>\n",
              "</div>\n",
              "      <button class=\"colab-df-convert\" onclick=\"convertToInteractive('df-78b10fcf-ed1e-4c24-b395-7059f3cfafa5')\"\n",
              "              title=\"Convert this dataframe to an interactive table.\"\n",
              "              style=\"display:none;\">\n",
              "        \n",
              "  <svg xmlns=\"http://www.w3.org/2000/svg\" height=\"24px\"viewBox=\"0 0 24 24\"\n",
              "       width=\"24px\">\n",
              "    <path d=\"M0 0h24v24H0V0z\" fill=\"none\"/>\n",
              "    <path d=\"M18.56 5.44l.94 2.06.94-2.06 2.06-.94-2.06-.94-.94-2.06-.94 2.06-2.06.94zm-11 1L8.5 8.5l.94-2.06 2.06-.94-2.06-.94L8.5 2.5l-.94 2.06-2.06.94zm10 10l.94 2.06.94-2.06 2.06-.94-2.06-.94-.94-2.06-.94 2.06-2.06.94z\"/><path d=\"M17.41 7.96l-1.37-1.37c-.4-.4-.92-.59-1.43-.59-.52 0-1.04.2-1.43.59L10.3 9.45l-7.72 7.72c-.78.78-.78 2.05 0 2.83L4 21.41c.39.39.9.59 1.41.59.51 0 1.02-.2 1.41-.59l7.78-7.78 2.81-2.81c.8-.78.8-2.07 0-2.86zM5.41 20L4 18.59l7.72-7.72 1.47 1.35L5.41 20z\"/>\n",
              "  </svg>\n",
              "      </button>\n",
              "      \n",
              "  <style>\n",
              "    .colab-df-container {\n",
              "      display:flex;\n",
              "      flex-wrap:wrap;\n",
              "      gap: 12px;\n",
              "    }\n",
              "\n",
              "    .colab-df-convert {\n",
              "      background-color: #E8F0FE;\n",
              "      border: none;\n",
              "      border-radius: 50%;\n",
              "      cursor: pointer;\n",
              "      display: none;\n",
              "      fill: #1967D2;\n",
              "      height: 32px;\n",
              "      padding: 0 0 0 0;\n",
              "      width: 32px;\n",
              "    }\n",
              "\n",
              "    .colab-df-convert:hover {\n",
              "      background-color: #E2EBFA;\n",
              "      box-shadow: 0px 1px 2px rgba(60, 64, 67, 0.3), 0px 1px 3px 1px rgba(60, 64, 67, 0.15);\n",
              "      fill: #174EA6;\n",
              "    }\n",
              "\n",
              "    [theme=dark] .colab-df-convert {\n",
              "      background-color: #3B4455;\n",
              "      fill: #D2E3FC;\n",
              "    }\n",
              "\n",
              "    [theme=dark] .colab-df-convert:hover {\n",
              "      background-color: #434B5C;\n",
              "      box-shadow: 0px 1px 3px 1px rgba(0, 0, 0, 0.15);\n",
              "      filter: drop-shadow(0px 1px 2px rgba(0, 0, 0, 0.3));\n",
              "      fill: #FFFFFF;\n",
              "    }\n",
              "  </style>\n",
              "\n",
              "      <script>\n",
              "        const buttonEl =\n",
              "          document.querySelector('#df-78b10fcf-ed1e-4c24-b395-7059f3cfafa5 button.colab-df-convert');\n",
              "        buttonEl.style.display =\n",
              "          google.colab.kernel.accessAllowed ? 'block' : 'none';\n",
              "\n",
              "        async function convertToInteractive(key) {\n",
              "          const element = document.querySelector('#df-78b10fcf-ed1e-4c24-b395-7059f3cfafa5');\n",
              "          const dataTable =\n",
              "            await google.colab.kernel.invokeFunction('convertToInteractive',\n",
              "                                                     [key], {});\n",
              "          if (!dataTable) return;\n",
              "\n",
              "          const docLinkHtml = 'Like what you see? Visit the ' +\n",
              "            '<a target=\"_blank\" href=https://colab.research.google.com/notebooks/data_table.ipynb>data table notebook</a>'\n",
              "            + ' to learn more about interactive tables.';\n",
              "          element.innerHTML = '';\n",
              "          dataTable['output_type'] = 'display_data';\n",
              "          await google.colab.output.renderOutput(dataTable, element);\n",
              "          const docLink = document.createElement('div');\n",
              "          docLink.innerHTML = docLinkHtml;\n",
              "          element.appendChild(docLink);\n",
              "        }\n",
              "      </script>\n",
              "    </div>\n",
              "  </div>\n",
              "  "
            ]
          },
          "metadata": {},
          "execution_count": 44
        }
      ],
      "source": [
        "for i in range(1,100):#313669\n",
        "    col_name='week_'+str(i)\n",
        "    abc_new[col_name]=abc_new['sales_diff'].shift(i)\n",
        "abc_new=abc_new.fillna(0)\n",
        "abc_new.head()\n",
        "abc_new_test=abc_new\n",
        "abc_new_test"
      ]
    },
    {
      "cell_type": "code",
      "execution_count": null,
      "metadata": {
        "id": "0aQKUEqJa1od"
      },
      "outputs": [],
      "source": [
        "from sklearn.preprocessing import MinMaxScaler\n",
        "scaler=MinMaxScaler(feature_range=(-1,1))\n",
        "scaler.fit(abc_new_train)\n",
        "abc_new_train=scaler.transform(abc_new_train)\n",
        "abc_new_test=scaler.transform(abc_new_test)"
      ]
    },
    {
      "cell_type": "code",
      "execution_count": null,
      "metadata": {
        "id": "P4L62kd2a1oe"
      },
      "outputs": [],
      "source": [
        "X_train,y_train = abc_new_train[:,1:], abc_new_train[:,0:1]\n",
        "X_test,y_test = abc_new_test[:,1:], abc_new_test[:,0:1]\n",
        "y_train = y_train.ravel()\n",
        "y_test = y_test.ravel()"
      ]
    },
    {
      "cell_type": "code",
      "execution_count": null,
      "metadata": {
        "id": "6zEOQv-Sa1oe"
      },
      "outputs": [],
      "source": []
    },
    {
      "cell_type": "code",
      "execution_count": null,
      "metadata": {
        "id": "-qNpah-la1oe"
      },
      "outputs": [],
      "source": [
        "# y_train=abc_train[['sales_diff']]\n",
        "# X_train=abc_train[['Store','Dept','Date','IsHoliday','Weekly_Sales']]"
      ]
    },
    {
      "cell_type": "code",
      "execution_count": null,
      "metadata": {
        "id": "z5Jf2jKha1oe"
      },
      "outputs": [],
      "source": [
        "# y_test=abc_test[['sales_diff']]\n",
        "# X_test=abc_test[['Store','Dept','Date','IsHoliday','Weekly_Sales']]"
      ]
    },
    {
      "cell_type": "code",
      "execution_count": null,
      "metadata": {
        "id": "YzXnXCcaa1oe"
      },
      "outputs": [],
      "source": [
        "# X=abc_train\n",
        "# y=abc_test"
      ]
    },
    {
      "cell_type": "code",
      "execution_count": null,
      "metadata": {
        "id": "KQIESwQBa1oe"
      },
      "outputs": [],
      "source": [
        "# ## train test split \n",
        "# from sklearn.model_selection import train_test_split\n",
        "\n",
        "# X_train, X_test, y_train, y_test = train_test_split(\n",
        "#     X, y, test_size=0.30, random_state=42)"
      ]
    },
    {
      "cell_type": "markdown",
      "metadata": {
        "id": "9hOPB51ha1oe"
      },
      "source": [
        "Begin with Linear regression model to forecast the weekly sales using the given features."
      ]
    },
    {
      "cell_type": "code",
      "execution_count": null,
      "metadata": {
        "id": "u2-Y-GhLa1oe"
      },
      "outputs": [],
      "source": [
        "# ## Linear Regression:-\n",
        "#  ## standardizing the dataset\n",
        "# from sklearn.preprocessing import StandardScaler\n",
        "# scaler = StandardScaler()\n",
        "# X_train=scaler.fit_transform(X_train)\n",
        "# X_test=scaler.transform(X_test)"
      ]
    },
    {
      "cell_type": "code",
      "execution_count": null,
      "metadata": {
        "id": "FdX716kLa1oe"
      },
      "outputs": [],
      "source": [
        "from sklearn.linear_model import LinearRegression\n",
        "##cross validation\n",
        "from sklearn.model_selection import cross_val_score"
      ]
    },
    {
      "cell_type": "code",
      "execution_count": null,
      "metadata": {
        "colab": {
          "base_uri": "https://localhost:8080/"
        },
        "id": "FSMawca0a1of",
        "outputId": "54726fcb-fd74-49b6-a865-caecefb8cda6"
      },
      "outputs": [
        {
          "output_type": "execute_result",
          "data": {
            "text/plain": [
              "LinearRegression()"
            ]
          },
          "metadata": {},
          "execution_count": 53
        }
      ],
      "source": [
        "regression=LinearRegression()\n",
        "regression.fit(X_train,y_train)"
      ]
    },
    {
      "cell_type": "code",
      "execution_count": null,
      "metadata": {
        "colab": {
          "base_uri": "https://localhost:8080/",
          "height": 35
        },
        "id": "r6RTqrCna1oh",
        "outputId": "4c896d93-dfea-414e-f0df-137fb596c115"
      },
      "outputs": [
        {
          "output_type": "execute_result",
          "data": {
            "text/plain": [
              "'\\nhttps://www.youtube.com/watch?v=20fbgWm5M2o\\ndone till 40 mins.\\n'"
            ],
            "application/vnd.google.colaboratory.intrinsic+json": {
              "type": "string"
            }
          },
          "metadata": {},
          "execution_count": 54
        }
      ],
      "source": [
        "'''\n",
        "https://www.youtube.com/watch?v=20fbgWm5M2o\n",
        "done till 40 mins.\n",
        "'''"
      ]
    },
    {
      "cell_type": "code",
      "execution_count": null,
      "metadata": {
        "id": "9N-t598va1oi"
      },
      "outputs": [],
      "source": [
        "mse=cross_val_score(regression,X_train,y_train,scoring='neg_mean_squared_error',cv=10)"
      ]
    },
    {
      "cell_type": "code",
      "execution_count": null,
      "metadata": {
        "colab": {
          "base_uri": "https://localhost:8080/"
        },
        "id": "qPd-8oGCa1oi",
        "outputId": "01fb7eb8-a9cf-44b2-de69-13d02362e801"
      },
      "outputs": [
        {
          "output_type": "execute_result",
          "data": {
            "text/plain": [
              "-0.00015291688922897535"
            ]
          },
          "metadata": {},
          "execution_count": 56
        }
      ],
      "source": [
        "np.mean(mse)"
      ]
    },
    {
      "cell_type": "code",
      "execution_count": null,
      "metadata": {
        "id": "7cEuYVHsa1oi"
      },
      "outputs": [],
      "source": [
        "##prediction \n",
        "reg_pred=regression.predict(X_test)"
      ]
    },
    {
      "cell_type": "code",
      "execution_count": null,
      "metadata": {
        "colab": {
          "base_uri": "https://localhost:8080/"
        },
        "id": "KX0yuzOMa1oi",
        "outputId": "33a07409-d41e-4f76-bc12-a4676050e536"
      },
      "outputs": [
        {
          "output_type": "execute_result",
          "data": {
            "text/plain": [
              "array([-0.08440794, -0.0982188 , -0.10929362, ..., -0.08414746,\n",
              "       -0.08482318, -0.08422361])"
            ]
          },
          "metadata": {},
          "execution_count": 58
        }
      ],
      "source": [
        "reg_pred"
      ]
    },
    {
      "cell_type": "code",
      "execution_count": null,
      "metadata": {
        "colab": {
          "base_uri": "https://localhost:8080/",
          "height": 386
        },
        "id": "3JxSA4OOa1oj",
        "outputId": "ab63950e-cc66-4ca0-9814-57d15d00e694"
      },
      "outputs": [
        {
          "output_type": "execute_result",
          "data": {
            "text/plain": [
              "<seaborn.axisgrid.FacetGrid at 0x7f25f5ef0ad0>"
            ]
          },
          "metadata": {},
          "execution_count": 83
        },
        {
          "output_type": "display_data",
          "data": {
            "text/plain": [
              "<Figure size 360x360 with 1 Axes>"
            ],
            "image/png": "[encoded data removed]"
          },
          "metadata": {}
        }
      ],
      "source": [
        "import seaborn as sns\n",
        "sns.displot(reg_pred-y_test,kind='kde')"
      ]
    },
    {
      "cell_type": "code",
      "execution_count": null,
      "metadata": {
        "id": "vEbhK6_ya1oj"
      },
      "outputs": [],
      "source": [
        "from sklearn.metrics import r2_score"
      ]
    },
    {
      "cell_type": "code",
      "execution_count": null,
      "metadata": {
        "id": "vFLJLvXma1oj"
      },
      "outputs": [],
      "source": [
        "score=r2_score(reg_pred,y_test)"
      ]
    },
    {
      "cell_type": "code",
      "execution_count": null,
      "metadata": {
        "colab": {
          "base_uri": "https://localhost:8080/"
        },
        "id": "WjlsCxkja1oj",
        "outputId": "c287d179-2830-4dfe-f23a-b714e60b3c76"
      },
      "outputs": [
        {
          "output_type": "execute_result",
          "data": {
            "text/plain": [
              "-1.0166573534636942"
            ]
          },
          "metadata": {},
          "execution_count": 62
        }
      ],
      "source": [
        "score"
      ]
    },
    {
      "cell_type": "code",
      "execution_count": null,
      "metadata": {
        "id": "Dviit489a1oj"
      },
      "outputs": [],
      "source": [
        "#Ridge Regression Algorithm"
      ]
    },
    {
      "cell_type": "code",
      "execution_count": null,
      "metadata": {
        "colab": {
          "base_uri": "https://localhost:8080/"
        },
        "id": "1nPVK4jZa1oj",
        "outputId": "2a7e3930-ce53-4465-de0d-dffa08492dc0"
      },
      "outputs": [
        {
          "output_type": "execute_result",
          "data": {
            "text/plain": [
              "Ridge()"
            ]
          },
          "metadata": {},
          "execution_count": 64
        }
      ],
      "source": [
        "from sklearn.linear_model import Ridge\n",
        "from sklearn.model_selection import GridSearchCV\n",
        "ridge_regressor=Ridge()\n",
        "ridge_regressor"
      ]
    },
    {
      "cell_type": "code",
      "execution_count": null,
      "metadata": {
        "colab": {
          "base_uri": "https://localhost:8080/"
        },
        "id": "WZFDLmbra1oj",
        "outputId": "bc20cdcb-26bd-4f48-f054-6a9584022c4f"
      },
      "outputs": [
        {
          "output_type": "execute_result",
          "data": {
            "text/plain": [
              "GridSearchCV(cv=5, estimator=Ridge(),\n",
              "             param_grid={'alpha': [1, 2, 5, 10, 20, 30, 40, 50, 60, 70, 80,\n",
              "                                   90]},\n",
              "             scoring='neg_mean_squared_error')"
            ]
          },
          "metadata": {},
          "execution_count": 65
        }
      ],
      "source": [
        "parameters={'alpha':[1,2,5,10,20,30,40,50,60,70,80,90]}\n",
        "ridgecv=GridSearchCV(ridge_regressor,parameters,scoring='neg_mean_squared_error',cv=5)\n",
        "ridgecv.fit(X_train,y_train)"
      ]
    },
    {
      "cell_type": "code",
      "execution_count": null,
      "metadata": {
        "colab": {
          "base_uri": "https://localhost:8080/"
        },
        "id": "DOogrK7va1oj",
        "outputId": "303bbed4-773a-45fd-a44d-860bb0ac7069"
      },
      "outputs": [
        {
          "output_type": "stream",
          "name": "stdout",
          "text": [
            "{'alpha': 1}\n"
          ]
        }
      ],
      "source": [
        "print(ridgecv.best_params_)"
      ]
    },
    {
      "cell_type": "code",
      "execution_count": null,
      "metadata": {
        "colab": {
          "base_uri": "https://localhost:8080/"
        },
        "id": "uN63Cnxja1ok",
        "outputId": "10348e72-607b-4228-8236-e3ad4f5de7fc"
      },
      "outputs": [
        {
          "output_type": "stream",
          "name": "stdout",
          "text": [
            "-0.00015348721192439964\n"
          ]
        }
      ],
      "source": [
        "print(ridgecv.best_score_)"
      ]
    },
    {
      "cell_type": "code",
      "execution_count": null,
      "metadata": {
        "id": "itgR0MOTa1ok"
      },
      "outputs": [],
      "source": [
        "ridge_pred=ridgecv.predict(X_test)"
      ]
    },
    {
      "cell_type": "code",
      "execution_count": null,
      "metadata": {
        "colab": {
          "base_uri": "https://localhost:8080/",
          "height": 386
        },
        "id": "vlOhPlzLa1ok",
        "outputId": "c41bf3cf-595e-48b2-8c4c-252e6c983697"
      },
      "outputs": [
        {
          "output_type": "execute_result",
          "data": {
            "text/plain": [
              "<seaborn.axisgrid.FacetGrid at 0x7f25ff819750>"
            ]
          },
          "metadata": {},
          "execution_count": 69
        },
        {
          "output_type": "display_data",
          "data": {
            "text/plain": [
              "<Figure size 360x360 with 1 Axes>"
            ],
            "image/png": "[encoded data removed]"
          },
          "metadata": {}
        }
      ],
      "source": [
        "import seaborn as sns\n",
        "sns.displot(ridge_pred-y_test,kind='kde')"
      ]
    },
    {
      "cell_type": "code",
      "execution_count": null,
      "metadata": {
        "colab": {
          "base_uri": "https://localhost:8080/"
        },
        "id": "PnAZuUOIa1ok",
        "outputId": "24b1b271-2607-438e-f310-262d22d3e2fa"
      },
      "outputs": [
        {
          "output_type": "execute_result",
          "data": {
            "text/plain": [
              "-1.285963970712697"
            ]
          },
          "metadata": {},
          "execution_count": 70
        }
      ],
      "source": [
        "score=r2_score(ridge_pred,y_test)\n",
        "score"
      ]
    },
    {
      "cell_type": "code",
      "execution_count": null,
      "metadata": {
        "id": "CJ7Rbk0Ga1ok"
      },
      "outputs": [],
      "source": [
        "## XGBoost:-"
      ]
    },
    {
      "cell_type": "code",
      "execution_count": null,
      "metadata": {
        "colab": {
          "base_uri": "https://localhost:8080/",
          "height": 253
        },
        "id": "b_y-iyv3a1ok",
        "outputId": "8c8ca43c-aab3-4084-b57f-646f1cc90604"
      },
      "outputs": [
        {
          "output_type": "stream",
          "name": "stdout",
          "text": [
            "[21:58:40] WARNING: /workspace/src/objective/regression_obj.cu:152: reg:linear is now deprecated in favor of reg:squarederror.\n"
          ]
        },
        {
          "output_type": "error",
          "ename": "NameError",
          "evalue": "ignored",
          "traceback": [
            "\u001b[0;31m---------------------------------------------------------------------------\u001b[0m",
            "\u001b[0;31mNameError\u001b[0m                                 Traceback (most recent call last)",
            "\u001b[0;32m<ipython-input-75-dab2809fb302>\u001b[0m in \u001b[0;36m<module>\u001b[0;34m\u001b[0m\n\u001b[1;32m     12\u001b[0m \u001b[0;34m\u001b[0m\u001b[0m\n\u001b[1;32m     13\u001b[0m \u001b[0;31m# RMSE Computation\u001b[0m\u001b[0;34m\u001b[0m\u001b[0;34m\u001b[0m\u001b[0;34m\u001b[0m\u001b[0m\n\u001b[0;32m---> 14\u001b[0;31m \u001b[0mrmse\u001b[0m \u001b[0;34m=\u001b[0m \u001b[0mnp\u001b[0m\u001b[0;34m.\u001b[0m\u001b[0msqrt\u001b[0m\u001b[0;34m(\u001b[0m\u001b[0mMSE\u001b[0m\u001b[0;34m(\u001b[0m\u001b[0mtest_y\u001b[0m\u001b[0;34m,\u001b[0m \u001b[0mpred\u001b[0m\u001b[0;34m)\u001b[0m\u001b[0;34m)\u001b[0m\u001b[0;34m\u001b[0m\u001b[0;34m\u001b[0m\u001b[0m\n\u001b[0m\u001b[1;32m     15\u001b[0m \u001b[0mprint\u001b[0m\u001b[0;34m(\u001b[0m\u001b[0;34m\"RMSE : % f\"\u001b[0m \u001b[0;34m%\u001b[0m\u001b[0;34m(\u001b[0m\u001b[0mrmse\u001b[0m\u001b[0;34m)\u001b[0m\u001b[0;34m)\u001b[0m\u001b[0;34m\u001b[0m\u001b[0;34m\u001b[0m\u001b[0m\n\u001b[1;32m     16\u001b[0m \u001b[0;34m\u001b[0m\u001b[0m\n",
            "\u001b[0;31mNameError\u001b[0m: name 'MSE' is not defined"
          ]
        }
      ],
      "source": [
        "import xgboost as xg\n",
        "\n",
        "# Instantiation\n",
        "xgb_r = xg.XGBRegressor(objective ='reg:linear',\n",
        "                  n_estimators = 10, seed = 123)\n",
        " \n",
        "# Fitting the model\n",
        "xgb_r.fit(X_train, y_train)\n",
        " \n",
        "# Predict the model\n",
        "pred = xgb_r.predict(X_test)\n",
        " \n",
        "# RMSE Computation\n",
        "rmse = np.sqrt(MSE(test_y, pred))\n",
        "print(\"RMSE : % f\" %(rmse))\n",
        "\n",
        "#or we can try with:-\n",
        "score=r2_score(pred,y_test)\n",
        "score"
      ]
    },
    {
      "cell_type": "code",
      "execution_count": null,
      "metadata": {
        "id": "ZxwK0Uv2a1ok"
      },
      "outputs": [],
      "source": [
        "# #ARIMA:-\n",
        "# from statsmodels.tsa.arima_model import ARIMA\n",
        "# model=ARIMA(train['AvgTemp'],order=(1,0,5))\n",
        "# model=model.fit()\n",
        "# model.summary()\n"
      ]
    },
    {
      "cell_type": "code",
      "execution_count": null,
      "metadata": {
        "id": "k38Wm0w1a1ok"
      },
      "outputs": [],
      "source": [
        "# start=len(train)\n",
        "# end=len(train)+len(test)-1\n",
        "# pred=model.predict(start=start,end=end,typ='levels').rename('ARIMA Predictions')\n",
        "# pred.plot(legend=True)\n",
        "# test['AvgTemp'].plot(legend=True)"
      ]
    },
    {
      "cell_type": "code",
      "execution_count": null,
      "metadata": {
        "id": "j1lN9SZoa1ok"
      },
      "outputs": [],
      "source": [
        "# from sklearn.metrics import mean_squared_error\n",
        "# from math import sqrt\n",
        "# test['AvgTemp'].mean()\n",
        "# rmse=sqrt(mean_squared_error(pred,test['AvgTemp']))\n",
        "# print(rmse)"
      ]
    },
    {
      "cell_type": "code",
      "execution_count": null,
      "metadata": {
        "id": "8e4JTTC7a1ok"
      },
      "outputs": [],
      "source": [
        "\"\"\"\n",
        "\n",
        "import statsmodels\n",
        "\n",
        "from statsmodels.tsa.stattools import acf,pacf\n",
        "lag_acf= acf(abc_new_train,nlags=10)\n",
        "lag_pacf= pacf(abc_new_train,nlags=10)\n",
        "\n",
        "from statsmodels.tsa.arima_model import ARIMA\n",
        "model=ARIMA(abc_new_train, order=(2,1,2))\n",
        "results_ARIMA=model.fit(disp=-1)\n",
        "\n",
        "ARIMA_diff_predictions=pd.Series(results_ARIMA.fittedvalues, copy=True)\n",
        "ARIMA_diff_predictions_cumsum = ARIMA_diff_predictions.cumsum()\n",
        "\n",
        "ARIMA_log_prediction = pd.Series(abc_new_test.iloc[0],index=ts_log.index)\n",
        "ARIMA_log_prediction = ARIMA_log_prediction.add(ARIMA_log_predictions_cumsum,fill_value=0)\n",
        "\n",
        "print(\"rsme\",np.sqrt(sum((predictions_ARIMA - abc_new_test)**2)/len(abc_new_test)))\n",
        "\"\"\""
      ]
    },
    {
      "cell_type": "code",
      "execution_count": null,
      "metadata": {
        "id": "Vun2I_YXa1ol"
      },
      "outputs": [],
      "source": [
        "## Ensemble models ::__----"
      ]
    },
    {
      "cell_type": "code",
      "execution_count": null,
      "metadata": {
        "id": "2LW06K_aa1ol"
      },
      "outputs": [],
      "source": [
        "import pandas as pd\n",
        "stores=pd.read_csv(ai_path+'stores.csv')\n",
        "stores.head()"
      ]
    },
    {
      "cell_type": "code",
      "execution_count": null,
      "metadata": {
        "id": "2iZLy85ua1ol"
      },
      "outputs": [],
      "source": [
        "df_train.head() # contains the first ten stores.\n",
        "df_train#.loc[df_train['Store']==2]\n",
        "# df_train.shape"
      ]
    },
    {
      "cell_type": "markdown",
      "metadata": {
        "id": "0hQ2p4D_a1ol"
      },
      "source": [
        "therefore; we are only merging becuase we will be using the df_train + Size columns from the stores dataset as training dataset  and the Type and  columns from the stores dataset as the validation./,,prediction values..!!..,,,,;;;;;;;;"
      ]
    },
    {
      "cell_type": "code",
      "execution_count": null,
      "metadata": {
        "id": "Z9b7isDKa1ol"
      },
      "outputs": [],
      "source": [
        "merged=df_train.merge(stores[['Store','Size','Type']], on='Store')#.head()#(40)\n",
        "merged"
      ]
    },
    {
      "cell_type": "code",
      "execution_count": null,
      "metadata": {
        "id": "Ij2uf9SMa1ol"
      },
      "outputs": [],
      "source": [
        "# merged.loc[merged['Store']==3]\n",
        "merged.isna().sum()"
      ]
    },
    {
      "cell_type": "code",
      "execution_count": null,
      "metadata": {
        "id": "Xv0B-9Yia1ol"
      },
      "outputs": [],
      "source": [
        "merged=merged.fillna(0)"
      ]
    },
    {
      "cell_type": "code",
      "execution_count": null,
      "metadata": {
        "id": "YZZo33IAa1om"
      },
      "outputs": [],
      "source": [
        "# merged.loc[merged['Store']==3]\n",
        "merged.isna().sum()"
      ]
    },
    {
      "cell_type": "code",
      "execution_count": null,
      "metadata": {
        "id": "548tiqDva1om"
      },
      "outputs": [],
      "source": [
        "# merged.drop['Date']\n",
        "merged.columns\n",
        "merged=merged[['Store', 'IsHoliday', 'Temperature', 'gas_price',\n",
        "       'discount_promotional', 'discount_clearance', 'discount_damaged_good',\n",
        "       'discount_competitive', 'CPI', 'Unemployment', 'Size','Type']]\n"
      ]
    },
    {
      "cell_type": "code",
      "execution_count": null,
      "metadata": {
        "id": "pZzTutENa1om"
      },
      "outputs": [],
      "source": [
        "# merged.loc[merged['Store']==1]\n",
        "merged.shape"
      ]
    },
    {
      "cell_type": "code",
      "execution_count": null,
      "metadata": {
        "id": "9x7vqd2Ma1om"
      },
      "outputs": [],
      "source": [
        "#define the predictor and target variables\n",
        "x = merged[['Store',  'Temperature', 'gas_price',\n",
        "       'discount_promotional', 'discount_clearance', 'discount_damaged_good',\n",
        "       'discount_competitive', 'CPI', 'Unemployment', 'Size']]\n",
        "y = merged['Type']"
      ]
    },
    {
      "cell_type": "code",
      "execution_count": null,
      "metadata": {
        "id": "5jpNPk7Va1om"
      },
      "outputs": [],
      "source": [
        "# Split dataset into training set and test set\n",
        "from sklearn.model_selection import train_test_split\n",
        "xtrain, xtest, ytrain, ytest = train_test_split(x, y, test_size=0.5, random_state=0)"
      ]
    },
    {
      "cell_type": "code",
      "execution_count": null,
      "metadata": {
        "id": "f4p55qGGa1om"
      },
      "outputs": [],
      "source": [
        "#scaling\n",
        "from sklearn.preprocessing import StandardScaler\n",
        "sc = StandardScaler()\n",
        "xtrain = sc.fit_transform(xtrain)\n",
        "xtest = sc.transform(xtest)"
      ]
    },
    {
      "cell_type": "code",
      "execution_count": null,
      "metadata": {
        "id": "7Yh9KLGZa1om"
      },
      "outputs": [],
      "source": [
        "from sklearn.tree import DecisionTreeClassifier\n",
        "from sklearn.ensemble import BaggingClassifier\n",
        "dtc = DecisionTreeClassifier()\n",
        "bag_model=BaggingClassifier(base_estimator=dtc, n_estimators=100, bootstrap=True)\n",
        "bag_model=bag_model.fit(xtrain,ytrain)\n",
        "ytest_pred=bag_model.predict(xtest)\n",
        "print(bag_model.score(xtest, ytest))"
      ]
    },
    {
      "cell_type": "code",
      "execution_count": null,
      "metadata": {
        "id": "YSFbB-_aa1om"
      },
      "outputs": [],
      "source": [
        "#BaggingClassifier(dtc, n_estimators= 10 (or 20, 30, 40, 50))"
      ]
    },
    {
      "cell_type": "code",
      "execution_count": null,
      "metadata": {
        "id": "mPBB88xea1on"
      },
      "outputs": [],
      "source": []
    },
    {
      "cell_type": "code",
      "execution_count": null,
      "metadata": {
        "id": "VKe_GKBVa1on"
      },
      "outputs": [],
      "source": [
        "## Deep LEarning part ; using ANN's:-"
      ]
    },
    {
      "cell_type": "code",
      "execution_count": null,
      "metadata": {
        "id": "N3Q_kuSea1on"
      },
      "outputs": [],
      "source": [
        "## Encoding Categorical Variable IsHoliday.,;;::--\n",
        "#Encoding Categorical Variable IsHoliday:-\n",
        "from sklearn.preprocessing import LabelEncoder\n",
        "labelencoder = LabelEncoder()\n",
        "merged['IsHoliday'] = labelencoder.fit_transform(merged['IsHoliday'])\n",
        "merged"
      ]
    },
    {
      "cell_type": "code",
      "execution_count": null,
      "metadata": {
        "id": "ab5ns7zpa1on"
      },
      "outputs": [],
      "source": [
        "#Generating Matrix of Features (X) and (Y) Features:-\n",
        "#define the predictor and target variables\n",
        "X = merged[['Store','IsHoliday',  'Temperature', 'gas_price',\n",
        "       'discount_promotional', 'discount_clearance', 'discount_damaged_good',\n",
        "       'discount_competitive', 'CPI', 'Unemployment', 'Size']]\n",
        "Y = merged['Type']"
      ]
    },
    {
      "cell_type": "code",
      "execution_count": null,
      "metadata": {
        "id": "GQ6skEYaa1on"
      },
      "outputs": [],
      "source": [
        "#Splitting dataset into training and testing dataset\n",
        "from sklearn.model_selection import train_test_split\n",
        "X_train,X_test,Y_train,Y_test = train_test_split(X,Y,test_size=0.2,random_state=0)"
      ]
    },
    {
      "cell_type": "code",
      "execution_count": null,
      "metadata": {
        "id": "uuSi-SyQa1on"
      },
      "outputs": [],
      "source": [
        "##Performing Feature Scaling\n",
        "#Performing Feature Scaling\n",
        "from sklearn.preprocessing import StandardScaler\n",
        "sc = StandardScaler()\n",
        "X_train = sc.fit_transform(X_train)\n",
        "X_test = sc.transform(X_test)"
      ]
    },
    {
      "cell_type": "code",
      "execution_count": null,
      "metadata": {
        "id": "g1WNuPGTa1on"
      },
      "outputs": [],
      "source": [
        "#Initialising ANN\n",
        "import tensorflow as tf\n",
        "ann = tf.keras.models.Sequential()"
      ]
    },
    {
      "cell_type": "code",
      "execution_count": null,
      "metadata": {
        "id": "tPipHo7ja1on"
      },
      "outputs": [],
      "source": [
        " #Adding First Hidden Layer\n",
        "ann.add(tf.keras.layers.Dense(units=6,activation=\"relu\"))"
      ]
    },
    {
      "cell_type": "code",
      "execution_count": null,
      "metadata": {
        "id": "t_NUD4rVa1on"
      },
      "outputs": [],
      "source": [
        " #Adding Second Hidden Layer\n",
        "ann.add(tf.keras.layers.Dense(units=6,activation=\"relu\"))"
      ]
    },
    {
      "cell_type": "code",
      "execution_count": null,
      "metadata": {
        "id": "N1-Wrl7wa1oo"
      },
      "outputs": [],
      "source": [
        " #Adding Output Layer\n",
        "ann.add(tf.keras.layers.Dense(units=1,activation=\"softmax\"))"
      ]
    },
    {
      "cell_type": "code",
      "execution_count": null,
      "metadata": {
        "id": "DrQOwj5Aa1oo"
      },
      "outputs": [],
      "source": [
        "#Compiling ANN\n",
        "ann.compile(optimizer=\"adam\",loss=\"binary_crossentropy\",metrics=['accuracy'])"
      ]
    },
    {
      "cell_type": "code",
      "execution_count": null,
      "metadata": {
        "id": "xKqqWlrya1oo"
      },
      "outputs": [],
      "source": [
        "#Fitting ANN\n",
        "#ann.fit(X_train,Y_train,batch_size=32,epochs = 100)"
      ]
    },
    {
      "cell_type": "code",
      "execution_count": null,
      "metadata": {
        "id": "DxxUNzs5a1oo"
      },
      "outputs": [],
      "source": [
        "#Predicting result for Single Observation\n",
        "#print(ann.predict(sc.transform(X_test)) > Y_test)"
      ]
    },
    {
      "cell_type": "markdown",
      "metadata": {
        "id": "csyeq-5ca1oo"
      },
      "source": [
        "dataset 2:-"
      ]
    },
    {
      "cell_type": "code",
      "execution_count": null,
      "metadata": {
        "id": "WhjjnZafa1oo"
      },
      "outputs": [],
      "source": [
        "##ARIMA:-\n",
        "df_train=pd.read_csv('CECS551_dataset_02/data_train.csv')\n",
        "df_train"
      ]
    },
    {
      "cell_type": "code",
      "execution_count": null,
      "metadata": {
        "id": "3r0ZfCKua1oo"
      },
      "outputs": [],
      "source": [
        "price=pd.read_csv('CECS551_dataset_02/price.csv')\n",
        "price"
      ]
    },
    {
      "cell_type": "code",
      "execution_count": null,
      "metadata": {
        "id": "bxjqNgnXa1oo"
      },
      "outputs": [],
      "source": [
        "import numpy as np\n",
        "import pandas as pd\n",
        "from matplotlib import pyplot as plt\n",
        "from statsmodels.tsa.stattools import adfuller\n",
        "from statsmodels.tsa.seasonal import seasonal_decompose\n",
        "from statsmodels.tsa.arima_model import ARIMA\n",
        "from pandas.plotting import register_matplotlib_converters\n",
        "register_matplotlib_converters()"
      ]
    },
    {
      "cell_type": "code",
      "execution_count": null,
      "metadata": {
        "id": "9JB2-I9Da1oo"
      },
      "outputs": [],
      "source": [
        "plt.xlabel('store_id')\n",
        "plt.ylabel('sell_price')\n",
        "plt.plot(price)"
      ]
    },
    {
      "cell_type": "code",
      "execution_count": null,
      "metadata": {
        "id": "FhQBxejOa1op"
      },
      "outputs": [],
      "source": [
        "result = adfuller(price['sell_price'])\n",
        "print('ADF Statistic: {}'.format(result[0]))\n",
        "print('p-value: {}'.format(result[1]))\n",
        "print('Critical Values:')\n",
        "for key, value in result[4].items():\n",
        "    print('\\t{}: {}'.format(key, value))"
      ]
    },
    {
      "cell_type": "code",
      "execution_count": null,
      "metadata": {
        "id": "OI3OZOvga1op"
      },
      "outputs": [],
      "source": [
        "df_log = np.log(price)\n",
        "plt.plot(df_log)"
      ]
    },
    {
      "cell_type": "code",
      "execution_count": null,
      "metadata": {
        "id": "xo-G9VuKa1op"
      },
      "outputs": [],
      "source": [
        "def get_stationarity(timeseries):\n",
        "    \n",
        "    # rolling statistics\n",
        "    rolling_mean = timeseries.rolling(window=12).mean()\n",
        "    rolling_std = timeseries.rolling(window=12).std()\n",
        "    \n",
        "    # rolling statistics plot\n",
        "    original = plt.plot(timeseries, color='blue', label='Original')\n",
        "    mean = plt.plot(rolling_mean, color='red', label='Rolling Mean')\n",
        "    std = plt.plot(rolling_std, color='black', label='Rolling Std')\n",
        "    plt.legend(loc='best')\n",
        "    plt.title('Rolling Mean & Standard Deviation')\n",
        "    plt.show(block=False)\n",
        "    \n",
        "    # Dickey–Fuller test:\n",
        "    result = adfuller(timeseries['Passengers'])\n",
        "    print('ADF Statistic: {}'.format(result[0]))\n",
        "    print('p-value: {}'.format(result[1]))\n",
        "    print('Critical Values:')\n",
        "    for key, value in result[4].items():\n",
        "        print('\\t{}: {}'.format(key, value))"
      ]
    },
    {
      "cell_type": "code",
      "execution_count": null,
      "metadata": {
        "id": "OEfbcROMa1op"
      },
      "outputs": [],
      "source": [
        "rolling_mean = df_log.rolling(window=12).mean()\n",
        "df_log_minus_mean = df_log - rolling_mean\n",
        "df_log_minus_mean.dropna(inplace=True)\n",
        "get_stationarity(df_log_minus_mean)"
      ]
    },
    {
      "cell_type": "code",
      "execution_count": null,
      "metadata": {
        "id": "6qq4-g6Fa1op"
      },
      "outputs": [],
      "source": [
        "rolling_mean_exp_decay = df_log.ewm(halflife=12, min_periods=0, adjust=True).mean()\n",
        "df_log_exp_decay = df_log - rolling_mean_exp_decay\n",
        "df_log_exp_decay.dropna(inplace=True)\n",
        "get_stationarity(df_log_exp_decay)"
      ]
    },
    {
      "cell_type": "code",
      "execution_count": null,
      "metadata": {
        "id": "H3h-ihyra1oq"
      },
      "outputs": [],
      "source": [
        "df_log_shift = df_log - df_log.shift()\n",
        "df_log_shift.dropna(inplace=True)\n",
        "get_stationarity(df_log_shift)"
      ]
    },
    {
      "cell_type": "code",
      "execution_count": null,
      "metadata": {
        "id": "Ov9mWXz6a1oq"
      },
      "outputs": [],
      "source": [
        "decomposition = seasonal_decompose(df_log) \n",
        "model = ARIMA(df_log, order=(2,1,2))\n",
        "results = model.fit(disp=-1)\n",
        "plt.plot(df_log_shift)\n",
        "plt.plot(results.fittedvalues, color='red')"
      ]
    },
    {
      "cell_type": "code",
      "source": [],
      "metadata": {
        "id": "sGgb_Md1559F"
      },
      "execution_count": null,
      "outputs": []
    },
    {
      "cell_type": "code",
      "execution_count": null,
      "metadata": {
        "id": "sq8rpJdka1oq"
      },
      "outputs": [],
      "source": [
        "predictions_ARIMA_diff = pd.Series(results.fittedvalues, copy=True)\n",
        "predictions_ARIMA_diff_cumsum = predictions_ARIMA_diff.cumsum()\n",
        "predictions_ARIMA_log = pd.Series(df_log['Passengers'].iloc[0], index=df_log.index)\n",
        "predictions_ARIMA_log = predictions_ARIMA_log.add(predictions_ARIMA_diff_cumsum, fill_value=0)\n",
        "predictions_ARIMA = np.exp(predictions_ARIMA_log)\n",
        "plt.plot(df)\n",
        "plt.plot(predictions_ARIMA)"
      ]
    },
    {
      "cell_type": "code",
      "execution_count": null,
      "metadata": {
        "id": "tF08q2z6a1oq"
      },
      "outputs": [],
      "source": [
        "results.plot_predict(1,264)"
      ]
    },
    {
      "cell_type": "code",
      "execution_count": null,
      "metadata": {
        "id": "hk3v0TTaa1oq"
      },
      "outputs": [],
      "source": []
    },
    {
      "cell_type": "code",
      "execution_count": null,
      "metadata": {
        "id": "qBq9bAB_a1oq"
      },
      "outputs": [],
      "source": [
        "## k means:-"
      ]
    },
    {
      "cell_type": "code",
      "execution_count": null,
      "metadata": {
        "id": "lkvlikwia1oq"
      },
      "outputs": [],
      "source": [
        "cl = 50\n",
        "corte = 0.1\n",
        "\n",
        "anterior = 100000000000000\n",
        "cost = [] \n",
        "K_best = cl\n",
        "\n",
        "for k in range (1, cl+1):\n",
        "    # Create a kmeans model on our data, using k clusters.  random_state helps ensure that the algorithm returns the same results each time.\n",
        "    model = KMeans(\n",
        "        n_clusters=k, \n",
        "        init='k-means++', #'random',\n",
        "        n_init=10,\n",
        "        max_iter=300,\n",
        "        tol=1e-04,\n",
        "        random_state=101)\n",
        "\n",
        "    model = model.fit(X_train)\n",
        "\n",
        "    # These are our fitted labels for clusters -- the first cluster has label 0, and the second has label 1.\n",
        "    labels = model.labels_\n",
        " \n",
        "    # Sum of distances of samples to their closest cluster center\n",
        "    interia = model.inertia_\n",
        "    if (K_best == cl) and (((anterior - interia)/anterior) < corte): K_best = k - 1\n",
        "    cost.append(interia)\n",
        "    anterior = interia\n",
        "\n",
        "plt.figure(figsize=(8, 6))\n",
        "plt.scatter(range (1, cl+1), cost, c='red')\n",
        "plt.show()\n",
        "\n",
        "# Create a kmeans model with the best K.\n",
        "print('The best K sugest: ',K_best)\n",
        "model = KMeans(n_clusters=K_best, init='k-means++', n_init=10,max_iter=300, tol=1e-04, random_state=101)\n",
        "\n",
        "# Note I'm scaling the data to normalize it! Important for good results.\n",
        "model = model.fit(X_train)\n",
        "\n",
        "# These are our fitted labels for clusters -- the first cluster has label 0, and the second has label 1.\n",
        "labels = model.labels_\n",
        "\n",
        "# And we'll visualize it:\n",
        "#plt.scatter(X_train[:,0], X_train[:,1], c=model.labels_.astype(float))\n",
        "fig = plt.figure(figsize=(20,5))\n",
        "ax = fig.add_subplot(121)\n",
        "plt.scatter(x = X_train[:,1], y = X_train[:,0], c=model.labels_.astype(float))\n",
        "ax.set_xlabel(feature_vector[1])\n",
        "ax.set_ylabel(feature_vector[0])\n",
        "ax = fig.add_subplot(122)\n",
        "plt.scatter(x = X_train[:,2], y = X_train[:,0], c=model.labels_.astype(float))\n",
        "ax.set_xlabel(feature_vector[2])\n",
        "ax.set_ylabel(feature_vector[0])\n",
        "\n",
        "plt.show()"
      ]
    },
    {
      "cell_type": "code",
      "execution_count": null,
      "metadata": {
        "id": "jfYwIyt_a1or"
      },
      "outputs": [],
      "source": [
        "##k-means:"
      ]
    },
    {
      "cell_type": "code",
      "execution_count": null,
      "metadata": {
        "id": "Hw-OQeD1a1or"
      },
      "outputs": [],
      "source": [
        "cluster_centers = dict()\n",
        "\n",
        "for n_clusters in range(3,K_best+1,2):\n",
        "    fig, (ax1, ax2, ax3) = plt.subplots(1, 3)\n",
        "    fig.set_size_inches(25, 7)\n",
        "    ax1.set_xlim([-0.1, 1])\n",
        "    ax1.set_ylim([0, len(X_train) + (n_clusters + 1) * 10])\n",
        "\n",
        "    clusterer = KMeans(n_clusters=n_clusters, init='k-means++', n_init=10,max_iter=300, tol=1e-04, random_state=101)\n",
        "    cluster_labels = clusterer.fit_predict(X_train)\n",
        "\n",
        "    silhouette_avg = silhouette_score(X = X_train, labels = cluster_labels)\n",
        "    cluster_centers.update({n_clusters :{'cluster_center':clusterer.cluster_centers_,\n",
        "                                         'silhouette_score':silhouette_avg,\n",
        "                                         'labels':cluster_labels}\n",
        "                           })\n",
        "\n",
        "    sample_silhouette_values = silhouette_samples(X = X_train, labels = cluster_labels)\n",
        "    y_lower = 10\n",
        "    for i in range(n_clusters):\n",
        "        ith_cluster_silhouette_values = sample_silhouette_values[cluster_labels == i]\n",
        "\n",
        "        ith_cluster_silhouette_values.sort()\n",
        "\n",
        "        size_cluster_i = ith_cluster_silhouette_values.shape[0]\n",
        "        y_upper = y_lower + size_cluster_i\n",
        "\n",
        "        color = cm.Spectral(float(i) / n_clusters)\n",
        "        ax1.fill_betweenx(np.arange(y_lower, y_upper),\n",
        "                          0, ith_cluster_silhouette_values,\n",
        "                          facecolor=color, edgecolor=color, alpha=0.7)\n",
        "\n",
        "        ax1.text(-0.05, y_lower + 0.5 * size_cluster_i, str(i))\n",
        "        y_lower = y_upper + 10  # 10 for the 0 samples\n",
        "\n",
        "    ax1.set_title(\"The silhouette plot for the various clusters\")\n",
        "    ax1.set_xlabel(\"The silhouette coefficient values\")\n",
        "    ax1.set_ylabel(\"Cluster label\")\n",
        "    ax1.axvline(x=silhouette_avg, color=\"red\", linestyle=\"--\")\n",
        "    ax1.set_yticks([])\n",
        "    ax1.set_xticks([-0.1, 0, 0.1, 0.2, 0.3, 0.4, 0.5, 0.6, 0.7, 0.8, 0.9, 1])\n",
        "    colors = cm.Spectral(cluster_labels.astype(float) / n_clusters)\n",
        "    \n",
        "    centers = clusterer.cluster_centers_\n",
        "    y = 0\n",
        "    x = 1\n",
        "    ax2.scatter(X_train[:, x], X_train[:, y], marker='.', s=30, lw=0, alpha=0.7, c=colors, edgecolor='k')   \n",
        "    ax2.scatter(centers[:, x], centers[:, y], marker='o', c=\"white\", alpha=1, s=200, edgecolor='k')\n",
        "    for i, c in enumerate(centers):\n",
        "        ax2.scatter(c[x], c[y], marker='$%d$' % i, alpha=1, s=50, edgecolor='k')\n",
        "    ax2.set_title(\"{} Clustered data\".format(n_clusters))\n",
        "    ax2.set_xlabel(feature_vector[x])\n",
        "    ax2.set_ylabel(feature_vector[y])\n",
        "\n",
        "    x = 2\n",
        "    ax3.scatter(X_train[:, x], X_train[:, y], marker='.', s=30, lw=0, alpha=0.7, c=colors, edgecolor='k')   \n",
        "    ax3.scatter(centers[:, x], centers[:, y], marker='o', c=\"white\", alpha=1, s=200, edgecolor='k')\n",
        "    for i, c in enumerate(centers):\n",
        "        ax3.scatter(c[x], c[y], marker='$%d$' % i, alpha=1, s=50, edgecolor='k')\n",
        "    ax3.set_title(\"Silhouette score: {:1.2f}\".format(cluster_centers[n_clusters]['silhouette_score']))\n",
        "    ax3.set_xlabel(feature_vector[x])\n",
        "    ax3.set_ylabel(feature_vector[y])\n",
        "    \n",
        "    plt.suptitle((\"Silhouette analysis for KMeans clustering on sample data with n_clusters = %d\" % n_clusters),\n",
        "                 fontsize=14, fontweight='bold')\n",
        "    plt.show()"
      ]
    },
    {
      "cell_type": "code",
      "execution_count": null,
      "metadata": {
        "id": "CZp4QH4ua1or"
      },
      "outputs": [],
      "source": [
        "x_data = ['Cluster 0', 'Cluster 1','Cluster 2','Cluster 3','Cluster 4', 'Cluster 5', 'Cluster 6']\n",
        "colors = ['rgba(93, 164, 214, 0.5)', 'rgba(255, 144, 14, 0.5)', 'rgba(44, 160, 101, 0.5)', 'rgba(255, 65, 54, 0.5)', \n",
        "          'rgba(22, 80, 57, 0.5)', 'rgba(127, 65, 14, 0.5)', 'rgba(207, 114, 255, 0.5)', 'rgba(127, 96, 0, 0.5)']\n",
        "cutoff_quantile = 95\n",
        "\n",
        "for n_clusters in range(3,K_best+1,2):\n",
        "    cl = 'clusters_' + str(n_clusters)\n",
        "    for fild in range(0, 3):\n",
        "        field_to_plot = features[fild]        \n",
        "        y_data = list()\n",
        "        ymax = 0\n",
        "        for i in np.arange(0,n_clusters):\n",
        "            y0 = customer_history_df[customer_history_df[cl]==i][field_to_plot].values\n",
        "            y0 = y0[y0<np.percentile(y0, cutoff_quantile)]\n",
        "            if ymax < max(y0): ymax = max(y0)\n",
        "            y_data.insert(i, y0)\n",
        "\n",
        "        traces = []\n",
        "\n",
        "        for xd, yd, cls in zip(x_data[:n_clusters], y_data, colors[:n_clusters]):\n",
        "                traces.append(go.Box(y=yd, name=xd, boxpoints=False, jitter=0.5, whiskerwidth=0.2, fillcolor=cls,\n",
        "                    marker=dict( size=1, ),\n",
        "                    line=dict(width=1),\n",
        "                ))\n",
        "\n",
        "        layout = go.Layout(\n",
        "            title='Difference in {} with {} Clusters and {:1.2f} Score'.\\\n",
        "            format(field_to_plot, n_clusters, cluster_centers[n_clusters]['silhouette_score']),\n",
        "            yaxis=dict( autorange=True, showgrid=True, zeroline=True,\n",
        "                dtick = int(ymax/10),\n",
        "                gridcolor='black', gridwidth=0.1, zerolinecolor='rgb(255, 255, 255)', zerolinewidth=2, ),\n",
        "            margin=dict(l=40, r=30, b=50, t=50, ),\n",
        "            paper_bgcolor='white',\n",
        "            plot_bgcolor='white',\n",
        "            showlegend=False\n",
        "        )\n",
        "\n",
        "        fig = go.Figure(data=traces, layout=layout)\n",
        "        py.offline.iplot(fig)"
      ]
    },
    {
      "cell_type": "code",
      "execution_count": null,
      "metadata": {
        "id": "mqZaCb2Ba1os"
      },
      "outputs": [],
      "source": []
    }
  ],
  "metadata": {
    "kernelspec": {
      "display_name": "Python 3",
      "language": "python",
      "name": "python3"
    },
    "language_info": {
      "codemirror_mode": {
        "name": "ipython",
        "version": 3
      },
      "file_extension": ".py",
      "mimetype": "text/x-python",
      "name": "python",
      "nbconvert_exporter": "python",
      "pygments_lexer": "ipython3",
      "version": "3.8.5"
    },
    "colab": {
      "provenance": []
    }
  },
  "nbformat": 4,
  "nbformat_minor": 0
}